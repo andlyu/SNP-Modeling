{
 "cells": [
  {
   "attachments": {},
   "cell_type": "markdown",
   "metadata": {},
   "source": [
    "# Here we want to model multiple stocks at once to see how they will perform.\n",
    "The idea is that with the SNP500, we can do some modeling and by longing it, we can get good returns. Yet, we only find a few times when we can really buy on margin. Hence we want to look at more stocks where the return will be higher and we can buy on margin more often. "
   ]
  },
  {
   "cell_type": "code",
   "execution_count": 6,
   "metadata": {},
   "outputs": [],
   "source": [
    "#Download SNP500 data from 1973 to 2023\n",
    "#use Yahoo Finance\n",
    "import pandas as pd\n",
    "import numpy as np\n",
    "import matplotlib.pyplot as plt\n",
    "import ta"
   ]
  },
  {
   "cell_type": "code",
   "execution_count": 2,
   "metadata": {},
   "outputs": [
    {
     "data": {
      "text/html": [
       "<div>\n",
       "<style scoped>\n",
       "    .dataframe tbody tr th:only-of-type {\n",
       "        vertical-align: middle;\n",
       "    }\n",
       "\n",
       "    .dataframe tbody tr th {\n",
       "        vertical-align: top;\n",
       "    }\n",
       "\n",
       "    .dataframe thead th {\n",
       "        text-align: right;\n",
       "    }\n",
       "</style>\n",
       "<table border=\"1\" class=\"dataframe\">\n",
       "  <thead>\n",
       "    <tr style=\"text-align: right;\">\n",
       "      <th></th>\n",
       "      <th>0</th>\n",
       "    </tr>\n",
       "  </thead>\n",
       "  <tbody>\n",
       "    <tr>\n",
       "      <th>0</th>\n",
       "      <td>DDD</td>\n",
       "    </tr>\n",
       "    <tr>\n",
       "      <th>1</th>\n",
       "      <td>MMM</td>\n",
       "    </tr>\n",
       "    <tr>\n",
       "      <th>2</th>\n",
       "      <td>WBAI</td>\n",
       "    </tr>\n",
       "    <tr>\n",
       "      <th>3</th>\n",
       "      <td>WUBA</td>\n",
       "    </tr>\n",
       "    <tr>\n",
       "      <th>4</th>\n",
       "      <td>EGHT</td>\n",
       "    </tr>\n",
       "    <tr>\n",
       "      <th>...</th>\n",
       "      <td>...</td>\n",
       "    </tr>\n",
       "    <tr>\n",
       "      <th>2757</th>\n",
       "      <td>WYY</td>\n",
       "    </tr>\n",
       "    <tr>\n",
       "      <th>2758</th>\n",
       "      <td>WTT</td>\n",
       "    </tr>\n",
       "    <tr>\n",
       "      <th>2759</th>\n",
       "      <td>XTNT</td>\n",
       "    </tr>\n",
       "    <tr>\n",
       "      <th>2760</th>\n",
       "      <td>ZDGE</td>\n",
       "    </tr>\n",
       "    <tr>\n",
       "      <th>2761</th>\n",
       "      <td>ZOM</td>\n",
       "    </tr>\n",
       "  </tbody>\n",
       "</table>\n",
       "<p>2762 rows × 1 columns</p>\n",
       "</div>"
      ],
      "text/plain": [
       "         0\n",
       "0      DDD\n",
       "1      MMM\n",
       "2     WBAI\n",
       "3     WUBA\n",
       "4     EGHT\n",
       "...    ...\n",
       "2757   WYY\n",
       "2758   WTT\n",
       "2759  XTNT\n",
       "2760  ZDGE\n",
       "2761   ZOM\n",
       "\n",
       "[2762 rows x 1 columns]"
      ]
     },
     "execution_count": 2,
     "metadata": {},
     "output_type": "execute_result"
    }
   ],
   "source": [
    "#load simple_stock_modeling/bats_symbols.csv\n",
    "import pandas as pd\n",
    "bats_symbols = pd.read_csv(\"simple_stock_modeling/tickers.csv\", header=None)\n",
    "bats_symbols"
   ]
  },
  {
   "cell_type": "code",
   "execution_count": 3,
   "metadata": {},
   "outputs": [],
   "source": [
    "def get_market_cap(symbol, year):\n",
    "    stock = yf.Ticker(symbol)\n",
    "    start_date = str(year) + '-01-01'\n",
    "    end_date = str(year) + '-01-05'\n",
    "    historical_data = stock.history(start=start_date, end=end_date, interval='1d')\n",
    "    if len(historical_data) > 0:\n",
    "        # Calculate market cap as the product of the last close price and outstanding shares\n",
    "        last_close_price = historical_data['Close'][-1]\n",
    "        outstanding_shares = stock.info['sharesOutstanding']\n",
    "        market_cap = last_close_price * outstanding_shares\n",
    "        return market_cap\n",
    "    else:\n",
    "        return None"
   ]
  },
  {
   "cell_type": "code",
   "execution_count": 4,
   "metadata": {},
   "outputs": [
    {
     "name": "stderr",
     "output_type": "stream",
     "text": [
      "  0%|          | 4/2762 [00:01<11:54,  3.86it/s]"
     ]
    },
    {
     "name": "stdout",
     "output_type": "stream",
     "text": [
      "Got error from yahoo api for ticker WBAI, Error: {'code': 'Not Found', 'description': 'No data found, symbol may be delisted'}\n",
      "- WBAI: No timezone found, symbol may be delisted\n",
      "Got error from yahoo api for ticker WUBA, Error: {'code': 'Not Found', 'description': 'No data found, symbol may be delisted'}\n",
      "- WUBA: No timezone found, symbol may be delisted\n"
     ]
    },
    {
     "name": "stderr",
     "output_type": "stream",
     "text": [
      "  0%|          | 6/2762 [00:02<15:10,  3.03it/s]"
     ]
    },
    {
     "name": "stdout",
     "output_type": "stream",
     "text": [
      "Got error from yahoo api for ticker AHC, Error: {'code': 'Not Found', 'description': 'No data found, symbol may be delisted'}\n",
      "- AHC: No timezone found, symbol may be delisted\n"
     ]
    },
    {
     "name": "stderr",
     "output_type": "stream",
     "text": [
      "  0%|          | 10/2762 [00:03<15:55,  2.88it/s]"
     ]
    },
    {
     "name": "stdout",
     "output_type": "stream",
     "text": [
      "AAN: Data doesn't exist for startDate = 1451624400, endDate = 1451970000\n"
     ]
    },
    {
     "name": "stderr",
     "output_type": "stream",
     "text": [
      "  1%|          | 19/2762 [00:07<16:48,  2.72it/s]"
     ]
    },
    {
     "name": "stdout",
     "output_type": "stream",
     "text": [
      "ASGI: Data doesn't exist for startDate = 1451624400, endDate = 1451970000\n"
     ]
    },
    {
     "name": "stderr",
     "output_type": "stream",
     "text": [
      "  1%|          | 23/2762 [00:09<15:57,  2.86it/s]"
     ]
    },
    {
     "name": "stdout",
     "output_type": "stream",
     "text": [
      "ACEL: Data doesn't exist for startDate = 1451624400, endDate = 1451970000\n"
     ]
    },
    {
     "name": "stderr",
     "output_type": "stream",
     "text": [
      "  1%|          | 26/2762 [00:10<15:18,  2.98it/s]"
     ]
    },
    {
     "name": "stdout",
     "output_type": "stream",
     "text": [
      "Got error from yahoo api for ticker ATV, Error: {'code': 'Not Found', 'description': 'No data found, symbol may be delisted'}\n",
      "- ATV: No timezone found, symbol may be delisted\n"
     ]
    },
    {
     "name": "stderr",
     "output_type": "stream",
     "text": [
      "  1%|          | 28/2762 [00:10<14:13,  3.20it/s]"
     ]
    },
    {
     "name": "stdout",
     "output_type": "stream",
     "text": [
      "GOLF: Data doesn't exist for startDate = 1451624400, endDate = 1451970000\n"
     ]
    },
    {
     "name": "stderr",
     "output_type": "stream",
     "text": [
      "  1%|          | 31/2762 [00:12<14:35,  3.12it/s]"
     ]
    },
    {
     "name": "stdout",
     "output_type": "stream",
     "text": [
      "ADCT: Data doesn't exist for startDate = 1451624400, endDate = 1451970000\n"
     ]
    },
    {
     "name": "stderr",
     "output_type": "stream",
     "text": [
      "  1%|          | 34/2762 [00:12<11:08,  4.08it/s]"
     ]
    },
    {
     "name": "stdout",
     "output_type": "stream",
     "text": [
      "ADNT: Data doesn't exist for startDate = 1451624400, endDate = 1451970000\n",
      "ADT: Data doesn't exist for startDate = 1451624400, endDate = 1451970000\n"
     ]
    },
    {
     "name": "stderr",
     "output_type": "stream",
     "text": [
      "  1%|▏         | 37/2762 [00:13<12:54,  3.52it/s]"
     ]
    },
    {
     "name": "stdout",
     "output_type": "stream",
     "text": [
      "Got error from yahoo api for ticker ADSW, Error: {'code': 'Not Found', 'description': 'No data found, symbol may be delisted'}\n",
      "- ADSW: No timezone found, symbol may be delisted\n"
     ]
    },
    {
     "name": "stderr",
     "output_type": "stream",
     "text": [
      "  1%|▏         | 39/2762 [00:14<12:26,  3.65it/s]"
     ]
    },
    {
     "name": "stdout",
     "output_type": "stream",
     "text": [
      "ASIX: Data doesn't exist for startDate = 1451624400, endDate = 1451970000\n"
     ]
    },
    {
     "name": "stderr",
     "output_type": "stream",
     "text": [
      "  2%|▏         | 42/2762 [00:15<13:30,  3.36it/s]"
     ]
    },
    {
     "name": "stdout",
     "output_type": "stream",
     "text": [
      "AEFC: Data doesn't exist for startDate = 1451624400, endDate = 1451970000\n"
     ]
    },
    {
     "name": "stderr",
     "output_type": "stream",
     "text": [
      "  2%|▏         | 48/2762 [00:17<15:41,  2.88it/s]"
     ]
    },
    {
     "name": "stdout",
     "output_type": "stream",
     "text": [
      "MGR: Data doesn't exist for startDate = 1451624400, endDate = 1451970000\n"
     ]
    },
    {
     "name": "stderr",
     "output_type": "stream",
     "text": [
      "  2%|▏         | 62/2762 [00:24<17:14,  2.61it/s]"
     ]
    },
    {
     "name": "stdout",
     "output_type": "stream",
     "text": [
      "ACI: Data doesn't exist for startDate = 1451624400, endDate = 1451970000\n"
     ]
    },
    {
     "name": "stderr",
     "output_type": "stream",
     "text": [
      "  2%|▏         | 64/2762 [00:25<15:14,  2.95it/s]"
     ]
    },
    {
     "name": "stdout",
     "output_type": "stream",
     "text": [
      "ALC: Data doesn't exist for startDate = 1451624400, endDate = 1451970000\n"
     ]
    },
    {
     "name": "stderr",
     "output_type": "stream",
     "text": [
      "  3%|▎         | 70/2762 [00:27<12:48,  3.50it/s]"
     ]
    },
    {
     "name": "stdout",
     "output_type": "stream",
     "text": [
      "AQNA: Data doesn't exist for startDate = 1451624400, endDate = 1451970000\n",
      "AQNB: Data doesn't exist for startDate = 1451624400, endDate = 1451970000\n"
     ]
    },
    {
     "name": "stderr",
     "output_type": "stream",
     "text": [
      "  3%|▎         | 72/2762 [00:27<12:04,  3.71it/s]"
     ]
    },
    {
     "name": "stdout",
     "output_type": "stream",
     "text": [
      "Got error from yahoo api for ticker Y, Error: {'code': 'Not Found', 'description': 'No data found, symbol may be delisted'}\n",
      "- Y: No timezone found, symbol may be delisted\n"
     ]
    },
    {
     "name": "stderr",
     "output_type": "stream",
     "text": [
      "  3%|▎         | 76/2762 [00:29<15:11,  2.95it/s]"
     ]
    },
    {
     "name": "stdout",
     "output_type": "stream",
     "text": [
      "Got error from yahoo api for ticker ADS, Error: {'code': 'Not Found', 'description': 'No data found, symbol may be delisted'}\n",
      "- ADS: No timezone found, symbol may be delisted\n"
     ]
    },
    {
     "name": "stderr",
     "output_type": "stream",
     "text": [
      "  3%|▎         | 81/2762 [00:31<12:42,  3.52it/s]"
     ]
    },
    {
     "name": "stdout",
     "output_type": "stream",
     "text": [
      "AIO: Data doesn't exist for startDate = 1451624400, endDate = 1451970000\n",
      "CBH: Data doesn't exist for startDate = 1451624400, endDate = 1451970000\n"
     ]
    },
    {
     "name": "stderr",
     "output_type": "stream",
     "text": [
      "  3%|▎         | 91/2762 [00:35<13:11,  3.37it/s]"
     ]
    },
    {
     "name": "stdout",
     "output_type": "stream",
     "text": [
      "PINE: Data doesn't exist for startDate = 1451624400, endDate = 1451970000\n",
      "ALTG: Data doesn't exist for startDate = 1451624400, endDate = 1451970000\n"
     ]
    },
    {
     "name": "stderr",
     "output_type": "stream",
     "text": [
      "  3%|▎         | 93/2762 [00:35<09:50,  4.52it/s]"
     ]
    },
    {
     "name": "stdout",
     "output_type": "stream",
     "text": [
      "AYX: Data doesn't exist for startDate = 1451624400, endDate = 1451970000\n",
      "ATUS: Data doesn't exist for startDate = 1451624400, endDate = 1451970000\n"
     ]
    },
    {
     "name": "stderr",
     "output_type": "stream",
     "text": [
      "  3%|▎         | 96/2762 [00:36<09:56,  4.47it/s]"
     ]
    },
    {
     "name": "stdout",
     "output_type": "stream",
     "text": [
      "Got error from yahoo api for ticker ACH, Error: {'code': 'Not Found', 'description': 'No data found, symbol may be delisted'}\n",
      "- ACH: No timezone found, symbol may be delisted\n",
      "Got error from yahoo api for ticker ALUS, Error: {'code': 'Not Found', 'description': 'No data found, symbol may be delisted'}\n",
      "- ALUS: No timezone found, symbol may be delisted\n"
     ]
    },
    {
     "name": "stderr",
     "output_type": "stream",
     "text": [
      "  4%|▎         | 103/2762 [00:39<15:24,  2.88it/s]"
     ]
    },
    {
     "name": "stdout",
     "output_type": "stream",
     "text": [
      "Got error from yahoo api for ticker AMOV, Error: {'code': 'Not Found', 'description': 'No data found, symbol may be delisted'}\n",
      "- AMOV: No timezone found, symbol may be delisted\n"
     ]
    },
    {
     "name": "stderr",
     "output_type": "stream",
     "text": [
      "  4%|▍         | 107/2762 [00:40<14:46,  2.99it/s]"
     ]
    },
    {
     "name": "stdout",
     "output_type": "stream",
     "text": [
      "Got error from yahoo api for ticker ACC, Error: {'code': 'Not Found', 'description': 'No data found, symbol may be delisted'}\n",
      "- ACC: No timezone found, symbol may be delisted\n"
     ]
    },
    {
     "name": "stderr",
     "output_type": "stream",
     "text": [
      "  4%|▍         | 114/2762 [00:43<13:11,  3.35it/s]"
     ]
    },
    {
     "name": "stdout",
     "output_type": "stream",
     "text": [
      "AFGB: Data doesn't exist for startDate = 1451624400, endDate = 1451970000\n",
      "AFGC: Data doesn't exist for startDate = 1451624400, endDate = 1451970000\n"
     ]
    },
    {
     "name": "stderr",
     "output_type": "stream",
     "text": [
      "  4%|▍         | 116/2762 [00:43<09:32,  4.62it/s]"
     ]
    },
    {
     "name": "stdout",
     "output_type": "stream",
     "text": [
      "AFGD: Data doesn't exist for startDate = 1451624400, endDate = 1451970000\n",
      "Got error from yahoo api for ticker AFGH, Error: {'code': 'Not Found', 'description': 'No data found, symbol may be delisted'}\n",
      "- AFGH: No timezone found, symbol may be delisted\n"
     ]
    },
    {
     "name": "stderr",
     "output_type": "stream",
     "text": [
      "  4%|▍         | 120/2762 [00:45<13:36,  3.24it/s]"
     ]
    },
    {
     "name": "stdout",
     "output_type": "stream",
     "text": [
      "Got error from yahoo api for ticker ARA, Error: {'code': 'Not Found', 'description': 'No data found, symbol may be delisted'}\n",
      "- ARA: No timezone found, symbol may be delisted\n"
     ]
    },
    {
     "name": "stderr",
     "output_type": "stream",
     "text": [
      "  5%|▍         | 125/2762 [00:47<15:13,  2.89it/s]"
     ]
    },
    {
     "name": "stdout",
     "output_type": "stream",
     "text": [
      "COLD: Data doesn't exist for startDate = 1451624400, endDate = 1451970000\n"
     ]
    },
    {
     "name": "stderr",
     "output_type": "stream",
     "text": [
      "  5%|▍         | 128/2762 [00:48<14:08,  3.11it/s]"
     ]
    },
    {
     "name": "stdout",
     "output_type": "stream",
     "text": [
      "Got error from yahoo api for ticker RYCE, Error: {'code': 'Not Found', 'description': 'No data found, symbol may be delisted'}\n",
      "- RYCE: No timezone found, symbol may be delisted\n"
     ]
    },
    {
     "name": "stderr",
     "output_type": "stream",
     "text": [
      "  5%|▍         | 130/2762 [00:49<12:56,  3.39it/s]"
     ]
    },
    {
     "name": "stdout",
     "output_type": "stream",
     "text": [
      "AMRX: Data doesn't exist for startDate = 1451624400, endDate = 1451970000\n"
     ]
    },
    {
     "name": "stderr",
     "output_type": "stream",
     "text": [
      "  5%|▍         | 134/2762 [00:50<14:05,  3.11it/s]"
     ]
    },
    {
     "name": "stdout",
     "output_type": "stream",
     "text": [
      "Got error from yahoo api for ticker HKIB, Error: {'code': 'Not Found', 'description': 'No data found, symbol may be delisted'}\n",
      "- HKIB: No timezone found, symbol may be delisted\n"
     ]
    },
    {
     "name": "stderr",
     "output_type": "stream",
     "text": [
      "  5%|▍         | 137/2762 [00:51<11:14,  3.89it/s]"
     ]
    },
    {
     "name": "stdout",
     "output_type": "stream",
     "text": [
      "Got error from yahoo api for ticker PLAN, Error: {'code': 'Not Found', 'description': 'No data found, symbol may be delisted'}\n",
      "- PLAN: No timezone found, symbol may be delisted\n",
      "DYFN: Data doesn't exist for startDate = 1451624400, endDate = 1451970000\n"
     ]
    },
    {
     "name": "stderr",
     "output_type": "stream",
     "text": [
      "  5%|▍         | 138/2762 [00:51<09:44,  4.49it/s]"
     ]
    },
    {
     "name": "stdout",
     "output_type": "stream",
     "text": [
      "FINS: Data doesn't exist for startDate = 1451624400, endDate = 1451970000\n"
     ]
    },
    {
     "name": "stderr",
     "output_type": "stream",
     "text": [
      "  5%|▌         | 142/2762 [00:53<13:42,  3.19it/s]"
     ]
    },
    {
     "name": "stdout",
     "output_type": "stream",
     "text": [
      "AM: Data doesn't exist for startDate = 1451624400, endDate = 1451970000\n"
     ]
    },
    {
     "name": "stderr",
     "output_type": "stream",
     "text": [
      "  5%|▌         | 145/2762 [00:53<10:34,  4.12it/s]"
     ]
    },
    {
     "name": "stdout",
     "output_type": "stream",
     "text": [
      "Got error from yahoo api for ticker ANTM, Error: {'code': 'Not Found', 'description': 'No data found, symbol may be delisted'}\n",
      "- ANTM: No timezone found, symbol may be delisted\n",
      "Got error from yahoo api for ticker ANH, Error: {'code': 'Not Found', 'description': 'No data found, symbol may be delisted'}\n",
      "- ANH: No timezone found, symbol may be delisted\n"
     ]
    },
    {
     "name": "stderr",
     "output_type": "stream",
     "text": [
      "  5%|▌         | 148/2762 [00:54<12:58,  3.36it/s]"
     ]
    },
    {
     "name": "stdout",
     "output_type": "stream",
     "text": [
      "APG: Data doesn't exist for startDate = 1451624400, endDate = 1451970000\n"
     ]
    },
    {
     "name": "stderr",
     "output_type": "stream",
     "text": [
      "  6%|▌         | 162/2762 [01:01<14:41,  2.95it/s]"
     ]
    },
    {
     "name": "stdout",
     "output_type": "stream",
     "text": [
      "MTCN: Data doesn't exist for startDate = 1451624400, endDate = 1451970000\n",
      "ARCH: Data doesn't exist for startDate = 1451624400, endDate = 1451970000\n"
     ]
    },
    {
     "name": "stderr",
     "output_type": "stream",
     "text": [
      "  6%|▌         | 165/2762 [01:02<14:14,  3.04it/s]"
     ]
    },
    {
     "name": "stdout",
     "output_type": "stream",
     "text": [
      "ARNC: Data doesn't exist for startDate = 1451624400, endDate = 1451970000\n"
     ]
    },
    {
     "name": "stderr",
     "output_type": "stream",
     "text": [
      "  6%|▌         | 168/2762 [01:02<10:57,  3.94it/s]"
     ]
    },
    {
     "name": "stdout",
     "output_type": "stream",
     "text": [
      "ACA: Data doesn't exist for startDate = 1451624400, endDate = 1451970000\n",
      "RCUS: Data doesn't exist for startDate = 1451624400, endDate = 1451970000\n"
     ]
    },
    {
     "name": "stderr",
     "output_type": "stream",
     "text": [
      "  6%|▌         | 169/2762 [01:03<09:28,  4.56it/s]"
     ]
    },
    {
     "name": "stdout",
     "output_type": "stream",
     "text": [
      "Got error from yahoo api for ticker ARD, Error: {'code': 'Not Found', 'description': 'No data found, symbol may be delisted'}\n",
      "- ARD: No timezone found, symbol may be delisted\n"
     ]
    },
    {
     "name": "stderr",
     "output_type": "stream",
     "text": [
      "  6%|▌         | 171/2762 [01:03<10:16,  4.20it/s]"
     ]
    },
    {
     "name": "stdout",
     "output_type": "stream",
     "text": [
      "Got error from yahoo api for ticker AFC, Error: {'code': 'Not Found', 'description': 'No data found, symbol may be delisted'}\n",
      "- AFC: No timezone found, symbol may be delisted\n"
     ]
    },
    {
     "name": "stderr",
     "output_type": "stream",
     "text": [
      "  6%|▋         | 179/2762 [01:07<15:32,  2.77it/s]"
     ]
    },
    {
     "name": "stdout",
     "output_type": "stream",
     "text": [
      "AI: Data doesn't exist for startDate = 1451624400, endDate = 1451970000\n"
     ]
    },
    {
     "name": "stderr",
     "output_type": "stream",
     "text": [
      "  7%|▋         | 182/2762 [01:07<11:08,  3.86it/s]"
     ]
    },
    {
     "name": "stdout",
     "output_type": "stream",
     "text": [
      "Got error from yahoo api for ticker AIW, Error: {'code': 'Not Found', 'description': 'No data found, symbol may be delisted'}\n",
      "- AIW: No timezone found, symbol may be delisted\n",
      "ARLO: Data doesn't exist for startDate = 1451624400, endDate = 1451970000\n"
     ]
    },
    {
     "name": "stderr",
     "output_type": "stream",
     "text": [
      "  7%|▋         | 185/2762 [01:08<12:21,  3.48it/s]"
     ]
    },
    {
     "name": "stdout",
     "output_type": "stream",
     "text": [
      "Got error from yahoo api for ticker AFI, Error: {'code': 'Not Found', 'description': 'No data found, symbol may be delisted'}\n",
      "- AFI: No timezone found, symbol may be delisted\n"
     ]
    },
    {
     "name": "stderr",
     "output_type": "stream",
     "text": [
      "  7%|▋         | 197/2762 [01:14<16:09,  2.64it/s]"
     ]
    },
    {
     "name": "stdout",
     "output_type": "stream",
     "text": [
      "AMK: Data doesn't exist for startDate = 1451624400, endDate = 1451970000\n"
     ]
    },
    {
     "name": "stderr",
     "output_type": "stream",
     "text": [
      "  7%|▋         | 201/2762 [01:15<15:01,  2.84it/s]"
     ]
    },
    {
     "name": "stdout",
     "output_type": "stream",
     "text": [
      "Got error from yahoo api for ticker AIZP, Error: {'code': 'Not Found', 'description': 'No data found, symbol may be delisted'}\n",
      "- AIZP: No timezone found, symbol may be delisted\n"
     ]
    },
    {
     "name": "stderr",
     "output_type": "stream",
     "text": [
      "  7%|▋         | 204/2762 [01:16<14:25,  2.96it/s]"
     ]
    },
    {
     "name": "stdout",
     "output_type": "stream",
     "text": [
      "Got error from yahoo api for ticker HOME, Error: {'code': 'Not Found', 'description': 'No data found, symbol may be delisted'}\n",
      "- HOME: No timezone found, symbol may be delisted\n"
     ]
    },
    {
     "name": "stderr",
     "output_type": "stream",
     "text": [
      "  7%|▋         | 207/2762 [01:17<10:54,  3.90it/s]"
     ]
    },
    {
     "name": "stdout",
     "output_type": "stream",
     "text": [
      "TBB: Data doesn't exist for startDate = 1451624400, endDate = 1451970000\n",
      "TBC: Data doesn't exist for startDate = 1451624400, endDate = 1451970000\n"
     ]
    },
    {
     "name": "stderr",
     "output_type": "stream",
     "text": [
      "  8%|▊         | 210/2762 [01:18<09:58,  4.26it/s]"
     ]
    },
    {
     "name": "stdout",
     "output_type": "stream",
     "text": [
      "Got error from yahoo api for ticker ATH, Error: {'code': 'Not Found', 'description': 'No data found, symbol may be delisted'}\n",
      "- ATH: No timezone found, symbol may be delisted\n",
      "ATKR: Data doesn't exist for startDate = 1451624400, endDate = 1451970000\n"
     ]
    },
    {
     "name": "stderr",
     "output_type": "stream",
     "text": [
      "  8%|▊         | 212/2762 [01:18<07:55,  5.37it/s]"
     ]
    },
    {
     "name": "stdout",
     "output_type": "stream",
     "text": [
      "Got error from yahoo api for ticker AT, Error: {'code': 'Not Found', 'description': 'No data found, symbol may be delisted'}\n",
      "- AT: No timezone found, symbol may be delisted\n",
      "Got error from yahoo api for ticker ATCO, Error: {'code': 'Not Found', 'description': 'No data found, symbol may be delisted'}\n",
      "- ATCO: No timezone found, symbol may be delisted\n"
     ]
    },
    {
     "name": "stderr",
     "output_type": "stream",
     "text": [
      "  8%|▊         | 219/2762 [01:21<14:34,  2.91it/s]"
     ]
    },
    {
     "name": "stdout",
     "output_type": "stream",
     "text": [
      "Got error from yahoo api for ticker AVLR, Error: {'code': 'Not Found', 'description': 'No data found, symbol may be delisted'}\n",
      "- AVLR: No timezone found, symbol may be delisted\n"
     ]
    },
    {
     "name": "stderr",
     "output_type": "stream",
     "text": [
      "  8%|▊         | 224/2762 [01:23<11:44,  3.60it/s]"
     ]
    },
    {
     "name": "stdout",
     "output_type": "stream",
     "text": [
      "AVTR: Data doesn't exist for startDate = 1451624400, endDate = 1451970000\n",
      "Got error from yahoo api for ticker AVYA, Error: {'code': 'Not Found', 'description': 'No data found, symbol may be delisted'}\n",
      "- AVYA: No timezone found, symbol may be delisted\n"
     ]
    },
    {
     "name": "stderr",
     "output_type": "stream",
     "text": [
      "  8%|▊         | 232/2762 [01:26<12:19,  3.42it/s]"
     ]
    },
    {
     "name": "stdout",
     "output_type": "stream",
     "text": [
      "Got error from yahoo api for ticker AXO, Error: {'code': 'Not Found', 'description': 'No data found, symbol may be delisted'}\n",
      "- AXO: No timezone found, symbol may be delisted\n",
      "AZUL: Data doesn't exist for startDate = 1451624400, endDate = 1451970000\n"
     ]
    },
    {
     "name": "stderr",
     "output_type": "stream",
     "text": [
      "  8%|▊         | 233/2762 [01:26<10:25,  4.04it/s]"
     ]
    },
    {
     "name": "stdout",
     "output_type": "stream",
     "text": [
      "AZRE: Data doesn't exist for startDate = 1451624400, endDate = 1451970000\n"
     ]
    },
    {
     "name": "stderr",
     "output_type": "stream",
     "text": [
      "  9%|▊         | 236/2762 [01:27<12:04,  3.48it/s]"
     ]
    },
    {
     "name": "stdout",
     "output_type": "stream",
     "text": [
      "Got error from yahoo api for ticker BMRG, Error: {'code': 'Not Found', 'description': 'No data found, symbol may be delisted'}\n",
      "- BMRG: No timezone found, symbol may be delisted\n"
     ]
    },
    {
     "name": "stderr",
     "output_type": "stream",
     "text": [
      "  9%|▊         | 240/2762 [01:29<13:54,  3.02it/s]"
     ]
    },
    {
     "name": "stdout",
     "output_type": "stream",
     "text": [
      "BCSF: Data doesn't exist for startDate = 1451624400, endDate = 1451970000\n"
     ]
    },
    {
     "name": "stderr",
     "output_type": "stream",
     "text": [
      "  9%|▉         | 243/2762 [01:30<13:33,  3.10it/s]"
     ]
    },
    {
     "name": "stdout",
     "output_type": "stream",
     "text": [
      "Got error from yahoo api for ticker BLL, Error: {'code': 'Not Found', 'description': 'No data found, symbol may be delisted'}\n",
      "- BLL: No timezone found, symbol may be delisted\n"
     ]
    },
    {
     "name": "stderr",
     "output_type": "stream",
     "text": [
      "  9%|▉         | 256/2762 [01:37<20:22,  2.05it/s]"
     ]
    },
    {
     "name": "stdout",
     "output_type": "stream",
     "text": [
      "Got error from yahoo api for ticker BXS, Error: {'code': 'Not Found', 'description': 'No data found, symbol may be delisted'}\n",
      "- BXS: No timezone found, symbol may be delisted\n"
     ]
    },
    {
     "name": "stderr",
     "output_type": "stream",
     "text": [
      "  9%|▉         | 260/2762 [01:39<21:57,  1.90it/s]"
     ]
    },
    {
     "name": "stdout",
     "output_type": "stream",
     "text": [
      "NTB: Data doesn't exist for startDate = 1451624400, endDate = 1451970000\n"
     ]
    },
    {
     "name": "stderr",
     "output_type": "stream",
     "text": [
      " 10%|▉         | 273/2762 [01:47<19:54,  2.08it/s]"
     ]
    },
    {
     "name": "stdout",
     "output_type": "stream",
     "text": [
      "Got error from yahoo api for ticker BBX, Error: {'code': 'Not Found', 'description': 'No data found, symbol may be delisted'}\n",
      "- BBX: No timezone found, symbol may be delisted\n"
     ]
    },
    {
     "name": "stderr",
     "output_type": "stream",
     "text": [
      " 10%|█         | 277/2762 [01:49<21:50,  1.90it/s]"
     ]
    },
    {
     "name": "stdout",
     "output_type": "stream",
     "text": [
      "BDXB: Data doesn't exist for startDate = 1451624400, endDate = 1451970000\n"
     ]
    },
    {
     "name": "stderr",
     "output_type": "stream",
     "text": [
      " 10%|█         | 279/2762 [01:50<19:28,  2.13it/s]"
     ]
    },
    {
     "name": "stdout",
     "output_type": "stream",
     "text": [
      "BRBR: Data doesn't exist for startDate = 1451624400, endDate = 1451970000\n"
     ]
    },
    {
     "name": "stderr",
     "output_type": "stream",
     "text": [
      " 10%|█         | 284/2762 [01:53<20:54,  1.98it/s]"
     ]
    },
    {
     "name": "stdout",
     "output_type": "stream",
     "text": [
      "BEST: Data doesn't exist for startDate = 1451624400, endDate = 1451970000\n"
     ]
    },
    {
     "name": "stderr",
     "output_type": "stream",
     "text": [
      " 10%|█         | 287/2762 [01:55<18:27,  2.24it/s]"
     ]
    },
    {
     "name": "stdout",
     "output_type": "stream",
     "text": [
      "Got error from yahoo api for ticker BBL, Error: {'code': 'Not Found', 'description': 'No data found, symbol may be delisted'}\n",
      "- BBL: No timezone found, symbol may be delisted\n"
     ]
    },
    {
     "name": "stderr",
     "output_type": "stream",
     "text": [
      " 10%|█         | 290/2762 [01:56<19:08,  2.15it/s]"
     ]
    },
    {
     "name": "stdout",
     "output_type": "stream",
     "text": [
      "BILL: Data doesn't exist for startDate = 1451624400, endDate = 1451970000\n"
     ]
    },
    {
     "name": "stderr",
     "output_type": "stream",
     "text": [
      " 11%|█         | 291/2762 [01:56<16:58,  2.43it/s]"
     ]
    },
    {
     "name": "stdout",
     "output_type": "stream",
     "text": [
      "BHVN: Data doesn't exist for startDate = 1451624400, endDate = 1451970000\n"
     ]
    },
    {
     "name": "stderr",
     "output_type": "stream",
     "text": [
      " 11%|█         | 293/2762 [01:57<14:55,  2.76it/s]"
     ]
    },
    {
     "name": "stdout",
     "output_type": "stream",
     "text": [
      "Got error from yahoo api for ticker BITA, Error: {'code': 'Not Found', 'description': 'No data found, symbol may be delisted'}\n",
      "- BITA: No timezone found, symbol may be delisted\n"
     ]
    },
    {
     "name": "stderr",
     "output_type": "stream",
     "text": [
      " 11%|█         | 294/2762 [01:57<14:01,  2.93it/s]"
     ]
    },
    {
     "name": "stdout",
     "output_type": "stream",
     "text": [
      "BJ: Data doesn't exist for startDate = 1451624400, endDate = 1451970000\n"
     ]
    },
    {
     "name": "stderr",
     "output_type": "stream",
     "text": [
      " 11%|█         | 299/2762 [02:00<17:15,  2.38it/s]"
     ]
    },
    {
     "name": "stdout",
     "output_type": "stream",
     "text": [
      "Got error from yahoo api for ticker BGIO, Error: {'code': 'Not Found', 'description': 'No data found, symbol may be delisted'}\n",
      "- BGIO: No timezone found, symbol may be delisted\n"
     ]
    },
    {
     "name": "stderr",
     "output_type": "stream",
     "text": [
      " 11%|█         | 310/2762 [02:07<21:31,  1.90it/s]"
     ]
    },
    {
     "name": "stdout",
     "output_type": "stream",
     "text": [
      "Got error from yahoo api for ticker BFO, Error: {'code': 'Not Found', 'description': 'No data found, symbol may be delisted'}\n",
      "- BFO: No timezone found, symbol may be delisted\n"
     ]
    },
    {
     "name": "stderr",
     "output_type": "stream",
     "text": [
      " 11%|█▏        | 315/2762 [02:09<16:44,  2.44it/s]"
     ]
    },
    {
     "name": "stdout",
     "output_type": "stream",
     "text": [
      "BMEZ: Data doesn't exist for startDate = 1451624400, endDate = 1451970000\n",
      "Got error from yahoo api for ticker BAF, Error: {'code': 'Not Found', 'description': 'No data found, symbol may be delisted'}\n",
      "- BAF: No timezone found, symbol may be delisted\n"
     ]
    },
    {
     "name": "stderr",
     "output_type": "stream",
     "text": [
      " 12%|█▏        | 321/2762 [02:12<15:58,  2.55it/s]"
     ]
    },
    {
     "name": "stdout",
     "output_type": "stream",
     "text": [
      "Got error from yahoo api for ticker BZM, Error: {'code': 'Not Found', 'description': 'No data found, symbol may be delisted'}\n",
      "- BZM: No timezone found, symbol may be delisted\n",
      "Got error from yahoo api for ticker MHE, Error: {'code': 'Not Found', 'description': 'No data found, symbol may be delisted'}\n",
      "- MHE: No timezone found, symbol may be delisted\n"
     ]
    },
    {
     "name": "stderr",
     "output_type": "stream",
     "text": [
      " 12%|█▏        | 326/2762 [02:15<14:42,  2.76it/s]"
     ]
    },
    {
     "name": "stdout",
     "output_type": "stream",
     "text": [
      "Got error from yahoo api for ticker BKK, Error: {'code': 'Not Found', 'description': 'No data found, symbol may be delisted'}\n",
      "- BKK: No timezone found, symbol may be delisted\n",
      "Got error from yahoo api for ticker BBK, Error: {'code': 'Not Found', 'description': 'No data found, symbol may be delisted'}\n",
      "- BBK: No timezone found, symbol may be delisted\n"
     ]
    },
    {
     "name": "stderr",
     "output_type": "stream",
     "text": [
      " 12%|█▏        | 327/2762 [02:15<12:03,  3.37it/s]"
     ]
    },
    {
     "name": "stdout",
     "output_type": "stream",
     "text": [
      "Got error from yahoo api for ticker BBF, Error: {'code': 'Not Found', 'description': 'No data found, symbol may be delisted'}\n",
      "- BBF: No timezone found, symbol may be delisted\n"
     ]
    },
    {
     "name": "stderr",
     "output_type": "stream",
     "text": [
      " 12%|█▏        | 332/2762 [02:18<17:23,  2.33it/s]"
     ]
    },
    {
     "name": "stdout",
     "output_type": "stream",
     "text": [
      "Got error from yahoo api for ticker MEN, Error: {'code': 'Not Found', 'description': 'No data found, symbol may be delisted'}\n",
      "- MEN: No timezone found, symbol may be delisted\n"
     ]
    },
    {
     "name": "stderr",
     "output_type": "stream",
     "text": [
      " 12%|█▏        | 334/2762 [02:18<15:44,  2.57it/s]"
     ]
    },
    {
     "name": "stdout",
     "output_type": "stream",
     "text": [
      "Got error from yahoo api for ticker MUH, Error: {'code': 'Not Found', 'description': 'No data found, symbol may be delisted'}\n",
      "- MUH: No timezone found, symbol may be delisted\n"
     ]
    },
    {
     "name": "stderr",
     "output_type": "stream",
     "text": [
      " 12%|█▏        | 336/2762 [02:19<15:02,  2.69it/s]"
     ]
    },
    {
     "name": "stdout",
     "output_type": "stream",
     "text": [
      "Got error from yahoo api for ticker MFL, Error: {'code': 'Not Found', 'description': 'No data found, symbol may be delisted'}\n",
      "- MFL: No timezone found, symbol may be delisted\n"
     ]
    },
    {
     "name": "stderr",
     "output_type": "stream",
     "text": [
      " 12%|█▏        | 340/2762 [02:21<18:17,  2.21it/s]"
     ]
    },
    {
     "name": "stdout",
     "output_type": "stream",
     "text": [
      "Got error from yahoo api for ticker MUS, Error: {'code': 'Not Found', 'description': 'No data found, symbol may be delisted'}\n",
      "- MUS: No timezone found, symbol may be delisted\n"
     ]
    },
    {
     "name": "stderr",
     "output_type": "stream",
     "text": [
      " 13%|█▎        | 346/2762 [02:25<15:31,  2.59it/s]"
     ]
    },
    {
     "name": "stdout",
     "output_type": "stream",
     "text": [
      "Got error from yahoo api for ticker MYF, Error: {'code': 'Not Found', 'description': 'No data found, symbol may be delisted'}\n",
      "- MYF: No timezone found, symbol may be delisted\n",
      "Got error from yahoo api for ticker MFT, Error: {'code': 'Not Found', 'description': 'No data found, symbol may be delisted'}\n",
      "- MFT: No timezone found, symbol may be delisted\n"
     ]
    },
    {
     "name": "stderr",
     "output_type": "stream",
     "text": [
      " 13%|█▎        | 356/2762 [02:31<16:23,  2.45it/s]"
     ]
    },
    {
     "name": "stdout",
     "output_type": "stream",
     "text": [
      "Got error from yahoo api for ticker BQH, Error: {'code': 'Not Found', 'description': 'No data found, symbol may be delisted'}\n",
      "- BQH: No timezone found, symbol may be delisted\n",
      "Got error from yahoo api for ticker BSE, Error: {'code': 'Not Found', 'description': 'No data found, symbol may be delisted'}\n",
      "- BSE: No timezone found, symbol may be delisted\n"
     ]
    },
    {
     "name": "stderr",
     "output_type": "stream",
     "text": [
      " 13%|█▎        | 357/2762 [02:31<13:02,  3.07it/s]"
     ]
    },
    {
     "name": "stdout",
     "output_type": "stream",
     "text": [
      "Got error from yahoo api for ticker BFY, Error: {'code': 'Not Found', 'description': 'No data found, symbol may be delisted'}\n",
      "- BFY: No timezone found, symbol may be delisted\n"
     ]
    },
    {
     "name": "stderr",
     "output_type": "stream",
     "text": [
      " 13%|█▎        | 361/2762 [02:32<13:14,  3.02it/s]"
     ]
    },
    {
     "name": "stdout",
     "output_type": "stream",
     "text": [
      "BSTZ: Data doesn't exist for startDate = 1451624400, endDate = 1451970000\n",
      "Got error from yahoo api for ticker BSD, Error: {'code': 'Not Found', 'description': 'No data found, symbol may be delisted'}\n",
      "- BSD: No timezone found, symbol may be delisted\n"
     ]
    },
    {
     "name": "stderr",
     "output_type": "stream",
     "text": [
      " 13%|█▎        | 368/2762 [02:36<19:57,  2.00it/s]"
     ]
    },
    {
     "name": "stdout",
     "output_type": "stream",
     "text": [
      "BE: Data doesn't exist for startDate = 1451624400, endDate = 1451970000\n"
     ]
    },
    {
     "name": "stderr",
     "output_type": "stream",
     "text": [
      " 13%|█▎        | 370/2762 [02:37<13:39,  2.92it/s]"
     ]
    },
    {
     "name": "stdout",
     "output_type": "stream",
     "text": [
      "APRN: Data doesn't exist for startDate = 1451624400, endDate = 1451970000\n",
      "Got error from yahoo api for ticker BXG, Error: {'code': 'Not Found', 'description': 'No data found, symbol may be delisted'}\n",
      "- BXG: No timezone found, symbol may be delisted\n"
     ]
    },
    {
     "name": "stderr",
     "output_type": "stream",
     "text": [
      " 13%|█▎        | 372/2762 [02:38<15:33,  2.56it/s]"
     ]
    },
    {
     "name": "stdout",
     "output_type": "stream",
     "text": [
      "DCF: Data doesn't exist for startDate = 1451624400, endDate = 1451970000\n"
     ]
    },
    {
     "name": "stderr",
     "output_type": "stream",
     "text": [
      " 14%|█▎        | 379/2762 [02:42<20:16,  1.96it/s]"
     ]
    },
    {
     "name": "stdout",
     "output_type": "stream",
     "text": [
      "Got error from yahoo api for ticker BCEI, Error: {'code': 'Not Found', 'description': 'No data found, symbol may be delisted'}\n",
      "- BCEI: No timezone found, symbol may be delisted\n"
     ]
    },
    {
     "name": "stderr",
     "output_type": "stream",
     "text": [
      " 14%|█▍        | 383/2762 [02:44<20:34,  1.93it/s]"
     ]
    },
    {
     "name": "stdout",
     "output_type": "stream",
     "text": [
      "BORR: Data doesn't exist for startDate = 1451624400, endDate = 1451970000\n"
     ]
    },
    {
     "name": "stderr",
     "output_type": "stream",
     "text": [
      " 14%|█▍        | 389/2762 [02:48<17:52,  2.21it/s]"
     ]
    },
    {
     "name": "stdout",
     "output_type": "stream",
     "text": [
      "Got error from yahoo api for ticker BPMP, Error: {'code': 'Not Found', 'description': 'No data found, symbol may be delisted'}\n",
      "- BPMP: No timezone found, symbol may be delisted\n"
     ]
    },
    {
     "name": "stderr",
     "output_type": "stream",
     "text": [
      " 14%|█▍        | 399/2762 [02:54<19:29,  2.02it/s]"
     ]
    },
    {
     "name": "stdout",
     "output_type": "stream",
     "text": [
      "Got error from yahoo api for ticker MNRL, Error: {'code': 'Not Found', 'description': 'No data found, symbol may be delisted'}\n",
      "- MNRL: No timezone found, symbol may be delisted\n"
     ]
    },
    {
     "name": "stderr",
     "output_type": "stream",
     "text": [
      " 15%|█▍        | 402/2762 [02:55<14:07,  2.78it/s]"
     ]
    },
    {
     "name": "stdout",
     "output_type": "stream",
     "text": [
      "BEDU: Data doesn't exist for startDate = 1451624400, endDate = 1451970000\n",
      "Got error from yahoo api for ticker BSA, Error: {'code': 'Not Found', 'description': 'No data found, symbol may be delisted'}\n",
      "- BSA: No timezone found, symbol may be delisted\n"
     ]
    },
    {
     "name": "stderr",
     "output_type": "stream",
     "text": [
      " 15%|█▍        | 404/2762 [02:56<15:20,  2.56it/s]"
     ]
    },
    {
     "name": "stdout",
     "output_type": "stream",
     "text": [
      "BV: Data doesn't exist for startDate = 1451624400, endDate = 1451970000\n"
     ]
    },
    {
     "name": "stderr",
     "output_type": "stream",
     "text": [
      " 15%|█▍        | 408/2762 [02:58<18:05,  2.17it/s]"
     ]
    },
    {
     "name": "stdout",
     "output_type": "stream",
     "text": [
      "Got error from yahoo api for ticker BMY~, Error: {'code': 'Not Found', 'description': 'No data found, symbol may be delisted'}\n",
      "- BMY~: No timezone found, symbol may be delisted\n"
     ]
    },
    {
     "name": "stderr",
     "output_type": "stream",
     "text": [
      " 15%|█▍        | 412/2762 [03:00<19:31,  2.01it/s]"
     ]
    },
    {
     "name": "stdout",
     "output_type": "stream",
     "text": [
      "BRMK: Data doesn't exist for startDate = 1451624400, endDate = 1451970000\n"
     ]
    },
    {
     "name": "stderr",
     "output_type": "stream",
     "text": [
      " 15%|█▌        | 415/2762 [03:02<18:29,  2.12it/s]"
     ]
    },
    {
     "name": "stdout",
     "output_type": "stream",
     "text": [
      "BAM: Data doesn't exist for startDate = 1451624400, endDate = 1451970000\n"
     ]
    },
    {
     "name": "stderr",
     "output_type": "stream",
     "text": [
      " 15%|█▌        | 416/2762 [03:02<16:20,  2.39it/s]"
     ]
    },
    {
     "name": "stdout",
     "output_type": "stream",
     "text": [
      "BBU: Data doesn't exist for startDate = 1451624400, endDate = 1451970000\n"
     ]
    },
    {
     "name": "stderr",
     "output_type": "stream",
     "text": [
      " 15%|█▌        | 417/2762 [03:02<14:42,  2.66it/s]"
     ]
    },
    {
     "name": "stdout",
     "output_type": "stream",
     "text": [
      "BIPC: Data doesn't exist for startDate = 1451624400, endDate = 1451970000\n"
     ]
    },
    {
     "name": "stderr",
     "output_type": "stream",
     "text": [
      " 15%|█▌        | 419/2762 [03:03<17:47,  2.19it/s]"
     ]
    },
    {
     "name": "stdout",
     "output_type": "stream",
     "text": [
      "RA: Data doesn't exist for startDate = 1451624400, endDate = 1451970000\n"
     ]
    },
    {
     "name": "stderr",
     "output_type": "stream",
     "text": [
      " 15%|█▌        | 420/2762 [03:04<15:50,  2.46it/s]"
     ]
    },
    {
     "name": "stdout",
     "output_type": "stream",
     "text": [
      "BEPC: Data doesn't exist for startDate = 1451624400, endDate = 1451970000\n"
     ]
    },
    {
     "name": "stderr",
     "output_type": "stream",
     "text": [
      " 16%|█▌        | 431/2762 [03:10<20:44,  1.87it/s]"
     ]
    },
    {
     "name": "stdout",
     "output_type": "stream",
     "text": [
      "BY: Data doesn't exist for startDate = 1451624400, endDate = 1451970000\n"
     ]
    },
    {
     "name": "stderr",
     "output_type": "stream",
     "text": [
      " 16%|█▌        | 434/2762 [03:12<18:06,  2.14it/s]"
     ]
    },
    {
     "name": "stdout",
     "output_type": "stream",
     "text": [
      "Got error from yahoo api for ticker COG, Error: {'code': 'Not Found', 'description': 'No data found, symbol may be delisted'}\n",
      "- COG: No timezone found, symbol may be delisted\n"
     ]
    },
    {
     "name": "stderr",
     "output_type": "stream",
     "text": [
      " 16%|█▌        | 436/2762 [03:13<16:52,  2.30it/s]"
     ]
    },
    {
     "name": "stdout",
     "output_type": "stream",
     "text": [
      "WHD: Data doesn't exist for startDate = 1451624400, endDate = 1451970000\n"
     ]
    },
    {
     "name": "stderr",
     "output_type": "stream",
     "text": [
      " 16%|█▌        | 439/2762 [03:14<16:16,  2.38it/s]"
     ]
    },
    {
     "name": "stdout",
     "output_type": "stream",
     "text": [
      "Got error from yahoo api for ticker CAI, Error: {'code': 'Not Found', 'description': 'No data found, symbol may be delisted'}\n",
      "- CAI: No timezone found, symbol may be delisted\n"
     ]
    },
    {
     "name": "stderr",
     "output_type": "stream",
     "text": [
      " 16%|█▌        | 443/2762 [03:16<17:17,  2.23it/s]"
     ]
    },
    {
     "name": "stdout",
     "output_type": "stream",
     "text": [
      "Got error from yahoo api for ticker ELY, Error: {'code': 'Not Found', 'description': 'No data found, symbol may be delisted'}\n",
      "- ELY: No timezone found, symbol may be delisted\n"
     ]
    },
    {
     "name": "stderr",
     "output_type": "stream",
     "text": [
      " 16%|█▌        | 448/2762 [03:19<20:59,  1.84it/s]"
     ]
    },
    {
     "name": "stdout",
     "output_type": "stream",
     "text": [
      "CWH: Data doesn't exist for startDate = 1451624400, endDate = 1451970000\n"
     ]
    },
    {
     "name": "stderr",
     "output_type": "stream",
     "text": [
      " 16%|█▋        | 449/2762 [03:20<17:54,  2.15it/s]"
     ]
    },
    {
     "name": "stdout",
     "output_type": "stream",
     "text": [
      "GOOS: Data doesn't exist for startDate = 1451624400, endDate = 1451970000\n"
     ]
    },
    {
     "name": "stderr",
     "output_type": "stream",
     "text": [
      " 16%|█▋        | 454/2762 [03:23<19:20,  1.99it/s]"
     ]
    },
    {
     "name": "stdout",
     "output_type": "stream",
     "text": [
      "CANG: Data doesn't exist for startDate = 1451624400, endDate = 1451970000\n"
     ]
    },
    {
     "name": "stderr",
     "output_type": "stream",
     "text": [
      " 17%|█▋        | 456/2762 [03:23<13:21,  2.88it/s]"
     ]
    },
    {
     "name": "stdout",
     "output_type": "stream",
     "text": [
      "CNNE: Data doesn't exist for startDate = 1451624400, endDate = 1451970000\n",
      "Got error from yahoo api for ticker CAJ, Error: {'code': 'Not Found', 'description': 'No data found, symbol may be delisted'}\n",
      "- CAJ: No timezone found, symbol may be delisted\n"
     ]
    },
    {
     "name": "stderr",
     "output_type": "stream",
     "text": [
      " 17%|█▋        | 458/2762 [03:24<12:29,  3.07it/s]"
     ]
    },
    {
     "name": "stdout",
     "output_type": "stream",
     "text": [
      "Got error from yahoo api for ticker CMD, Error: {'code': 'Not Found', 'description': 'No data found, symbol may be delisted'}\n",
      "- CMD: No timezone found, symbol may be delisted\n"
     ]
    },
    {
     "name": "stderr",
     "output_type": "stream",
     "text": [
      " 17%|█▋        | 460/2762 [03:24<12:59,  2.95it/s]"
     ]
    },
    {
     "name": "stdout",
     "output_type": "stream",
     "text": [
      "Got error from yahoo api for ticker CSU, Error: {'code': 'Not Found', 'description': 'No data found, symbol may be delisted'}\n",
      "- CSU: No timezone found, symbol may be delisted\n"
     ]
    },
    {
     "name": "stderr",
     "output_type": "stream",
     "text": [
      " 17%|█▋        | 463/2762 [03:26<14:38,  2.62it/s]"
     ]
    },
    {
     "name": "stdout",
     "output_type": "stream",
     "text": [
      "Got error from yahoo api for ticker CMO, Error: {'code': 'Not Found', 'description': 'No data found, symbol may be delisted'}\n",
      "- CMO: No timezone found, symbol may be delisted\n"
     ]
    },
    {
     "name": "stderr",
     "output_type": "stream",
     "text": [
      " 17%|█▋        | 471/2762 [03:31<20:09,  1.89it/s]"
     ]
    },
    {
     "name": "stdout",
     "output_type": "stream",
     "text": [
      "CARR: Data doesn't exist for startDate = 1451624400, endDate = 1451970000\n"
     ]
    },
    {
     "name": "stderr",
     "output_type": "stream",
     "text": [
      " 17%|█▋        | 472/2762 [03:31<17:26,  2.19it/s]"
     ]
    },
    {
     "name": "stdout",
     "output_type": "stream",
     "text": [
      "CARS: Data doesn't exist for startDate = 1451624400, endDate = 1451970000\n"
     ]
    },
    {
     "name": "stderr",
     "output_type": "stream",
     "text": [
      " 17%|█▋        | 475/2762 [03:32<13:11,  2.89it/s]"
     ]
    },
    {
     "name": "stdout",
     "output_type": "stream",
     "text": [
      "CVNA: Data doesn't exist for startDate = 1451624400, endDate = 1451970000\n",
      "Got error from yahoo api for ticker CSPR, Error: {'code': 'Not Found', 'description': 'No data found, symbol may be delisted'}\n",
      "- CSPR: No timezone found, symbol may be delisted\n"
     ]
    },
    {
     "name": "stderr",
     "output_type": "stream",
     "text": [
      " 17%|█▋        | 476/2762 [03:32<10:48,  3.52it/s]"
     ]
    },
    {
     "name": "stdout",
     "output_type": "stream",
     "text": [
      "Got error from yahoo api for ticker CSLT, Error: {'code': 'Not Found', 'description': 'No data found, symbol may be delisted'}\n",
      "- CSLT: No timezone found, symbol may be delisted\n"
     ]
    },
    {
     "name": "stderr",
     "output_type": "stream",
     "text": [
      " 17%|█▋        | 478/2762 [03:33<11:14,  3.39it/s]"
     ]
    },
    {
     "name": "stdout",
     "output_type": "stream",
     "text": [
      "Got error from yahoo api for ticker CTT           , Error: {'code': 'Not Found', 'description': 'No data found, symbol may be delisted'}\n",
      "- CTT           : No timezone found, symbol may be delisted\n"
     ]
    },
    {
     "name": "stderr",
     "output_type": "stream",
     "text": [
      " 17%|█▋        | 482/2762 [03:35<16:52,  2.25it/s]"
     ]
    },
    {
     "name": "stdout",
     "output_type": "stream",
     "text": [
      "CBL: Data doesn't exist for startDate = 1451624400, endDate = 1451970000\n"
     ]
    },
    {
     "name": "stderr",
     "output_type": "stream",
     "text": [
      " 17%|█▋        | 483/2762 [03:35<15:10,  2.50it/s]"
     ]
    },
    {
     "name": "stdout",
     "output_type": "stream",
     "text": [
      "CBO: Period '1mo' is invalid, must be one of ['1d', '5d']\n"
     ]
    },
    {
     "name": "stderr",
     "output_type": "stream",
     "text": [
      " 18%|█▊        | 487/2762 [03:37<13:04,  2.90it/s]"
     ]
    },
    {
     "name": "stdout",
     "output_type": "stream",
     "text": [
      "CBX: Period '1mo' is invalid, must be one of ['1d', '5d']\n",
      "Got error from yahoo api for ticker PCPL, Error: {'code': 'Not Found', 'description': 'No data found, symbol may be delisted'}\n",
      "- PCPL: No timezone found, symbol may be delisted\n"
     ]
    },
    {
     "name": "stderr",
     "output_type": "stream",
     "text": [
      " 18%|█▊        | 489/2762 [03:38<13:31,  2.80it/s]"
     ]
    },
    {
     "name": "stdout",
     "output_type": "stream",
     "text": [
      "Got error from yahoo api for ticker CDR, Error: {'code': 'Not Found', 'description': 'No data found, symbol may be delisted'}\n",
      "- CDR: No timezone found, symbol may be delisted\n"
     ]
    },
    {
     "name": "stderr",
     "output_type": "stream",
     "text": [
      " 18%|█▊        | 493/2762 [03:39<11:42,  3.23it/s]"
     ]
    },
    {
     "name": "stdout",
     "output_type": "stream",
     "text": [
      "Got error from yahoo api for ticker CELG~, Error: {'code': 'Not Found', 'description': 'No data found, symbol may be delisted'}\n",
      "- CELG~: No timezone found, symbol may be delisted\n",
      "Got error from yahoo api for ticker CEL, Error: {'code': 'Not Found', 'description': 'No data found, symbol may be delisted'}\n",
      "- CEL: No timezone found, symbol may be delisted\n"
     ]
    },
    {
     "name": "stderr",
     "output_type": "stream",
     "text": [
      " 18%|█▊        | 501/2762 [03:44<20:10,  1.87it/s]"
     ]
    },
    {
     "name": "stdout",
     "output_type": "stream",
     "text": [
      "CEPU: Data doesn't exist for startDate = 1451624400, endDate = 1451970000\n"
     ]
    },
    {
     "name": "stderr",
     "output_type": "stream",
     "text": [
      " 18%|█▊        | 503/2762 [03:45<15:56,  2.36it/s]"
     ]
    },
    {
     "name": "stdout",
     "output_type": "stream",
     "text": [
      "Got error from yahoo api for ticker CTL, Error: {'code': 'Not Found', 'description': 'No data found, symbol may be delisted'}\n",
      "- CTL: No timezone found, symbol may be delisted\n"
     ]
    },
    {
     "name": "stderr",
     "output_type": "stream",
     "text": [
      " 18%|█▊        | 504/2762 [03:45<14:47,  2.54it/s]"
     ]
    },
    {
     "name": "stdout",
     "output_type": "stream",
     "text": [
      "CDAY: Data doesn't exist for startDate = 1451624400, endDate = 1451970000\n"
     ]
    },
    {
     "name": "stderr",
     "output_type": "stream",
     "text": [
      " 18%|█▊        | 508/2762 [03:47<12:49,  2.93it/s]"
     ]
    },
    {
     "name": "stdout",
     "output_type": "stream",
     "text": [
      "CHX: Data doesn't exist for startDate = 1451624400, endDate = 1451970000\n",
      "Got error from yahoo api for ticker ECOM          , Error: {'code': 'Not Found', 'description': 'No data found, symbol may be delisted'}\n",
      "- ECOM          : No timezone found, symbol may be delisted\n"
     ]
    },
    {
     "name": "stderr",
     "output_type": "stream",
     "text": [
      " 18%|█▊        | 509/2762 [03:47<10:31,  3.57it/s]"
     ]
    },
    {
     "name": "stdout",
     "output_type": "stream",
     "text": [
      "Got error from yahoo api for ticker CHAP, Error: {'code': 'Not Found', 'description': 'No data found, symbol may be delisted'}\n",
      "- CHAP: No timezone found, symbol may be delisted\n"
     ]
    },
    {
     "name": "stderr",
     "output_type": "stream",
     "text": [
      " 18%|█▊        | 510/2762 [03:47<10:20,  3.63it/s]"
     ]
    },
    {
     "name": "stdout",
     "output_type": "stream",
     "text": [
      "CHRA: Data doesn't exist for startDate = 1451624400, endDate = 1451970000\n"
     ]
    },
    {
     "name": "stderr",
     "output_type": "stream",
     "text": [
      " 19%|█▉        | 520/2762 [03:53<21:17,  1.75it/s]"
     ]
    },
    {
     "name": "stdout",
     "output_type": "stream",
     "text": [
      "CHWY: Data doesn't exist for startDate = 1451624400, endDate = 1451970000\n"
     ]
    },
    {
     "name": "stderr",
     "output_type": "stream",
     "text": [
      " 19%|█▉        | 524/2762 [03:55<13:27,  2.77it/s]"
     ]
    },
    {
     "name": "stdout",
     "output_type": "stream",
     "text": [
      "Got error from yahoo api for ticker DL, Error: {'code': 'Not Found', 'description': 'No data found, symbol may be delisted'}\n",
      "- DL: No timezone found, symbol may be delisted\n",
      "Got error from yahoo api for ticker CEA, Error: {'code': 'Not Found', 'description': 'No data found, symbol may be delisted'}\n",
      "- CEA: No timezone found, symbol may be delisted\n"
     ]
    },
    {
     "name": "stderr",
     "output_type": "stream",
     "text": [
      " 19%|█▉        | 528/2762 [03:57<11:41,  3.18it/s]"
     ]
    },
    {
     "name": "stdout",
     "output_type": "stream",
     "text": [
      "Got error from yahoo api for ticker LFC, Error: {'code': 'Not Found', 'description': 'No data found, symbol may be delisted'}\n",
      "- LFC: No timezone found, symbol may be delisted\n",
      "Got error from yahoo api for ticker CHL, Error: {'code': 'Not Found', 'description': 'No data found, symbol may be delisted'}\n",
      "- CHL: No timezone found, symbol may be delisted\n"
     ]
    },
    {
     "name": "stderr",
     "output_type": "stream",
     "text": [
      " 19%|█▉        | 530/2762 [03:57<09:23,  3.96it/s]"
     ]
    },
    {
     "name": "stdout",
     "output_type": "stream",
     "text": [
      "COE: Data doesn't exist for startDate = 1451624400, endDate = 1451970000\n",
      "Got error from yahoo api for ticker SNP, Error: {'code': 'Not Found', 'description': 'No data found, symbol may be delisted'}\n",
      "- SNP: No timezone found, symbol may be delisted\n"
     ]
    },
    {
     "name": "stderr",
     "output_type": "stream",
     "text": [
      " 19%|█▉        | 532/2762 [03:57<07:12,  5.15it/s]"
     ]
    },
    {
     "name": "stdout",
     "output_type": "stream",
     "text": [
      "Got error from yahoo api for ticker ZNH, Error: {'code': 'Not Found', 'description': 'No data found, symbol may be delisted'}\n",
      "- ZNH: No timezone found, symbol may be delisted\n",
      "Got error from yahoo api for ticker CHA, Error: {'code': 'Not Found', 'description': 'No data found, symbol may be delisted'}\n",
      "- CHA: No timezone found, symbol may be delisted\n"
     ]
    },
    {
     "name": "stderr",
     "output_type": "stream",
     "text": [
      " 19%|█▉        | 533/2762 [03:57<06:34,  5.65it/s]"
     ]
    },
    {
     "name": "stdout",
     "output_type": "stream",
     "text": [
      "Got error from yahoo api for ticker CHU, Error: {'code': 'Not Found', 'description': 'No data found, symbol may be delisted'}\n",
      "- CHU: No timezone found, symbol may be delisted\n"
     ]
    },
    {
     "name": "stderr",
     "output_type": "stream",
     "text": [
      " 20%|█▉        | 541/2762 [04:02<14:06,  2.62it/s]"
     ]
    },
    {
     "name": "stdout",
     "output_type": "stream",
     "text": [
      "Got error from yahoo api for ticker CCX, Error: {'code': 'Not Found', 'description': 'No data found, symbol may be delisted'}\n",
      "- CCX: No timezone found, symbol may be delisted\n",
      "Got error from yahoo api for ticker CCXX, Error: {'code': 'Not Found', 'description': 'No data found, symbol may be delisted'}\n",
      "- CCXX: No timezone found, symbol may be delisted\n"
     ]
    },
    {
     "name": "stderr",
     "output_type": "stream",
     "text": [
      " 20%|█▉        | 545/2762 [04:03<12:04,  3.06it/s]"
     ]
    },
    {
     "name": "stdout",
     "output_type": "stream",
     "text": [
      "Got error from yahoo api for ticker XEC, Error: {'code': 'Not Found', 'description': 'No data found, symbol may be delisted'}\n",
      "- XEC: No timezone found, symbol may be delisted\n",
      "Got error from yahoo api for ticker CBB, Error: {'code': 'Not Found', 'description': 'No data found, symbol may be delisted'}\n",
      "- CBB: No timezone found, symbol may be delisted\n"
     ]
    },
    {
     "name": "stderr",
     "output_type": "stream",
     "text": [
      " 20%|█▉        | 547/2762 [04:04<12:30,  2.95it/s]"
     ]
    },
    {
     "name": "stdout",
     "output_type": "stream",
     "text": [
      "Got error from yahoo api for ticker CINR, Error: {'code': 'Not Found', 'description': 'No data found, symbol may be delisted'}\n",
      "- CINR: No timezone found, symbol may be delisted\n"
     ]
    },
    {
     "name": "stderr",
     "output_type": "stream",
     "text": [
      " 20%|█▉        | 550/2762 [04:05<10:20,  3.56it/s]"
     ]
    },
    {
     "name": "stdout",
     "output_type": "stream",
     "text": [
      "Got error from yahoo api for ticker CIT, Error: {'code': 'Not Found', 'description': 'No data found, symbol may be delisted'}\n",
      "- CIT: No timezone found, symbol may be delisted\n",
      "Got error from yahoo api for ticker CCAC, Error: {'code': 'Not Found', 'description': 'No data found, symbol may be delisted'}\n",
      "- CCAC: No timezone found, symbol may be delisted\n"
     ]
    },
    {
     "name": "stderr",
     "output_type": "stream",
     "text": [
      " 20%|██        | 557/2762 [04:09<16:27,  2.23it/s]"
     ]
    },
    {
     "name": "stdout",
     "output_type": "stream",
     "text": [
      "Got error from yahoo api for ticker CCC, Error: {'code': 'Not Found', 'description': 'No data found, symbol may be delisted'}\n",
      "- CCC: No timezone found, symbol may be delisted\n"
     ]
    },
    {
     "name": "stderr",
     "output_type": "stream",
     "text": [
      " 20%|██        | 566/2762 [04:14<20:22,  1.80it/s]"
     ]
    },
    {
     "name": "stdout",
     "output_type": "stream",
     "text": [
      "CLPR: Data doesn't exist for startDate = 1451624400, endDate = 1451970000\n"
     ]
    },
    {
     "name": "stderr",
     "output_type": "stream",
     "text": [
      " 21%|██        | 568/2762 [04:15<17:23,  2.10it/s]"
     ]
    },
    {
     "name": "stdout",
     "output_type": "stream",
     "text": [
      "Got error from yahoo api for ticker CLDR, Error: {'code': 'Not Found', 'description': 'No data found, symbol may be delisted'}\n",
      "- CLDR: No timezone found, symbol may be delisted\n"
     ]
    },
    {
     "name": "stderr",
     "output_type": "stream",
     "text": [
      " 21%|██        | 569/2762 [04:15<15:29,  2.36it/s]"
     ]
    },
    {
     "name": "stdout",
     "output_type": "stream",
     "text": [
      "NET: Data doesn't exist for startDate = 1451624400, endDate = 1451970000\n"
     ]
    },
    {
     "name": "stderr",
     "output_type": "stream",
     "text": [
      " 21%|██        | 571/2762 [04:17<16:38,  2.19it/s]"
     ]
    },
    {
     "name": "stdout",
     "output_type": "stream",
     "text": [
      "CMSA: Data doesn't exist for startDate = 1451624400, endDate = 1451970000\n"
     ]
    },
    {
     "name": "stderr",
     "output_type": "stream",
     "text": [
      " 21%|██        | 572/2762 [04:17<14:57,  2.44it/s]"
     ]
    },
    {
     "name": "stdout",
     "output_type": "stream",
     "text": [
      "CMSC: Data doesn't exist for startDate = 1451624400, endDate = 1451970000\n"
     ]
    },
    {
     "name": "stderr",
     "output_type": "stream",
     "text": [
      " 21%|██        | 573/2762 [04:17<13:54,  2.62it/s]"
     ]
    },
    {
     "name": "stdout",
     "output_type": "stream",
     "text": [
      "CMSD: Data doesn't exist for startDate = 1451624400, endDate = 1451970000\n"
     ]
    },
    {
     "name": "stderr",
     "output_type": "stream",
     "text": [
      " 21%|██        | 575/2762 [04:18<16:04,  2.27it/s]"
     ]
    },
    {
     "name": "stdout",
     "output_type": "stream",
     "text": [
      "CNF: Data doesn't exist for startDate = 1451624400, endDate = 1451970000\n"
     ]
    },
    {
     "name": "stderr",
     "output_type": "stream",
     "text": [
      " 21%|██        | 579/2762 [04:20<15:54,  2.29it/s]"
     ]
    },
    {
     "name": "stdout",
     "output_type": "stream",
     "text": [
      "Got error from yahoo api for ticker CNXM, Error: {'code': 'Not Found', 'description': 'No data found, symbol may be delisted'}\n",
      "- CNXM: No timezone found, symbol may be delisted\n"
     ]
    },
    {
     "name": "stderr",
     "output_type": "stream",
     "text": [
      " 21%|██▏       | 589/2762 [04:26<17:53,  2.02it/s]"
     ]
    },
    {
     "name": "stdout",
     "output_type": "stream",
     "text": [
      "Got error from yahoo api for ticker MIE, Error: {'code': 'Not Found', 'description': 'No data found, symbol may be delisted'}\n",
      "- MIE: No timezone found, symbol may be delisted\n"
     ]
    },
    {
     "name": "stderr",
     "output_type": "stream",
     "text": [
      " 22%|██▏       | 595/2762 [04:29<13:53,  2.60it/s]"
     ]
    },
    {
     "name": "stdout",
     "output_type": "stream",
     "text": [
      "Got error from yahoo api for ticker CFX, Error: {'code': 'Not Found', 'description': 'No data found, symbol may be delisted'}\n",
      "- CFX: No timezone found, symbol may be delisted\n",
      "Got error from yahoo api for ticker CFXA, Error: {'code': 'Not Found', 'description': 'No data found, symbol may be delisted'}\n",
      "- CFXA: No timezone found, symbol may be delisted\n"
     ]
    },
    {
     "name": "stderr",
     "output_type": "stream",
     "text": [
      " 22%|██▏       | 597/2762 [04:30<13:39,  2.64it/s]"
     ]
    },
    {
     "name": "stdout",
     "output_type": "stream",
     "text": [
      "Got error from yahoo api for ticker CCH, Error: {'code': 'Not Found', 'description': 'No data found, symbol may be delisted'}\n",
      "- CCH: No timezone found, symbol may be delisted\n"
     ]
    },
    {
     "name": "stderr",
     "output_type": "stream",
     "text": [
      " 22%|██▏       | 603/2762 [04:33<14:00,  2.57it/s]"
     ]
    },
    {
     "name": "stdout",
     "output_type": "stream",
     "text": [
      "Got error from yahoo api for ticker CLNY, Error: {'code': 'Not Found', 'description': 'No data found, symbol may be delisted'}\n",
      "- CLNY: No timezone found, symbol may be delisted\n",
      "Got error from yahoo api for ticker CLNC, Error: {'code': 'Not Found', 'description': 'No data found, symbol may be delisted'}\n",
      "- CLNC: No timezone found, symbol may be delisted\n"
     ]
    },
    {
     "name": "stderr",
     "output_type": "stream",
     "text": [
      " 22%|██▏       | 604/2762 [04:33<11:14,  3.20it/s]"
     ]
    },
    {
     "name": "stdout",
     "output_type": "stream",
     "text": [
      "Got error from yahoo api for ticker CXP, Error: {'code': 'Not Found', 'description': 'No data found, symbol may be delisted'}\n",
      "- CXP: No timezone found, symbol may be delisted\n"
     ]
    },
    {
     "name": "stderr",
     "output_type": "stream",
     "text": [
      " 22%|██▏       | 606/2762 [04:34<13:08,  2.73it/s]"
     ]
    },
    {
     "name": "stdout",
     "output_type": "stream",
     "text": [
      "CCZ: Data doesn't exist for startDate = 1451624400, endDate = 1451970000\n"
     ]
    },
    {
     "name": "stderr",
     "output_type": "stream",
     "text": [
      " 23%|██▎       | 622/2762 [04:44<18:07,  1.97it/s]"
     ]
    },
    {
     "name": "stdout",
     "output_type": "stream",
     "text": [
      "Got error from yahoo api for ticker CXO, Error: {'code': 'Not Found', 'description': 'No data found, symbol may be delisted'}\n",
      "- CXO: No timezone found, symbol may be delisted\n"
     ]
    },
    {
     "name": "stderr",
     "output_type": "stream",
     "text": [
      " 23%|██▎       | 626/2762 [04:47<17:04,  2.09it/s]"
     ]
    },
    {
     "name": "stdout",
     "output_type": "stream",
     "text": [
      "Got error from yahoo api for ticker CCR, Error: {'code': 'Not Found', 'description': 'No data found, symbol may be delisted'}\n",
      "- CCR: No timezone found, symbol may be delisted\n"
     ]
    },
    {
     "name": "stderr",
     "output_type": "stream",
     "text": [
      " 23%|██▎       | 627/2762 [04:47<14:55,  2.38it/s]"
     ]
    },
    {
     "name": "stdout",
     "output_type": "stream",
     "text": [
      "CEIX: Data doesn't exist for startDate = 1451624400, endDate = 1451970000\n"
     ]
    },
    {
     "name": "stderr",
     "output_type": "stream",
     "text": [
      " 23%|██▎       | 632/2762 [04:50<15:48,  2.25it/s]"
     ]
    },
    {
     "name": "stdout",
     "output_type": "stream",
     "text": [
      "Got error from yahoo api for ticker CLR, Error: {'code': 'Not Found', 'description': 'No data found, symbol may be delisted'}\n",
      "- CLR: No timezone found, symbol may be delisted\n"
     ]
    },
    {
     "name": "stderr",
     "output_type": "stream",
     "text": [
      " 23%|██▎       | 635/2762 [04:51<14:06,  2.51it/s]"
     ]
    },
    {
     "name": "stdout",
     "output_type": "stream",
     "text": [
      "Got error from yahoo api for ticker CTB, Error: {'code': 'Not Found', 'description': 'No data found, symbol may be delisted'}\n",
      "- CTB: No timezone found, symbol may be delisted\n"
     ]
    },
    {
     "name": "stderr",
     "output_type": "stream",
     "text": [
      " 23%|██▎       | 637/2762 [04:52<12:55,  2.74it/s]"
     ]
    },
    {
     "name": "stdout",
     "output_type": "stream",
     "text": [
      "Got error from yahoo api for ticker CTK, Error: {'code': 'Not Found', 'description': 'No data found, symbol may be delisted'}\n",
      "- CTK: No timezone found, symbol may be delisted\n"
     ]
    },
    {
     "name": "stderr",
     "output_type": "stream",
     "text": [
      " 23%|██▎       | 641/2762 [04:54<15:20,  2.30it/s]"
     ]
    },
    {
     "name": "stdout",
     "output_type": "stream",
     "text": [
      "Got error from yahoo api for ticker CLGX, Error: {'code': 'Not Found', 'description': 'No data found, symbol may be delisted'}\n",
      "- CLGX: No timezone found, symbol may be delisted\n"
     ]
    },
    {
     "name": "stderr",
     "output_type": "stream",
     "text": [
      " 23%|██▎       | 644/2762 [04:55<11:04,  3.19it/s]"
     ]
    },
    {
     "name": "stdout",
     "output_type": "stream",
     "text": [
      "Got error from yahoo api for ticker CPLG, Error: {'code': 'Not Found', 'description': 'No data found, symbol may be delisted'}\n",
      "- CPLG: No timezone found, symbol may be delisted\n",
      "Got error from yahoo api for ticker COR, Error: {'code': 'Not Found', 'description': 'No data found, symbol may be delisted'}\n",
      "- COR: No timezone found, symbol may be delisted\n"
     ]
    },
    {
     "name": "stderr",
     "output_type": "stream",
     "text": [
      " 23%|██▎       | 645/2762 [04:55<09:11,  3.84it/s]"
     ]
    },
    {
     "name": "stdout",
     "output_type": "stream",
     "text": [
      "Got error from yahoo api for ticker CNR, Error: {'code': 'Not Found', 'description': 'No data found, symbol may be delisted'}\n",
      "- CNR: No timezone found, symbol may be delisted\n"
     ]
    },
    {
     "name": "stderr",
     "output_type": "stream",
     "text": [
      " 23%|██▎       | 647/2762 [04:56<12:17,  2.87it/s]"
     ]
    },
    {
     "name": "stdout",
     "output_type": "stream",
     "text": [
      "CAAP: Data doesn't exist for startDate = 1451624400, endDate = 1451970000\n"
     ]
    },
    {
     "name": "stderr",
     "output_type": "stream",
     "text": [
      " 24%|██▎       | 651/2762 [04:57<12:19,  2.86it/s]"
     ]
    },
    {
     "name": "stdout",
     "output_type": "stream",
     "text": [
      "CTVA: Data doesn't exist for startDate = 1451624400, endDate = 1451970000\n",
      "Got error from yahoo api for ticker CZZ, Error: {'code': 'Not Found', 'description': 'No data found, symbol may be delisted'}\n",
      "- CZZ: No timezone found, symbol may be delisted\n"
     ]
    },
    {
     "name": "stderr",
     "output_type": "stream",
     "text": [
      " 24%|██▎       | 655/2762 [04:59<14:37,  2.40it/s]"
     ]
    },
    {
     "name": "stdout",
     "output_type": "stream",
     "text": [
      "Got error from yahoo api for ticker CVA, Error: {'code': 'Not Found', 'description': 'No data found, symbol may be delisted'}\n",
      "- CVA: No timezone found, symbol may be delisted\n"
     ]
    },
    {
     "name": "stderr",
     "output_type": "stream",
     "text": [
      " 24%|██▍       | 657/2762 [05:00<15:22,  2.28it/s]"
     ]
    },
    {
     "name": "stdout",
     "output_type": "stream",
     "text": [
      "CR: Data doesn't exist for startDate = 1451624400, endDate = 1451970000\n"
     ]
    },
    {
     "name": "stderr",
     "output_type": "stream",
     "text": [
      " 24%|██▍       | 667/2762 [05:07<17:36,  1.98it/s]"
     ]
    },
    {
     "name": "stdout",
     "output_type": "stream",
     "text": [
      "Got error from yahoo api for ticker CRY, Error: {'code': 'Not Found', 'description': 'No data found, symbol may be delisted'}\n",
      "- CRY: No timezone found, symbol may be delisted\n"
     ]
    },
    {
     "name": "stderr",
     "output_type": "stream",
     "text": [
      " 24%|██▍       | 670/2762 [05:08<16:04,  2.17it/s]"
     ]
    },
    {
     "name": "stdout",
     "output_type": "stream",
     "text": [
      "Got error from yahoo api for ticker CUB, Error: {'code': 'Not Found', 'description': 'No data found, symbol may be delisted'}\n",
      "- CUB: No timezone found, symbol may be delisted\n"
     ]
    },
    {
     "name": "stderr",
     "output_type": "stream",
     "text": [
      " 24%|██▍       | 674/2762 [05:11<18:28,  1.88it/s]"
     ]
    },
    {
     "name": "stdout",
     "output_type": "stream",
     "text": [
      "CURO: Data doesn't exist for startDate = 1451624400, endDate = 1451970000\n"
     ]
    },
    {
     "name": "stderr",
     "output_type": "stream",
     "text": [
      " 25%|██▍       | 677/2762 [05:12<16:10,  2.15it/s]"
     ]
    },
    {
     "name": "stdout",
     "output_type": "stream",
     "text": [
      "Got error from yahoo api for ticker SZC, Error: {'code': 'Not Found', 'description': 'No data found, symbol may be delisted'}\n",
      "- SZC: No timezone found, symbol may be delisted\n"
     ]
    },
    {
     "name": "stderr",
     "output_type": "stream",
     "text": [
      " 25%|██▍       | 678/2762 [05:12<14:10,  2.45it/s]"
     ]
    },
    {
     "name": "stdout",
     "output_type": "stream",
     "text": [
      "CWK: Data doesn't exist for startDate = 1451624400, endDate = 1451970000\n"
     ]
    },
    {
     "name": "stderr",
     "output_type": "stream",
     "text": [
      " 25%|██▍       | 679/2762 [05:13<12:46,  2.72it/s]"
     ]
    },
    {
     "name": "stdout",
     "output_type": "stream",
     "text": [
      "CUBB: Data doesn't exist for startDate = 1451624400, endDate = 1451970000\n"
     ]
    },
    {
     "name": "stderr",
     "output_type": "stream",
     "text": [
      " 25%|██▍       | 684/2762 [05:15<15:43,  2.20it/s]"
     ]
    },
    {
     "name": "stdout",
     "output_type": "stream",
     "text": [
      "Got error from yahoo api for ticker CELP, Error: {'code': 'Not Found', 'description': 'No data found, symbol may be delisted'}\n",
      "- CELP: No timezone found, symbol may be delisted\n"
     ]
    },
    {
     "name": "stderr",
     "output_type": "stream",
     "text": [
      " 25%|██▌       | 701/2762 [05:26<14:22,  2.39it/s]"
     ]
    },
    {
     "name": "stdout",
     "output_type": "stream",
     "text": [
      "DELL: Data doesn't exist for startDate = 1451624400, endDate = 1451970000\n",
      "Got error from yahoo api for ticker DLPH, Error: {'code': 'Not Found', 'description': 'No data found, symbol may be delisted'}\n",
      "- DLPH: No timezone found, symbol may be delisted\n"
     ]
    },
    {
     "name": "stderr",
     "output_type": "stream",
     "text": [
      " 26%|██▌       | 705/2762 [05:28<16:47,  2.04it/s]"
     ]
    },
    {
     "name": "stdout",
     "output_type": "stream",
     "text": [
      "DESP: Data doesn't exist for startDate = 1451624400, endDate = 1451970000\n"
     ]
    },
    {
     "name": "stderr",
     "output_type": "stream",
     "text": [
      " 26%|██▌       | 711/2762 [05:31<16:44,  2.04it/s]"
     ]
    },
    {
     "name": "stdout",
     "output_type": "stream",
     "text": [
      "Got error from yahoo api for ticker DSSI, Error: {'code': 'Not Found', 'description': 'No data found, symbol may be delisted'}\n",
      "- DSSI: No timezone found, symbol may be delisted\n"
     ]
    },
    {
     "name": "stderr",
     "output_type": "stream",
     "text": [
      " 26%|██▌       | 716/2762 [05:34<18:25,  1.85it/s]"
     ]
    },
    {
     "name": "stdout",
     "output_type": "stream",
     "text": [
      "DMS: Data doesn't exist for startDate = 1451624400, endDate = 1451970000\n"
     ]
    },
    {
     "name": "stderr",
     "output_type": "stream",
     "text": [
      " 26%|██▌       | 723/2762 [05:38<13:09,  2.58it/s]"
     ]
    },
    {
     "name": "stdout",
     "output_type": "stream",
     "text": [
      "Got error from yahoo api for ticker DNI, Error: {'code': 'Not Found', 'description': 'No data found, symbol may be delisted'}\n",
      "- DNI: No timezone found, symbol may be delisted\n",
      "Got error from yahoo api for ticker DMYT, Error: {'code': 'Not Found', 'description': 'No data found, symbol may be delisted'}\n",
      "- DMYT: No timezone found, symbol may be delisted\n"
     ]
    },
    {
     "name": "stderr",
     "output_type": "stream",
     "text": [
      " 26%|██▋       | 727/2762 [05:40<14:52,  2.28it/s]"
     ]
    },
    {
     "name": "stdout",
     "output_type": "stream",
     "text": [
      "Got error from yahoo api for ticker DCUE, Error: {'code': 'Not Found', 'description': 'No data found, symbol may be delisted'}\n",
      "- DCUE: No timezone found, symbol may be delisted\n"
     ]
    },
    {
     "name": "stderr",
     "output_type": "stream",
     "text": [
      " 26%|██▋       | 728/2762 [05:40<13:19,  2.54it/s]"
     ]
    },
    {
     "name": "stdout",
     "output_type": "stream",
     "text": [
      "DRUA: Data doesn't exist for startDate = 1451624400, endDate = 1451970000\n"
     ]
    },
    {
     "name": "stderr",
     "output_type": "stream",
     "text": [
      " 26%|██▋       | 730/2762 [05:41<12:16,  2.76it/s]"
     ]
    },
    {
     "name": "stdout",
     "output_type": "stream",
     "text": [
      "Got error from yahoo api for ticker UFS, Error: {'code': 'Not Found', 'description': 'No data found, symbol may be delisted'}\n",
      "- UFS: No timezone found, symbol may be delisted\n"
     ]
    },
    {
     "name": "stderr",
     "output_type": "stream",
     "text": [
      " 27%|██▋       | 732/2762 [05:42<14:07,  2.40it/s]"
     ]
    },
    {
     "name": "stdout",
     "output_type": "stream",
     "text": [
      "DFIN: Data doesn't exist for startDate = 1451624400, endDate = 1451970000\n"
     ]
    },
    {
     "name": "stderr",
     "output_type": "stream",
     "text": [
      " 27%|██▋       | 736/2762 [05:44<16:05,  2.10it/s]"
     ]
    },
    {
     "name": "stdout",
     "output_type": "stream",
     "text": [
      "DLY: Data doesn't exist for startDate = 1451624400, endDate = 1451970000\n"
     ]
    },
    {
     "name": "stderr",
     "output_type": "stream",
     "text": [
      " 27%|██▋       | 740/2762 [05:46<15:07,  2.23it/s]"
     ]
    },
    {
     "name": "stdout",
     "output_type": "stream",
     "text": [
      "Got error from yahoo api for ticker DVD, Error: {'code': 'Not Found', 'description': 'No data found, symbol may be delisted'}\n",
      "- DVD: No timezone found, symbol may be delisted\n"
     ]
    },
    {
     "name": "stderr",
     "output_type": "stream",
     "text": [
      " 27%|██▋       | 741/2762 [05:46<13:31,  2.49it/s]"
     ]
    },
    {
     "name": "stdout",
     "output_type": "stream",
     "text": [
      "DOW: Data doesn't exist for startDate = 1451624400, endDate = 1451970000\n"
     ]
    },
    {
     "name": "stderr",
     "output_type": "stream",
     "text": [
      " 27%|██▋       | 745/2762 [05:49<14:32,  2.31it/s]"
     ]
    },
    {
     "name": "stdout",
     "output_type": "stream",
     "text": [
      "Got error from yahoo api for ticker DS, Error: {'code': 'Not Found', 'description': 'No data found, symbol may be delisted'}\n",
      "- DS: No timezone found, symbol may be delisted\n"
     ]
    },
    {
     "name": "stderr",
     "output_type": "stream",
     "text": [
      " 27%|██▋       | 748/2762 [05:50<12:42,  2.64it/s]"
     ]
    },
    {
     "name": "stdout",
     "output_type": "stream",
     "text": [
      "DTJ: Data doesn't exist for startDate = 1451624400, endDate = 1451970000\n",
      "Got error from yahoo api for ticker DTP, Error: {'code': 'Not Found', 'description': 'No data found, symbol may be delisted'}\n",
      "- DTP: No timezone found, symbol may be delisted\n"
     ]
    },
    {
     "name": "stderr",
     "output_type": "stream",
     "text": [
      " 27%|██▋       | 749/2762 [05:50<10:18,  3.25it/s]"
     ]
    },
    {
     "name": "stdout",
     "output_type": "stream",
     "text": [
      "Got error from yahoo api for ticker DTQ, Error: {'code': 'Not Found', 'description': 'No data found, symbol may be delisted'}\n",
      "- DTQ: No timezone found, symbol may be delisted\n"
     ]
    },
    {
     "name": "stderr",
     "output_type": "stream",
     "text": [
      " 27%|██▋       | 750/2762 [05:50<10:05,  3.32it/s]"
     ]
    },
    {
     "name": "stdout",
     "output_type": "stream",
     "text": [
      "DTW: Data doesn't exist for startDate = 1451624400, endDate = 1451970000\n"
     ]
    },
    {
     "name": "stderr",
     "output_type": "stream",
     "text": [
      " 27%|██▋       | 751/2762 [05:51<09:52,  3.39it/s]"
     ]
    },
    {
     "name": "stdout",
     "output_type": "stream",
     "text": [
      "DTY: Data doesn't exist for startDate = 1451624400, endDate = 1451970000\n"
     ]
    },
    {
     "name": "stderr",
     "output_type": "stream",
     "text": [
      " 27%|██▋       | 753/2762 [05:51<10:40,  3.14it/s]"
     ]
    },
    {
     "name": "stdout",
     "output_type": "stream",
     "text": [
      "Got error from yahoo api for ticker DSE, Error: {'code': 'Not Found', 'description': 'No data found, symbol may be delisted'}\n",
      "- DSE: No timezone found, symbol may be delisted\n"
     ]
    },
    {
     "name": "stderr",
     "output_type": "stream",
     "text": [
      " 27%|██▋       | 756/2762 [05:53<13:40,  2.45it/s]"
     ]
    },
    {
     "name": "stdout",
     "output_type": "stream",
     "text": [
      "Got error from yahoo api for ticker DUC, Error: {'code': 'Not Found', 'description': 'No data found, symbol may be delisted'}\n",
      "- DUC: No timezone found, symbol may be delisted\n"
     ]
    },
    {
     "name": "stderr",
     "output_type": "stream",
     "text": [
      " 27%|██▋       | 759/2762 [05:54<15:23,  2.17it/s]"
     ]
    },
    {
     "name": "stdout",
     "output_type": "stream",
     "text": [
      "DUKB: Data doesn't exist for startDate = 1451624400, endDate = 1451970000\n"
     ]
    },
    {
     "name": "stderr",
     "output_type": "stream",
     "text": [
      " 28%|██▊       | 761/2762 [05:55<13:12,  2.52it/s]"
     ]
    },
    {
     "name": "stdout",
     "output_type": "stream",
     "text": [
      "Got error from yahoo api for ticker DRE, Error: {'code': 'Not Found', 'description': 'No data found, symbol may be delisted'}\n",
      "- DRE: No timezone found, symbol may be delisted\n"
     ]
    },
    {
     "name": "stderr",
     "output_type": "stream",
     "text": [
      " 28%|██▊       | 762/2762 [05:56<12:00,  2.77it/s]"
     ]
    },
    {
     "name": "stdout",
     "output_type": "stream",
     "text": [
      "DNB: Data doesn't exist for startDate = 1451624400, endDate = 1451970000\n"
     ]
    },
    {
     "name": "stderr",
     "output_type": "stream",
     "text": [
      " 28%|██▊       | 767/2762 [05:58<15:47,  2.10it/s]"
     ]
    },
    {
     "name": "stdout",
     "output_type": "stream",
     "text": [
      "DT: Data doesn't exist for startDate = 1451624400, endDate = 1451970000\n"
     ]
    },
    {
     "name": "stderr",
     "output_type": "stream",
     "text": [
      " 28%|██▊       | 769/2762 [05:59<15:25,  2.15it/s]"
     ]
    },
    {
     "name": "stdout",
     "output_type": "stream",
     "text": [
      "ELF: Data doesn't exist for startDate = 1451624400, endDate = 1451970000\n"
     ]
    },
    {
     "name": "stderr",
     "output_type": "stream",
     "text": [
      " 28%|██▊       | 772/2762 [06:00<10:56,  3.03it/s]"
     ]
    },
    {
     "name": "stdout",
     "output_type": "stream",
     "text": [
      "Got error from yahoo api for ticker ECC           , Error: {'code': 'Not Found', 'description': 'No data found, symbol may be delisted'}\n",
      "- ECC           : No timezone found, symbol may be delisted\n",
      "Got error from yahoo api for ticker ECCB, Error: {'code': 'Not Found', 'description': 'No data found, symbol may be delisted'}\n",
      "- ECCB: No timezone found, symbol may be delisted\n"
     ]
    },
    {
     "name": "stderr",
     "output_type": "stream",
     "text": [
      " 28%|██▊       | 773/2762 [06:01<10:20,  3.20it/s]"
     ]
    },
    {
     "name": "stdout",
     "output_type": "stream",
     "text": [
      "ECCX: Data doesn't exist for startDate = 1451624400, endDate = 1451970000\n"
     ]
    },
    {
     "name": "stderr",
     "output_type": "stream",
     "text": [
      " 28%|██▊       | 774/2762 [06:01<10:06,  3.28it/s]"
     ]
    },
    {
     "name": "stdout",
     "output_type": "stream",
     "text": [
      "ECCY: Data doesn't exist for startDate = 1451624400, endDate = 1451970000\n"
     ]
    },
    {
     "name": "stderr",
     "output_type": "stream",
     "text": [
      " 28%|██▊       | 775/2762 [06:01<09:43,  3.40it/s]"
     ]
    },
    {
     "name": "stdout",
     "output_type": "stream",
     "text": [
      "EIC: Data doesn't exist for startDate = 1451624400, endDate = 1451970000\n"
     ]
    },
    {
     "name": "stderr",
     "output_type": "stream",
     "text": [
      " 28%|██▊       | 784/2762 [06:06<16:16,  2.03it/s]"
     ]
    },
    {
     "name": "stdout",
     "output_type": "stream",
     "text": [
      "Got error from yahoo api for ticker EV, Error: {'code': 'Not Found', 'description': 'No data found, symbol may be delisted'}\n",
      "- EV: No timezone found, symbol may be delisted\n"
     ]
    },
    {
     "name": "stderr",
     "output_type": "stream",
     "text": [
      " 29%|██▊       | 789/2762 [06:09<12:46,  2.57it/s]"
     ]
    },
    {
     "name": "stdout",
     "output_type": "stream",
     "text": [
      "EFL: Data doesn't exist for startDate = 1451624400, endDate = 1451970000\n",
      "Got error from yahoo api for ticker EFF, Error: {'code': 'Not Found', 'description': 'No data found, symbol may be delisted'}\n",
      "- EFF: No timezone found, symbol may be delisted\n"
     ]
    },
    {
     "name": "stderr",
     "output_type": "stream",
     "text": [
      " 29%|██▊       | 791/2762 [06:09<08:25,  3.90it/s]"
     ]
    },
    {
     "name": "stdout",
     "output_type": "stream",
     "text": [
      "Got error from yahoo api for ticker EHT, Error: {'code': 'Not Found', 'description': 'No data found, symbol may be delisted'}\n",
      "- EHT: No timezone found, symbol may be delisted\n",
      "Got error from yahoo api for ticker ETX           , Error: {'code': 'Not Found', 'description': 'No data found, symbol may be delisted'}\n",
      "- ETX           : No timezone found, symbol may be delisted\n"
     ]
    },
    {
     "name": "stderr",
     "output_type": "stream",
     "text": [
      " 29%|██▉       | 811/2762 [06:21<13:02,  2.49it/s]"
     ]
    },
    {
     "name": "stdout",
     "output_type": "stream",
     "text": [
      "ELAN: Data doesn't exist for startDate = 1451624400, endDate = 1451970000\n",
      "Got error from yahoo api for ticker ELAT, Error: {'code': 'Not Found', 'description': 'No data found, symbol may be delisted'}\n",
      "- ELAT: No timezone found, symbol may be delisted\n"
     ]
    },
    {
     "name": "stderr",
     "output_type": "stream",
     "text": [
      " 29%|██▉       | 812/2762 [06:21<11:46,  2.76it/s]"
     ]
    },
    {
     "name": "stdout",
     "output_type": "stream",
     "text": [
      "ESTC: Data doesn't exist for startDate = 1451624400, endDate = 1451970000\n"
     ]
    },
    {
     "name": "stderr",
     "output_type": "stream",
     "text": [
      " 30%|██▉       | 815/2762 [06:23<12:12,  2.66it/s]"
     ]
    },
    {
     "name": "stdout",
     "output_type": "stream",
     "text": [
      "Got error from yahoo api for ticker ELVT, Error: {'code': 'Not Found', 'description': 'No data found, symbol may be delisted'}\n",
      "- ELVT: No timezone found, symbol may be delisted\n"
     ]
    },
    {
     "name": "stderr",
     "output_type": "stream",
     "text": [
      " 30%|██▉       | 821/2762 [06:26<16:23,  1.97it/s]"
     ]
    },
    {
     "name": "stdout",
     "output_type": "stream",
     "text": [
      "EEX: Data doesn't exist for startDate = 1451624400, endDate = 1451970000\n"
     ]
    },
    {
     "name": "stderr",
     "output_type": "stream",
     "text": [
      " 30%|██▉       | 827/2762 [06:29<14:57,  2.16it/s]"
     ]
    },
    {
     "name": "stdout",
     "output_type": "stream",
     "text": [
      "Got error from yahoo api for ticker ENBL, Error: {'code': 'Not Found', 'description': 'No data found, symbol may be delisted'}\n",
      "- ENBL: No timezone found, symbol may be delisted\n"
     ]
    },
    {
     "name": "stderr",
     "output_type": "stream",
     "text": [
      " 30%|███       | 829/2762 [06:31<15:24,  2.09it/s]"
     ]
    },
    {
     "name": "stdout",
     "output_type": "stream",
     "text": [
      "ENBA: Data doesn't exist for startDate = 1451624400, endDate = 1451970000\n"
     ]
    },
    {
     "name": "stderr",
     "output_type": "stream",
     "text": [
      " 30%|███       | 831/2762 [06:31<14:11,  2.27it/s]"
     ]
    },
    {
     "name": "stdout",
     "output_type": "stream",
     "text": [
      "DAVA: Data doesn't exist for startDate = 1451624400, endDate = 1451970000\n"
     ]
    },
    {
     "name": "stderr",
     "output_type": "stream",
     "text": [
      " 30%|███       | 833/2762 [06:32<12:04,  2.66it/s]"
     ]
    },
    {
     "name": "stdout",
     "output_type": "stream",
     "text": [
      "Got error from yahoo api for ticker ENIA, Error: {'code': 'Not Found', 'description': 'No data found, symbol may be delisted'}\n",
      "- ENIA: No timezone found, symbol may be delisted\n"
     ]
    },
    {
     "name": "stderr",
     "output_type": "stream",
     "text": [
      " 30%|███       | 834/2762 [06:32<11:24,  2.82it/s]"
     ]
    },
    {
     "name": "stdout",
     "output_type": "stream",
     "text": [
      "ENIC: Data doesn't exist for startDate = 1451624400, endDate = 1451970000\n"
     ]
    },
    {
     "name": "stderr",
     "output_type": "stream",
     "text": [
      " 31%|███       | 846/2762 [06:39<11:38,  2.74it/s]"
     ]
    },
    {
     "name": "stdout",
     "output_type": "stream",
     "text": [
      "Got error from yahoo api for ticker ETM, Error: {'code': 'Not Found', 'description': 'No data found, symbol may be delisted'}\n",
      "- ETM: No timezone found, symbol may be delisted\n",
      "Got error from yahoo api for ticker EAB, Error: {'code': 'Not Found', 'description': 'No data found, symbol may be delisted'}\n",
      "- EAB: No timezone found, symbol may be delisted\n"
     ]
    },
    {
     "name": "stderr",
     "output_type": "stream",
     "text": [
      " 31%|███       | 847/2762 [06:39<09:23,  3.40it/s]"
     ]
    },
    {
     "name": "stdout",
     "output_type": "stream",
     "text": [
      "Got error from yahoo api for ticker EAE, Error: {'code': 'Not Found', 'description': 'No data found, symbol may be delisted'}\n",
      "- EAE: No timezone found, symbol may be delisted\n"
     ]
    },
    {
     "name": "stderr",
     "output_type": "stream",
     "text": [
      " 31%|███       | 848/2762 [06:39<09:13,  3.46it/s]"
     ]
    },
    {
     "name": "stdout",
     "output_type": "stream",
     "text": [
      "EAI: No data found for this date range, symbol may be delisted\n"
     ]
    },
    {
     "name": "stderr",
     "output_type": "stream",
     "text": [
      " 31%|███       | 851/2762 [06:41<11:49,  2.69it/s]"
     ]
    },
    {
     "name": "stdout",
     "output_type": "stream",
     "text": [
      "Got error from yahoo api for ticker ELJ, Error: {'code': 'Not Found', 'description': 'No data found, symbol may be delisted'}\n",
      "- ELJ: No timezone found, symbol may be delisted\n"
     ]
    },
    {
     "name": "stderr",
     "output_type": "stream",
     "text": [
      " 31%|███       | 853/2762 [06:42<12:28,  2.55it/s]"
     ]
    },
    {
     "name": "stdout",
     "output_type": "stream",
     "text": [
      "EMP: No data found for this date range, symbol may be delisted\n"
     ]
    },
    {
     "name": "stderr",
     "output_type": "stream",
     "text": [
      " 31%|███       | 855/2762 [06:42<12:37,  2.52it/s]"
     ]
    },
    {
     "name": "stdout",
     "output_type": "stream",
     "text": [
      "ENO: Data doesn't exist for startDate = 1451624400, endDate = 1451970000\n"
     ]
    },
    {
     "name": "stderr",
     "output_type": "stream",
     "text": [
      " 31%|███       | 860/2762 [06:45<15:23,  2.06it/s]"
     ]
    },
    {
     "name": "stdout",
     "output_type": "stream",
     "text": [
      "NVST: Data doesn't exist for startDate = 1451624400, endDate = 1451970000\n"
     ]
    },
    {
     "name": "stderr",
     "output_type": "stream",
     "text": [
      " 31%|███▏      | 869/2762 [06:51<16:58,  1.86it/s]"
     ]
    },
    {
     "name": "stdout",
     "output_type": "stream",
     "text": [
      "EQH: Data doesn't exist for startDate = 1451624400, endDate = 1451970000\n"
     ]
    },
    {
     "name": "stderr",
     "output_type": "stream",
     "text": [
      " 31%|███▏      | 870/2762 [06:51<14:24,  2.19it/s]"
     ]
    },
    {
     "name": "stdout",
     "output_type": "stream",
     "text": [
      "ETRN: Data doesn't exist for startDate = 1451624400, endDate = 1451970000\n"
     ]
    },
    {
     "name": "stderr",
     "output_type": "stream",
     "text": [
      " 32%|███▏      | 875/2762 [06:54<14:25,  2.18it/s]"
     ]
    },
    {
     "name": "stdout",
     "output_type": "stream",
     "text": [
      "Got error from yahoo api for ticker EROS, Error: {'code': 'Not Found', 'description': 'No data found, symbol may be delisted'}\n",
      "- EROS: No timezone found, symbol may be delisted\n"
     ]
    },
    {
     "name": "stderr",
     "output_type": "stream",
     "text": [
      " 32%|███▏      | 878/2762 [06:55<16:18,  1.93it/s]"
     ]
    },
    {
     "name": "stdout",
     "output_type": "stream",
     "text": [
      "EPRT: Data doesn't exist for startDate = 1451624400, endDate = 1451970000\n"
     ]
    },
    {
     "name": "stderr",
     "output_type": "stream",
     "text": [
      " 32%|███▏      | 880/2762 [06:56<13:41,  2.29it/s]"
     ]
    },
    {
     "name": "stdout",
     "output_type": "stream",
     "text": [
      "Got error from yahoo api for ticker WTRU, Error: {'code': 'Not Found', 'description': 'No data found, symbol may be delisted'}\n",
      "- WTRU: No timezone found, symbol may be delisted\n"
     ]
    },
    {
     "name": "stderr",
     "output_type": "stream",
     "text": [
      " 32%|███▏      | 883/2762 [06:58<13:23,  2.34it/s]"
     ]
    },
    {
     "name": "stdout",
     "output_type": "stream",
     "text": [
      "Got error from yahoo api for ticker ETH, Error: {'code': 'Not Found', 'description': 'No data found, symbol may be delisted'}\n",
      "- ETH: No timezone found, symbol may be delisted\n"
     ]
    },
    {
     "name": "stderr",
     "output_type": "stream",
     "text": [
      " 32%|███▏      | 886/2762 [06:59<14:16,  2.19it/s]"
     ]
    },
    {
     "name": "stdout",
     "output_type": "stream",
     "text": [
      "EB: Data doesn't exist for startDate = 1451624400, endDate = 1451970000\n"
     ]
    },
    {
     "name": "stderr",
     "output_type": "stream",
     "text": [
      " 32%|███▏      | 895/2762 [07:04<12:29,  2.49it/s]"
     ]
    },
    {
     "name": "stdout",
     "output_type": "stream",
     "text": [
      "AQUA: Data doesn't exist for startDate = 1451624400, endDate = 1451970000\n",
      "Got error from yahoo api for ticker XAN, Error: {'code': 'Not Found', 'description': 'No data found, symbol may be delisted'}\n",
      "- XAN: No timezone found, symbol may be delisted\n"
     ]
    },
    {
     "name": "stderr",
     "output_type": "stream",
     "text": [
      " 32%|███▏      | 897/2762 [07:05<11:14,  2.77it/s]"
     ]
    },
    {
     "name": "stdout",
     "output_type": "stream",
     "text": [
      "Got error from yahoo api for ticker EXTN, Error: {'code': 'Not Found', 'description': 'No data found, symbol may be delisted'}\n",
      "- EXTN: No timezone found, symbol may be delisted\n"
     ]
    },
    {
     "name": "stderr",
     "output_type": "stream",
     "text": [
      " 33%|███▎      | 905/2762 [07:09<11:53,  2.60it/s]"
     ]
    },
    {
     "name": "stdout",
     "output_type": "stream",
     "text": [
      "Got error from yahoo api for ticker SFUN, Error: {'code': 'Not Found', 'description': 'No data found, symbol may be delisted'}\n",
      "- SFUN: No timezone found, symbol may be delisted\n",
      "Got error from yahoo api for ticker FPAC, Error: {'code': 'Not Found', 'description': 'No data found, symbol may be delisted'}\n",
      "- FPAC: No timezone found, symbol may be delisted\n"
     ]
    },
    {
     "name": "stderr",
     "output_type": "stream",
     "text": [
      " 33%|███▎      | 906/2762 [07:10<10:58,  2.82it/s]"
     ]
    },
    {
     "name": "stdout",
     "output_type": "stream",
     "text": [
      "FTCH: Data doesn't exist for startDate = 1451624400, endDate = 1451970000\n"
     ]
    },
    {
     "name": "stderr",
     "output_type": "stream",
     "text": [
      " 33%|███▎      | 908/2762 [07:11<12:00,  2.57it/s]"
     ]
    },
    {
     "name": "stdout",
     "output_type": "stream",
     "text": [
      "FSLY: Data doesn't exist for startDate = 1451624400, endDate = 1451970000\n"
     ]
    },
    {
     "name": "stderr",
     "output_type": "stream",
     "text": [
      " 33%|███▎      | 910/2762 [07:11<09:06,  3.39it/s]"
     ]
    },
    {
     "name": "stdout",
     "output_type": "stream",
     "text": [
      "FBK: Data doesn't exist for startDate = 1451624400, endDate = 1451970000\n",
      "Got error from yahoo api for ticker FFG, Error: {'code': 'Not Found', 'description': 'No data found, symbol may be delisted'}\n",
      "- FFG: No timezone found, symbol may be delisted\n"
     ]
    },
    {
     "name": "stderr",
     "output_type": "stream",
     "text": [
      " 33%|███▎      | 919/2762 [07:16<11:17,  2.72it/s]"
     ]
    },
    {
     "name": "stdout",
     "output_type": "stream",
     "text": [
      "Got error from yahoo api for ticker FOE, Error: {'code': 'Not Found', 'description': 'No data found, symbol may be delisted'}\n",
      "- FOE: No timezone found, symbol may be delisted\n",
      "Got error from yahoo api for ticker FCAU, Error: {'code': 'Not Found', 'description': 'No data found, symbol may be delisted'}\n",
      "- FCAU: No timezone found, symbol may be delisted\n"
     ]
    },
    {
     "name": "stderr",
     "output_type": "stream",
     "text": [
      " 33%|███▎      | 923/2762 [07:18<13:44,  2.23it/s]"
     ]
    },
    {
     "name": "stdout",
     "output_type": "stream",
     "text": [
      "FINV: Data doesn't exist for startDate = 1451624400, endDate = 1451970000\n"
     ]
    },
    {
     "name": "stderr",
     "output_type": "stream",
     "text": [
      " 34%|███▎      | 927/2762 [07:20<13:44,  2.23it/s]"
     ]
    },
    {
     "name": "stdout",
     "output_type": "stream",
     "text": [
      "Got error from yahoo api for ticker TCRW, Error: {'code': 'Not Found', 'description': 'No data found, symbol may be delisted'}\n",
      "- TCRW: No timezone found, symbol may be delisted\n"
     ]
    },
    {
     "name": "stderr",
     "output_type": "stream",
     "text": [
      " 34%|███▎      | 929/2762 [07:21<11:33,  2.64it/s]"
     ]
    },
    {
     "name": "stdout",
     "output_type": "stream",
     "text": [
      "Got error from yahoo api for ticker FSLF, Error: {'code': 'Not Found', 'description': 'No data found, symbol may be delisted'}\n",
      "- FSLF: No timezone found, symbol may be delisted\n"
     ]
    },
    {
     "name": "stderr",
     "output_type": "stream",
     "text": [
      " 34%|███▍      | 933/2762 [07:23<14:14,  2.14it/s]"
     ]
    },
    {
     "name": "stdout",
     "output_type": "stream",
     "text": [
      "FRC: Data doesn't exist for startDate = 1451624400, endDate = 1451970000\n"
     ]
    },
    {
     "name": "stderr",
     "output_type": "stream",
     "text": [
      " 34%|███▍      | 939/2762 [07:26<14:46,  2.06it/s]"
     ]
    },
    {
     "name": "stdout",
     "output_type": "stream",
     "text": [
      "FTHY: Data doesn't exist for startDate = 1451624400, endDate = 1451970000\n"
     ]
    },
    {
     "name": "stderr",
     "output_type": "stream",
     "text": [
      " 34%|███▍      | 941/2762 [07:27<12:16,  2.47it/s]"
     ]
    },
    {
     "name": "stdout",
     "output_type": "stream",
     "text": [
      "Got error from yahoo api for ticker FEI           , Error: {'code': 'Not Found', 'description': 'No data found, symbol may be delisted'}\n",
      "- FEI           : No timezone found, symbol may be delisted\n"
     ]
    },
    {
     "name": "stderr",
     "output_type": "stream",
     "text": [
      " 34%|███▍      | 943/2762 [07:28<10:57,  2.77it/s]"
     ]
    },
    {
     "name": "stdout",
     "output_type": "stream",
     "text": [
      "Got error from yahoo api for ticker FIV, Error: {'code': 'Not Found', 'description': 'No data found, symbol may be delisted'}\n",
      "- FIV: No timezone found, symbol may be delisted\n"
     ]
    },
    {
     "name": "stderr",
     "output_type": "stream",
     "text": [
      " 34%|███▍      | 949/2762 [07:31<13:28,  2.24it/s]"
     ]
    },
    {
     "name": "stdout",
     "output_type": "stream",
     "text": [
      "Got error from yahoo api for ticker FIT, Error: {'code': 'Not Found', 'description': 'No data found, symbol may be delisted'}\n",
      "- FIT: No timezone found, symbol may be delisted\n"
     ]
    },
    {
     "name": "stderr",
     "output_type": "stream",
     "text": [
      " 34%|███▍      | 950/2762 [07:31<12:00,  2.52it/s]"
     ]
    },
    {
     "name": "stdout",
     "output_type": "stream",
     "text": [
      "FPH: Data doesn't exist for startDate = 1451624400, endDate = 1451970000\n"
     ]
    },
    {
     "name": "stderr",
     "output_type": "stream",
     "text": [
      " 34%|███▍      | 952/2762 [07:31<09:15,  3.26it/s]"
     ]
    },
    {
     "name": "stdout",
     "output_type": "stream",
     "text": [
      "FVRR: Data doesn't exist for startDate = 1451624400, endDate = 1451970000\n",
      "Got error from yahoo api for ticker FBC, Error: {'code': 'Not Found', 'description': 'No data found, symbol may be delisted'}\n",
      "- FBC: No timezone found, symbol may be delisted\n"
     ]
    },
    {
     "name": "stderr",
     "output_type": "stream",
     "text": [
      " 35%|███▍      | 959/2762 [07:36<14:57,  2.01it/s]"
     ]
    },
    {
     "name": "stdout",
     "output_type": "stream",
     "text": [
      "FLNG: Data doesn't exist for startDate = 1451624400, endDate = 1451970000\n"
     ]
    },
    {
     "name": "stderr",
     "output_type": "stream",
     "text": [
      " 35%|███▍      | 960/2762 [07:36<13:00,  2.31it/s]"
     ]
    },
    {
     "name": "stdout",
     "output_type": "stream",
     "text": [
      "FND: Data doesn't exist for startDate = 1451624400, endDate = 1451970000\n"
     ]
    },
    {
     "name": "stderr",
     "output_type": "stream",
     "text": [
      " 35%|███▍      | 966/2762 [07:39<11:02,  2.71it/s]"
     ]
    },
    {
     "name": "stdout",
     "output_type": "stream",
     "text": [
      "Got error from yahoo api for ticker FLY, Error: {'code': 'Not Found', 'description': 'No data found, symbol may be delisted'}\n",
      "- FLY: No timezone found, symbol may be delisted\n",
      "Got error from yahoo api for ticker FEAC, Error: {'code': 'Not Found', 'description': 'No data found, symbol may be delisted'}\n",
      "- FEAC: No timezone found, symbol may be delisted\n"
     ]
    },
    {
     "name": "stderr",
     "output_type": "stream",
     "text": [
      " 35%|███▌      | 968/2762 [07:40<11:14,  2.66it/s]"
     ]
    },
    {
     "name": "stdout",
     "output_type": "stream",
     "text": [
      "Got error from yahoo api for ticker WPF, Error: {'code': 'Not Found', 'description': 'No data found, symbol may be delisted'}\n",
      "- WPF: No timezone found, symbol may be delisted\n"
     ]
    },
    {
     "name": "stderr",
     "output_type": "stream",
     "text": [
      " 35%|███▌      | 974/2762 [07:43<15:16,  1.95it/s]"
     ]
    },
    {
     "name": "stdout",
     "output_type": "stream",
     "text": [
      "FTV: Data doesn't exist for startDate = 1451624400, endDate = 1451970000\n"
     ]
    },
    {
     "name": "stderr",
     "output_type": "stream",
     "text": [
      " 35%|███▌      | 976/2762 [07:44<12:09,  2.45it/s]"
     ]
    },
    {
     "name": "stdout",
     "output_type": "stream",
     "text": [
      "Got error from yahoo api for ticker FVAC, Error: {'code': 'Not Found', 'description': 'No data found, symbol may be delisted'}\n",
      "- FVAC: No timezone found, symbol may be delisted\n"
     ]
    },
    {
     "name": "stderr",
     "output_type": "stream",
     "text": [
      " 35%|███▌      | 978/2762 [07:45<10:46,  2.76it/s]"
     ]
    },
    {
     "name": "stdout",
     "output_type": "stream",
     "text": [
      "Got error from yahoo api for ticker FBHS, Error: {'code': 'Not Found', 'description': 'No data found, symbol may be delisted'}\n",
      "- FBHS: No timezone found, symbol may be delisted\n"
     ]
    },
    {
     "name": "stderr",
     "output_type": "stream",
     "text": [
      " 35%|███▌      | 980/2762 [07:45<10:09,  2.92it/s]"
     ]
    },
    {
     "name": "stdout",
     "output_type": "stream",
     "text": [
      "Got error from yahoo api for ticker FBM, Error: {'code': 'Not Found', 'description': 'No data found, symbol may be delisted'}\n",
      "- FBM: No timezone found, symbol may be delisted\n"
     ]
    },
    {
     "name": "stderr",
     "output_type": "stream",
     "text": [
      " 36%|███▌      | 982/2762 [07:46<11:05,  2.67it/s]"
     ]
    },
    {
     "name": "stdout",
     "output_type": "stream",
     "text": [
      "FEDU: Data doesn't exist for startDate = 1451624400, endDate = 1451970000\n"
     ]
    },
    {
     "name": "stderr",
     "output_type": "stream",
     "text": [
      " 36%|███▌      | 985/2762 [07:48<11:10,  2.65it/s]"
     ]
    },
    {
     "name": "stdout",
     "output_type": "stream",
     "text": [
      "Got error from yahoo api for ticker FSB, Error: {'code': 'Not Found', 'description': 'No data found, symbol may be delisted'}\n",
      "- FSB: No timezone found, symbol may be delisted\n"
     ]
    },
    {
     "name": "stderr",
     "output_type": "stream",
     "text": [
      " 36%|███▌      | 992/2762 [07:52<15:12,  1.94it/s]"
     ]
    },
    {
     "name": "stdout",
     "output_type": "stream",
     "text": [
      "RESI: Data doesn't exist for startDate = 1451624400, endDate = 1451970000\n"
     ]
    },
    {
     "name": "stderr",
     "output_type": "stream",
     "text": [
      " 36%|███▌      | 995/2762 [07:53<12:35,  2.34it/s]"
     ]
    },
    {
     "name": "stdout",
     "output_type": "stream",
     "text": [
      "Got error from yahoo api for ticker FSKR, Error: {'code': 'Not Found', 'description': 'No data found, symbol may be delisted'}\n",
      "- FSKR: No timezone found, symbol may be delisted\n"
     ]
    },
    {
     "name": "stderr",
     "output_type": "stream",
     "text": [
      " 36%|███▋      | 1004/2762 [07:58<11:16,  2.60it/s]"
     ]
    },
    {
     "name": "stdout",
     "output_type": "stream",
     "text": [
      "Got error from yahoo api for ticker GLEO, Error: {'code': 'Not Found', 'description': 'No data found, symbol may be delisted'}\n",
      "- GLEO: No timezone found, symbol may be delisted\n",
      "Got error from yahoo api for ticker GBL, Error: {'code': 'Not Found', 'description': 'No data found, symbol may be delisted'}\n",
      "- GBL: No timezone found, symbol may be delisted\n"
     ]
    },
    {
     "name": "stderr",
     "output_type": "stream",
     "text": [
      " 37%|███▋      | 1009/2762 [08:01<14:00,  2.09it/s]"
     ]
    },
    {
     "name": "stdout",
     "output_type": "stream",
     "text": [
      "GTX: Data doesn't exist for startDate = 1451624400, endDate = 1451970000\n"
     ]
    },
    {
     "name": "stderr",
     "output_type": "stream",
     "text": [
      " 37%|███▋      | 1011/2762 [08:01<11:42,  2.49it/s]"
     ]
    },
    {
     "name": "stdout",
     "output_type": "stream",
     "text": [
      "Got error from yahoo api for ticker GLOG, Error: {'code': 'Not Found', 'description': 'No data found, symbol may be delisted'}\n",
      "- GLOG: No timezone found, symbol may be delisted\n"
     ]
    },
    {
     "name": "stderr",
     "output_type": "stream",
     "text": [
      " 37%|███▋      | 1013/2762 [08:02<11:52,  2.45it/s]"
     ]
    },
    {
     "name": "stdout",
     "output_type": "stream",
     "text": [
      "GTES: Data doesn't exist for startDate = 1451624400, endDate = 1451970000\n"
     ]
    },
    {
     "name": "stderr",
     "output_type": "stream",
     "text": [
      " 37%|███▋      | 1016/2762 [08:03<10:19,  2.82it/s]"
     ]
    },
    {
     "name": "stdout",
     "output_type": "stream",
     "text": [
      "GMTA: Data doesn't exist for startDate = 1451624400, endDate = 1451970000\n",
      "Got error from yahoo api for ticker GCP, Error: {'code': 'Not Found', 'description': 'No data found, symbol may be delisted'}\n",
      "- GCP: No timezone found, symbol may be delisted\n"
     ]
    },
    {
     "name": "stderr",
     "output_type": "stream",
     "text": [
      " 37%|███▋      | 1026/2762 [08:10<14:31,  1.99it/s]"
     ]
    },
    {
     "name": "stdout",
     "output_type": "stream",
     "text": [
      "Got error from yahoo api for ticker GEN           , Error: {'code': 'Not Found', 'description': 'No data found, symbol may be delisted'}\n",
      "- GEN           : No timezone found, symbol may be delisted\n"
     ]
    },
    {
     "name": "stderr",
     "output_type": "stream",
     "text": [
      " 37%|███▋      | 1033/2762 [08:14<14:49,  1.94it/s]"
     ]
    },
    {
     "name": "stdout",
     "output_type": "stream",
     "text": [
      "GPJA: Data doesn't exist for startDate = 1451624400, endDate = 1451970000\n"
     ]
    },
    {
     "name": "stderr",
     "output_type": "stream",
     "text": [
      " 38%|███▊      | 1037/2762 [08:15<11:22,  2.53it/s]"
     ]
    },
    {
     "name": "stdout",
     "output_type": "stream",
     "text": [
      "GFL: Data doesn't exist for startDate = 1451624400, endDate = 1451970000\n",
      "Got error from yahoo api for ticker GFLU, Error: {'code': 'Not Found', 'description': 'No data found, symbol may be delisted'}\n",
      "- GFLU: No timezone found, symbol may be delisted\n"
     ]
    },
    {
     "name": "stderr",
     "output_type": "stream",
     "text": [
      " 38%|███▊      | 1039/2762 [08:16<07:42,  3.72it/s]"
     ]
    },
    {
     "name": "stdout",
     "output_type": "stream",
     "text": [
      "Got error from yahoo api for ticker GIX, Error: {'code': 'Not Found', 'description': 'No data found, symbol may be delisted'}\n",
      "- GIX: No timezone found, symbol may be delisted\n",
      "Got error from yahoo api for ticker GIX~, Error: {'code': 'Not Found', 'description': 'No data found, symbol may be delisted'}\n",
      "- GIX~: No timezone found, symbol may be delisted\n"
     ]
    },
    {
     "name": "stderr",
     "output_type": "stream",
     "text": [
      " 38%|███▊      | 1040/2762 [08:16<06:35,  4.36it/s]"
     ]
    },
    {
     "name": "stdout",
     "output_type": "stream",
     "text": [
      "Got error from yahoo api for ticker GIK, Error: {'code': 'Not Found', 'description': 'No data found, symbol may be delisted'}\n",
      "- GIK: No timezone found, symbol may be delisted\n"
     ]
    },
    {
     "name": "stderr",
     "output_type": "stream",
     "text": [
      " 38%|███▊      | 1046/2762 [08:19<13:57,  2.05it/s]"
     ]
    },
    {
     "name": "stdout",
     "output_type": "stream",
     "text": [
      "GMRE: Data doesn't exist for startDate = 1451624400, endDate = 1451970000\n"
     ]
    },
    {
     "name": "stderr",
     "output_type": "stream",
     "text": [
      " 38%|███▊      | 1051/2762 [08:22<13:11,  2.16it/s]"
     ]
    },
    {
     "name": "stdout",
     "output_type": "stream",
     "text": [
      "Got error from yahoo api for ticker GSLD, Error: {'code': 'Not Found', 'description': 'No data found, symbol may be delisted'}\n",
      "- GSLD: No timezone found, symbol may be delisted\n"
     ]
    },
    {
     "name": "stderr",
     "output_type": "stream",
     "text": [
      " 38%|███▊      | 1055/2762 [08:24<13:39,  2.08it/s]"
     ]
    },
    {
     "name": "stdout",
     "output_type": "stream",
     "text": [
      "GMS: Data doesn't exist for startDate = 1451624400, endDate = 1451970000\n"
     ]
    },
    {
     "name": "stderr",
     "output_type": "stream",
     "text": [
      " 38%|███▊      | 1062/2762 [08:28<13:08,  2.16it/s]"
     ]
    },
    {
     "name": "stdout",
     "output_type": "stream",
     "text": [
      "Got error from yahoo api for ticker GMZ, Error: {'code': 'Not Found', 'description': 'No data found, symbol may be delisted'}\n",
      "- GMZ: No timezone found, symbol may be delisted\n"
     ]
    },
    {
     "name": "stderr",
     "output_type": "stream",
     "text": [
      " 39%|███▊      | 1064/2762 [08:29<11:51,  2.39it/s]"
     ]
    },
    {
     "name": "stdout",
     "output_type": "stream",
     "text": [
      "Got error from yahoo api for ticker GPX, Error: {'code': 'Not Found', 'description': 'No data found, symbol may be delisted'}\n",
      "- GPX: No timezone found, symbol may be delisted\n"
     ]
    },
    {
     "name": "stderr",
     "output_type": "stream",
     "text": [
      " 39%|███▊      | 1066/2762 [08:30<11:01,  2.56it/s]"
     ]
    },
    {
     "name": "stdout",
     "output_type": "stream",
     "text": [
      "Got error from yahoo api for ticker GRAF, Error: {'code': 'Not Found', 'description': 'No data found, symbol may be delisted'}\n",
      "- GRAF: No timezone found, symbol may be delisted\n"
     ]
    },
    {
     "name": "stderr",
     "output_type": "stream",
     "text": [
      " 39%|███▊      | 1067/2762 [08:30<10:27,  2.70it/s]"
     ]
    },
    {
     "name": "stdout",
     "output_type": "stream",
     "text": [
      "EAF: Data doesn't exist for startDate = 1451624400, endDate = 1451970000\n"
     ]
    },
    {
     "name": "stderr",
     "output_type": "stream",
     "text": [
      " 39%|███▊      | 1070/2762 [08:32<11:45,  2.40it/s]"
     ]
    },
    {
     "name": "stdout",
     "output_type": "stream",
     "text": [
      "Got error from yahoo api for ticker GRAM, Error: {'code': 'Not Found', 'description': 'No data found, symbol may be delisted'}\n",
      "- GRAM: No timezone found, symbol may be delisted\n"
     ]
    },
    {
     "name": "stderr",
     "output_type": "stream",
     "text": [
      " 39%|███▉      | 1072/2762 [08:33<12:14,  2.30it/s]"
     ]
    },
    {
     "name": "stdout",
     "output_type": "stream",
     "text": [
      "GPMT: Data doesn't exist for startDate = 1451624400, endDate = 1451970000\n"
     ]
    },
    {
     "name": "stderr",
     "output_type": "stream",
     "text": [
      " 39%|███▉      | 1077/2762 [08:35<10:30,  2.67it/s]"
     ]
    },
    {
     "name": "stdout",
     "output_type": "stream",
     "text": [
      "AJXA: Data doesn't exist for startDate = 1451624400, endDate = 1451970000\n",
      "Got error from yahoo api for ticker GWB, Error: {'code': 'Not Found', 'description': 'No data found, symbol may be delisted'}\n",
      "- GWB: No timezone found, symbol may be delisted\n"
     ]
    },
    {
     "name": "stderr",
     "output_type": "stream",
     "text": [
      " 39%|███▉      | 1081/2762 [08:37<13:23,  2.09it/s]"
     ]
    },
    {
     "name": "stdout",
     "output_type": "stream",
     "text": [
      "GHG: Data doesn't exist for startDate = 1451624400, endDate = 1451970000\n"
     ]
    },
    {
     "name": "stderr",
     "output_type": "stream",
     "text": [
      " 39%|███▉      | 1085/2762 [08:39<12:38,  2.21it/s]"
     ]
    },
    {
     "name": "stdout",
     "output_type": "stream",
     "text": [
      "Got error from yahoo api for ticker GRUB, Error: {'code': 'Not Found', 'description': 'No data found, symbol may be delisted'}\n",
      "- GRUB: No timezone found, symbol may be delisted\n"
     ]
    },
    {
     "name": "stderr",
     "output_type": "stream",
     "text": [
      " 39%|███▉      | 1089/2762 [08:41<13:31,  2.06it/s]"
     ]
    },
    {
     "name": "stdout",
     "output_type": "stream",
     "text": [
      "SUPV: Data doesn't exist for startDate = 1451624400, endDate = 1451970000\n"
     ]
    },
    {
     "name": "stderr",
     "output_type": "stream",
     "text": [
      " 40%|███▉      | 1092/2762 [08:42<09:22,  2.97it/s]"
     ]
    },
    {
     "name": "stdout",
     "output_type": "stream",
     "text": [
      "Got error from yahoo api for ticker GSX, Error: {'code': 'Not Found', 'description': 'No data found, symbol may be delisted'}\n",
      "- GSX: No timezone found, symbol may be delisted\n",
      "Got error from yahoo api for ticker GTT, Error: {'code': 'Not Found', 'description': 'No data found, symbol may be delisted'}\n",
      "- GTT: No timezone found, symbol may be delisted\n"
     ]
    },
    {
     "name": "stderr",
     "output_type": "stream",
     "text": [
      " 40%|███▉      | 1093/2762 [08:42<07:40,  3.63it/s]"
     ]
    },
    {
     "name": "stdout",
     "output_type": "stream",
     "text": [
      "Got error from yahoo api for ticker GSH, Error: {'code': 'Not Found', 'description': 'No data found, symbol may be delisted'}\n",
      "- GSH: No timezone found, symbol may be delisted\n"
     ]
    },
    {
     "name": "stderr",
     "output_type": "stream",
     "text": [
      " 40%|███▉      | 1096/2762 [08:43<06:58,  3.98it/s]"
     ]
    },
    {
     "name": "stdout",
     "output_type": "stream",
     "text": [
      "Got error from yahoo api for ticker GGM, Error: {'code': 'Not Found', 'description': 'No data found, symbol may be delisted'}\n",
      "- GGM: No timezone found, symbol may be delisted\n",
      "Got error from yahoo api for ticker GPM, Error: {'code': 'Not Found', 'description': 'No data found, symbol may be delisted'}\n",
      "- GPM: No timezone found, symbol may be delisted\n"
     ]
    },
    {
     "name": "stderr",
     "output_type": "stream",
     "text": [
      " 40%|███▉      | 1104/2762 [08:49<15:52,  1.74it/s]"
     ]
    },
    {
     "name": "stdout",
     "output_type": "stream",
     "text": [
      "HBB: Data doesn't exist for startDate = 1451624400, endDate = 1451970000\n"
     ]
    },
    {
     "name": "stderr",
     "output_type": "stream",
     "text": [
      " 40%|████      | 1106/2762 [08:50<12:25,  2.22it/s]"
     ]
    },
    {
     "name": "stdout",
     "output_type": "stream",
     "text": [
      "Got error from yahoo api for ticker HNGR, Error: {'code': 'Not Found', 'description': 'No data found, symbol may be delisted'}\n",
      "- HNGR: No timezone found, symbol may be delisted\n"
     ]
    },
    {
     "name": "stderr",
     "output_type": "stream",
     "text": [
      " 40%|████      | 1111/2762 [08:52<13:08,  2.09it/s]"
     ]
    },
    {
     "name": "stdout",
     "output_type": "stream",
     "text": [
      "Got error from yahoo api for ticker HGH, Error: {'code': 'Not Found', 'description': 'No data found, symbol may be delisted'}\n",
      "- HGH: No timezone found, symbol may be delisted\n"
     ]
    },
    {
     "name": "stderr",
     "output_type": "stream",
     "text": [
      " 40%|████      | 1115/2762 [08:55<13:19,  2.06it/s]"
     ]
    },
    {
     "name": "stdout",
     "output_type": "stream",
     "text": [
      "Got error from yahoo api for ticker HCHC, Error: {'code': 'Not Found', 'description': 'No data found, symbol may be delisted'}\n",
      "- HCHC: No timezone found, symbol may be delisted\n"
     ]
    },
    {
     "name": "stderr",
     "output_type": "stream",
     "text": [
      " 41%|████      | 1120/2762 [08:58<13:06,  2.09it/s]"
     ]
    },
    {
     "name": "stdout",
     "output_type": "stream",
     "text": [
      "Got error from yahoo api for ticker HTA, Error: {'code': 'Not Found', 'description': 'No data found, symbol may be delisted'}\n",
      "- HTA: No timezone found, symbol may be delisted\n"
     ]
    },
    {
     "name": "stderr",
     "output_type": "stream",
     "text": [
      " 41%|████      | 1128/2762 [09:02<14:30,  1.88it/s]"
     ]
    },
    {
     "name": "stdout",
     "output_type": "stream",
     "text": [
      "HCXY: Data doesn't exist for startDate = 1451624400, endDate = 1451970000\n"
     ]
    },
    {
     "name": "stderr",
     "output_type": "stream",
     "text": [
      " 41%|████      | 1129/2762 [09:03<12:35,  2.16it/s]"
     ]
    },
    {
     "name": "stdout",
     "output_type": "stream",
     "text": [
      "HCXZ: Data doesn't exist for startDate = 1451624400, endDate = 1451970000\n"
     ]
    },
    {
     "name": "stderr",
     "output_type": "stream",
     "text": [
      " 41%|████      | 1132/2762 [09:04<11:11,  2.43it/s]"
     ]
    },
    {
     "name": "stdout",
     "output_type": "stream",
     "text": [
      "Got error from yahoo api for ticker PSV, Error: {'code': 'Not Found', 'description': 'No data found, symbol may be delisted'}\n",
      "- PSV: No timezone found, symbol may be delisted\n"
     ]
    },
    {
     "name": "stderr",
     "output_type": "stream",
     "text": [
      " 41%|████      | 1135/2762 [09:06<12:19,  2.20it/s]"
     ]
    },
    {
     "name": "stdout",
     "output_type": "stream",
     "text": [
      "HTZ: Data doesn't exist for startDate = 1451624400, endDate = 1451970000\n"
     ]
    },
    {
     "name": "stderr",
     "output_type": "stream",
     "text": [
      " 41%|████      | 1137/2762 [09:07<12:16,  2.21it/s]"
     ]
    },
    {
     "name": "stdout",
     "output_type": "stream",
     "text": [
      "HESM: Data doesn't exist for startDate = 1451624400, endDate = 1451970000\n"
     ]
    },
    {
     "name": "stderr",
     "output_type": "stream",
     "text": [
      " 41%|████▏     | 1140/2762 [09:08<12:48,  2.11it/s]"
     ]
    },
    {
     "name": "stdout",
     "output_type": "stream",
     "text": [
      "HEXO: Data doesn't exist for startDate = 1451624400, endDate = 1451970000\n"
     ]
    },
    {
     "name": "stderr",
     "output_type": "stream",
     "text": [
      " 41%|████▏     | 1142/2762 [09:09<12:31,  2.15it/s]"
     ]
    },
    {
     "name": "stdout",
     "output_type": "stream",
     "text": [
      "HGLB: Data doesn't exist for startDate = 1451624400, endDate = 1451970000\n"
     ]
    },
    {
     "name": "stderr",
     "output_type": "stream",
     "text": [
      " 41%|████▏     | 1144/2762 [09:10<08:44,  3.08it/s]"
     ]
    },
    {
     "name": "stdout",
     "output_type": "stream",
     "text": [
      "HFRO: Data doesn't exist for startDate = 1451624400, endDate = 1451970000\n",
      "Got error from yahoo api for ticker HPR, Error: {'code': 'Not Found', 'description': 'No data found, symbol may be delisted'}\n",
      "- HPR: No timezone found, symbol may be delisted\n"
     ]
    },
    {
     "name": "stderr",
     "output_type": "stream",
     "text": [
      " 41%|████▏     | 1146/2762 [09:10<08:56,  3.01it/s]"
     ]
    },
    {
     "name": "stdout",
     "output_type": "stream",
     "text": [
      "Got error from yahoo api for ticker HIL, Error: {'code': 'Not Found', 'description': 'No data found, symbol may be delisted'}\n",
      "- HIL: No timezone found, symbol may be delisted\n"
     ]
    },
    {
     "name": "stderr",
     "output_type": "stream",
     "text": [
      " 42%|████▏     | 1148/2762 [09:11<08:50,  3.04it/s]"
     ]
    },
    {
     "name": "stdout",
     "output_type": "stream",
     "text": [
      "Got error from yahoo api for ticker HRC, Error: {'code': 'Not Found', 'description': 'No data found, symbol may be delisted'}\n",
      "- HRC: No timezone found, symbol may be delisted\n"
     ]
    },
    {
     "name": "stderr",
     "output_type": "stream",
     "text": [
      " 42%|████▏     | 1150/2762 [09:12<10:06,  2.66it/s]"
     ]
    },
    {
     "name": "stdout",
     "output_type": "stream",
     "text": [
      "HGV: Data doesn't exist for startDate = 1451624400, endDate = 1451970000\n"
     ]
    },
    {
     "name": "stderr",
     "output_type": "stream",
     "text": [
      " 42%|████▏     | 1153/2762 [09:13<11:20,  2.37it/s]"
     ]
    },
    {
     "name": "stdout",
     "output_type": "stream",
     "text": [
      "Got error from yahoo api for ticker HMLP, Error: {'code': 'Not Found', 'description': 'No data found, symbol may be delisted'}\n",
      "- HMLP: No timezone found, symbol may be delisted\n"
     ]
    },
    {
     "name": "stderr",
     "output_type": "stream",
     "text": [
      " 42%|████▏     | 1155/2762 [09:14<10:24,  2.58it/s]"
     ]
    },
    {
     "name": "stdout",
     "output_type": "stream",
     "text": [
      "Got error from yahoo api for ticker HFC, Error: {'code': 'Not Found', 'description': 'No data found, symbol may be delisted'}\n",
      "- HFC: No timezone found, symbol may be delisted\n"
     ]
    },
    {
     "name": "stderr",
     "output_type": "stream",
     "text": [
      " 42%|████▏     | 1160/2762 [09:17<12:58,  2.06it/s]"
     ]
    },
    {
     "name": "stdout",
     "output_type": "stream",
     "text": [
      "Got error from yahoo api for ticker HZN, Error: {'code': 'Not Found', 'description': 'No data found, symbol may be delisted'}\n",
      "- HZN: No timezone found, symbol may be delisted\n"
     ]
    },
    {
     "name": "stderr",
     "output_type": "stream",
     "text": [
      " 42%|████▏     | 1161/2762 [09:18<11:18,  2.36it/s]"
     ]
    },
    {
     "name": "stdout",
     "output_type": "stream",
     "text": [
      "HTFA: Data doesn't exist for startDate = 1451624400, endDate = 1451970000\n"
     ]
    },
    {
     "name": "stderr",
     "output_type": "stream",
     "text": [
      " 42%|████▏     | 1167/2762 [09:21<13:16,  2.00it/s]"
     ]
    },
    {
     "name": "stdout",
     "output_type": "stream",
     "text": [
      "HWM: Data doesn't exist for startDate = 1451624400, endDate = 1451970000\n"
     ]
    },
    {
     "name": "stderr",
     "output_type": "stream",
     "text": [
      " 42%|████▏     | 1171/2762 [09:23<09:52,  2.69it/s]"
     ]
    },
    {
     "name": "stdout",
     "output_type": "stream",
     "text": [
      "Got error from yahoo api for ticker HMI, Error: {'code': 'Not Found', 'description': 'No data found, symbol may be delisted'}\n",
      "- HMI: No timezone found, symbol may be delisted\n",
      "Got error from yahoo api for ticker HNP, Error: {'code': 'Not Found', 'description': 'No data found, symbol may be delisted'}\n",
      "- HNP: No timezone found, symbol may be delisted\n"
     ]
    },
    {
     "name": "stderr",
     "output_type": "stream",
     "text": [
      " 43%|████▎     | 1175/2762 [09:25<11:33,  2.29it/s]"
     ]
    },
    {
     "name": "stdout",
     "output_type": "stream",
     "text": [
      "Got error from yahoo api for ticker HUD, Error: {'code': 'Not Found', 'description': 'No data found, symbol may be delisted'}\n",
      "- HUD: No timezone found, symbol may be delisted\n"
     ]
    },
    {
     "name": "stderr",
     "output_type": "stream",
     "text": [
      " 43%|████▎     | 1178/2762 [09:27<11:30,  2.30it/s]"
     ]
    },
    {
     "name": "stdout",
     "output_type": "stream",
     "text": [
      "Got error from yahoo api for ticker HCFT, Error: {'code': 'Not Found', 'description': 'No data found, symbol may be delisted'}\n",
      "- HCFT: No timezone found, symbol may be delisted\n"
     ]
    },
    {
     "name": "stderr",
     "output_type": "stream",
     "text": [
      " 43%|████▎     | 1181/2762 [09:28<12:07,  2.17it/s]"
     ]
    },
    {
     "name": "stdout",
     "output_type": "stream",
     "text": [
      "HUYA: Data doesn't exist for startDate = 1451624400, endDate = 1451970000\n"
     ]
    },
    {
     "name": "stderr",
     "output_type": "stream",
     "text": [
      " 43%|████▎     | 1184/2762 [09:29<11:12,  2.35it/s]"
     ]
    },
    {
     "name": "stdout",
     "output_type": "stream",
     "text": [
      "Got error from yahoo api for ticker IAA, Error: {'code': 'Not Found', 'description': 'No data found, symbol may be delisted'}\n",
      "- IAA: No timezone found, symbol may be delisted\n"
     ]
    },
    {
     "name": "stderr",
     "output_type": "stream",
     "text": [
      " 43%|████▎     | 1191/2762 [09:34<13:19,  1.96it/s]"
     ]
    },
    {
     "name": "stdout",
     "output_type": "stream",
     "text": [
      "Got error from yahoo api for ticker INFO, Error: {'code': 'Not Found', 'description': 'No data found, symbol may be delisted'}\n",
      "- INFO: No timezone found, symbol may be delisted\n"
     ]
    },
    {
     "name": "stderr",
     "output_type": "stream",
     "text": [
      " 43%|████▎     | 1195/2762 [09:36<12:34,  2.08it/s]"
     ]
    },
    {
     "name": "stdout",
     "output_type": "stream",
     "text": [
      "Got error from yahoo api for ticker IHC, Error: {'code': 'Not Found', 'description': 'No data found, symbol may be delisted'}\n",
      "- IHC: No timezone found, symbol may be delisted\n"
     ]
    },
    {
     "name": "stderr",
     "output_type": "stream",
     "text": [
      " 43%|████▎     | 1201/2762 [09:40<14:32,  1.79it/s]"
     ]
    },
    {
     "name": "stdout",
     "output_type": "stream",
     "text": [
      "IR: Data doesn't exist for startDate = 1451624400, endDate = 1451970000\n"
     ]
    },
    {
     "name": "stderr",
     "output_type": "stream",
     "text": [
      " 44%|████▎     | 1202/2762 [09:40<12:25,  2.09it/s]"
     ]
    },
    {
     "name": "stdout",
     "output_type": "stream",
     "text": [
      "NGVT: Data doesn't exist for startDate = 1451624400, endDate = 1451970000\n"
     ]
    },
    {
     "name": "stderr",
     "output_type": "stream",
     "text": [
      " 44%|████▎     | 1205/2762 [09:41<09:42,  2.67it/s]"
     ]
    },
    {
     "name": "stdout",
     "output_type": "stream",
     "text": [
      "IIPR: Data doesn't exist for startDate = 1451624400, endDate = 1451970000\n",
      "Got error from yahoo api for ticker IPHI, Error: {'code': 'Not Found', 'description': 'No data found, symbol may be delisted'}\n",
      "- IPHI: No timezone found, symbol may be delisted\n"
     ]
    },
    {
     "name": "stderr",
     "output_type": "stream",
     "text": [
      " 44%|████▎     | 1208/2762 [09:43<12:09,  2.13it/s]"
     ]
    },
    {
     "name": "stdout",
     "output_type": "stream",
     "text": [
      "INSP: Data doesn't exist for startDate = 1451624400, endDate = 1451970000\n"
     ]
    },
    {
     "name": "stderr",
     "output_type": "stream",
     "text": [
      " 44%|████▍     | 1213/2762 [09:46<12:32,  2.06it/s]"
     ]
    },
    {
     "name": "stdout",
     "output_type": "stream",
     "text": [
      "IFS: Data doesn't exist for startDate = 1451624400, endDate = 1451970000\n"
     ]
    },
    {
     "name": "stderr",
     "output_type": "stream",
     "text": [
      " 44%|████▍     | 1216/2762 [09:47<12:00,  2.15it/s]"
     ]
    },
    {
     "name": "stdout",
     "output_type": "stream",
     "text": [
      "Got error from yahoo api for ticker IFFT, Error: {'code': 'Not Found', 'description': 'No data found, symbol may be delisted'}\n",
      "- IFFT: No timezone found, symbol may be delisted\n"
     ]
    },
    {
     "name": "stderr",
     "output_type": "stream",
     "text": [
      " 44%|████▍     | 1220/2762 [09:49<10:30,  2.44it/s]"
     ]
    },
    {
     "name": "stdout",
     "output_type": "stream",
     "text": [
      "INSW: Data doesn't exist for startDate = 1451624400, endDate = 1451970000\n",
      "Got error from yahoo api for ticker IPV, Error: {'code': 'Not Found', 'description': 'No data found, symbol may be delisted'}\n",
      "- IPV: No timezone found, symbol may be delisted\n"
     ]
    },
    {
     "name": "stderr",
     "output_type": "stream",
     "text": [
      " 44%|████▍     | 1223/2762 [09:51<10:47,  2.38it/s]"
     ]
    },
    {
     "name": "stdout",
     "output_type": "stream",
     "text": [
      "Got error from yahoo api for ticker IVC, Error: {'code': 'Not Found', 'description': 'No data found, symbol may be delisted'}\n",
      "- IVC: No timezone found, symbol may be delisted\n"
     ]
    },
    {
     "name": "stderr",
     "output_type": "stream",
     "text": [
      " 44%|████▍     | 1226/2762 [09:52<11:27,  2.23it/s]"
     ]
    },
    {
     "name": "stdout",
     "output_type": "stream",
     "text": [
      "Got error from yahoo api for ticker VTA, Error: {'code': 'Not Found', 'description': 'No data found, symbol may be delisted'}\n",
      "- VTA: No timezone found, symbol may be delisted\n"
     ]
    },
    {
     "name": "stderr",
     "output_type": "stream",
     "text": [
      " 44%|████▍     | 1227/2762 [09:53<10:18,  2.48it/s]"
     ]
    },
    {
     "name": "stdout",
     "output_type": "stream",
     "text": [
      "IHIT: Data doesn't exist for startDate = 1451624400, endDate = 1451970000\n"
     ]
    },
    {
     "name": "stderr",
     "output_type": "stream",
     "text": [
      " 44%|████▍     | 1228/2762 [09:53<09:42,  2.63it/s]"
     ]
    },
    {
     "name": "stdout",
     "output_type": "stream",
     "text": [
      "IHTA: Data doesn't exist for startDate = 1451624400, endDate = 1451970000\n"
     ]
    },
    {
     "name": "stderr",
     "output_type": "stream",
     "text": [
      " 45%|████▍     | 1241/2762 [10:01<13:20,  1.90it/s]"
     ]
    },
    {
     "name": "stdout",
     "output_type": "stream",
     "text": [
      "Got error from yahoo api for ticker IRET, Error: {'code': 'Not Found', 'description': 'No data found, symbol may be delisted'}\n",
      "- IRET: No timezone found, symbol may be delisted\n"
     ]
    },
    {
     "name": "stderr",
     "output_type": "stream",
     "text": [
      " 45%|████▌     | 1244/2762 [10:02<09:12,  2.75it/s]"
     ]
    },
    {
     "name": "stdout",
     "output_type": "stream",
     "text": [
      "INVH: Data doesn't exist for startDate = 1451624400, endDate = 1451970000\n",
      "Got error from yahoo api for ticker IO, Error: {'code': 'Not Found', 'description': 'No data found, symbol may be delisted'}\n",
      "- IO: No timezone found, symbol may be delisted\n"
     ]
    },
    {
     "name": "stderr",
     "output_type": "stream",
     "text": [
      " 45%|████▌     | 1248/2762 [10:04<10:26,  2.42it/s]"
     ]
    },
    {
     "name": "stdout",
     "output_type": "stream",
     "text": [
      "Got error from yahoo api for ticker STAR          , Error: {'code': 'Not Found', 'description': 'No data found, symbol may be delisted'}\n",
      "- STAR          : No timezone found, symbol may be delisted\n"
     ]
    },
    {
     "name": "stderr",
     "output_type": "stream",
     "text": [
      " 45%|████▌     | 1254/2762 [10:08<12:04,  2.08it/s]"
     ]
    },
    {
     "name": "stdout",
     "output_type": "stream",
     "text": [
      "Got error from yahoo api for ticker JAX, Error: {'code': 'Not Found', 'description': 'No data found, symbol may be delisted'}\n",
      "- JAX: No timezone found, symbol may be delisted\n"
     ]
    },
    {
     "name": "stderr",
     "output_type": "stream",
     "text": [
      " 45%|████▌     | 1255/2762 [10:08<10:27,  2.40it/s]"
     ]
    },
    {
     "name": "stdout",
     "output_type": "stream",
     "text": [
      "JILL: Data doesn't exist for startDate = 1451624400, endDate = 1451970000\n"
     ]
    },
    {
     "name": "stderr",
     "output_type": "stream",
     "text": [
      " 46%|████▌     | 1260/2762 [10:11<12:34,  1.99it/s]"
     ]
    },
    {
     "name": "stdout",
     "output_type": "stream",
     "text": [
      "JHG: Data doesn't exist for startDate = 1451624400, endDate = 1451970000\n"
     ]
    },
    {
     "name": "stderr",
     "output_type": "stream",
     "text": [
      " 46%|████▌     | 1262/2762 [10:12<11:08,  2.24it/s]"
     ]
    },
    {
     "name": "stdout",
     "output_type": "stream",
     "text": [
      "Got error from yahoo api for ticker JWS, Error: {'code': 'Not Found', 'description': 'No data found, symbol may be delisted'}\n",
      "- JWS: No timezone found, symbol may be delisted\n"
     ]
    },
    {
     "name": "stderr",
     "output_type": "stream",
     "text": [
      " 46%|████▌     | 1263/2762 [10:12<09:52,  2.53it/s]"
     ]
    },
    {
     "name": "stdout",
     "output_type": "stream",
     "text": [
      "JBGS: Data doesn't exist for startDate = 1451624400, endDate = 1451970000\n"
     ]
    },
    {
     "name": "stderr",
     "output_type": "stream",
     "text": [
      " 46%|████▌     | 1266/2762 [10:13<08:17,  3.01it/s]"
     ]
    },
    {
     "name": "stdout",
     "output_type": "stream",
     "text": [
      "JELD: Data doesn't exist for startDate = 1451624400, endDate = 1451970000\n",
      "Got error from yahoo api for ticker JCAP, Error: {'code': 'Not Found', 'description': 'No data found, symbol may be delisted'}\n",
      "- JCAP: No timezone found, symbol may be delisted\n"
     ]
    },
    {
     "name": "stderr",
     "output_type": "stream",
     "text": [
      " 46%|████▌     | 1267/2762 [10:13<08:15,  3.01it/s]"
     ]
    },
    {
     "name": "stdout",
     "output_type": "stream",
     "text": [
      "JT: Data doesn't exist for startDate = 1451624400, endDate = 1451970000\n"
     ]
    },
    {
     "name": "stderr",
     "output_type": "stream",
     "text": [
      " 46%|████▌     | 1269/2762 [10:14<07:57,  3.13it/s]"
     ]
    },
    {
     "name": "stdout",
     "output_type": "stream",
     "text": [
      "Got error from yahoo api for ticker JMP, Error: {'code': 'Not Found', 'description': 'No data found, symbol may be delisted'}\n",
      "- JMP: No timezone found, symbol may be delisted\n"
     ]
    },
    {
     "name": "stderr",
     "output_type": "stream",
     "text": [
      " 47%|████▋     | 1285/2762 [10:24<10:44,  2.29it/s]"
     ]
    },
    {
     "name": "stdout",
     "output_type": "stream",
     "text": [
      "JMIA: Data doesn't exist for startDate = 1451624400, endDate = 1451970000\n",
      "Got error from yahoo api for ticker JIH, Error: {'code': 'Not Found', 'description': 'No data found, symbol may be delisted'}\n",
      "- JIH: No timezone found, symbol may be delisted\n"
     ]
    },
    {
     "name": "stderr",
     "output_type": "stream",
     "text": [
      " 47%|████▋     | 1288/2762 [10:25<07:54,  3.11it/s]"
     ]
    },
    {
     "name": "stdout",
     "output_type": "stream",
     "text": [
      "Got error from yahoo api for ticker JP, Error: {'code': 'Not Found', 'description': 'No data found, symbol may be delisted'}\n",
      "- JP: No timezone found, symbol may be delisted\n",
      "Got error from yahoo api for ticker JE, Error: {'code': 'Not Found', 'description': 'No data found, symbol may be delisted'}\n",
      "- JE: No timezone found, symbol may be delisted\n"
     ]
    },
    {
     "name": "stderr",
     "output_type": "stream",
     "text": [
      " 47%|████▋     | 1291/2762 [10:26<08:50,  2.77it/s]"
     ]
    },
    {
     "name": "stdout",
     "output_type": "stream",
     "text": [
      "Got error from yahoo api for ticker KDMN, Error: {'code': 'Not Found', 'description': 'No data found, symbol may be delisted'}\n",
      "- KDMN: No timezone found, symbol may be delisted\n"
     ]
    },
    {
     "name": "stderr",
     "output_type": "stream",
     "text": [
      " 47%|████▋     | 1293/2762 [10:27<08:39,  2.83it/s]"
     ]
    },
    {
     "name": "stdout",
     "output_type": "stream",
     "text": [
      "Got error from yahoo api for ticker KSU, Error: {'code': 'Not Found', 'description': 'No data found, symbol may be delisted'}\n",
      "- KSU: No timezone found, symbol may be delisted\n"
     ]
    },
    {
     "name": "stderr",
     "output_type": "stream",
     "text": [
      " 47%|████▋     | 1309/2762 [10:38<13:20,  1.81it/s]"
     ]
    },
    {
     "name": "stdout",
     "output_type": "stream",
     "text": [
      "KRP: Data doesn't exist for startDate = 1451624400, endDate = 1451970000\n"
     ]
    },
    {
     "name": "stderr",
     "output_type": "stream",
     "text": [
      " 48%|████▊     | 1316/2762 [10:42<11:20,  2.13it/s]"
     ]
    },
    {
     "name": "stdout",
     "output_type": "stream",
     "text": [
      "Got error from yahoo api for ticker KL, Error: {'code': 'Not Found', 'description': 'No data found, symbol may be delisted'}\n",
      "- KL: No timezone found, symbol may be delisted\n"
     ]
    },
    {
     "name": "stderr",
     "output_type": "stream",
     "text": [
      " 48%|████▊     | 1320/2762 [10:44<11:52,  2.02it/s]"
     ]
    },
    {
     "name": "stdout",
     "output_type": "stream",
     "text": [
      "KREF: Data doesn't exist for startDate = 1451624400, endDate = 1451970000\n"
     ]
    },
    {
     "name": "stderr",
     "output_type": "stream",
     "text": [
      " 48%|████▊     | 1322/2762 [10:45<10:04,  2.38it/s]"
     ]
    },
    {
     "name": "stdout",
     "output_type": "stream",
     "text": [
      "Got error from yahoo api for ticker KNL, Error: {'code': 'Not Found', 'description': 'No data found, symbol may be delisted'}\n",
      "- KNL: No timezone found, symbol may be delisted\n"
     ]
    },
    {
     "name": "stderr",
     "output_type": "stream",
     "text": [
      " 48%|████▊     | 1327/2762 [10:47<11:46,  2.03it/s]"
     ]
    },
    {
     "name": "stdout",
     "output_type": "stream",
     "text": [
      "KTB: Data doesn't exist for startDate = 1451624400, endDate = 1451970000\n"
     ]
    },
    {
     "name": "stderr",
     "output_type": "stream",
     "text": [
      " 48%|████▊     | 1333/2762 [10:51<11:02,  2.16it/s]"
     ]
    },
    {
     "name": "stdout",
     "output_type": "stream",
     "text": [
      "Got error from yahoo api for ticker KRA, Error: {'code': 'Not Found', 'description': 'No data found, symbol may be delisted'}\n",
      "- KRA: No timezone found, symbol may be delisted\n"
     ]
    },
    {
     "name": "stderr",
     "output_type": "stream",
     "text": [
      " 48%|████▊     | 1337/2762 [10:53<11:03,  2.15it/s]"
     ]
    },
    {
     "name": "stdout",
     "output_type": "stream",
     "text": [
      "Got error from yahoo api for ticker LB, Error: {'code': 'Not Found', 'description': 'No data found, symbol may be delisted'}\n",
      "- LB: No timezone found, symbol may be delisted\n"
     ]
    },
    {
     "name": "stderr",
     "output_type": "stream",
     "text": [
      " 49%|████▊     | 1342/2762 [10:56<11:03,  2.14it/s]"
     ]
    },
    {
     "name": "stdout",
     "output_type": "stream",
     "text": [
      "Got error from yahoo api for ticker LAIX, Error: {'code': 'Not Found', 'description': 'No data found, symbol may be delisted'}\n",
      "- LAIX: No timezone found, symbol may be delisted\n"
     ]
    },
    {
     "name": "stderr",
     "output_type": "stream",
     "text": [
      " 49%|████▊     | 1343/2762 [10:56<09:55,  2.38it/s]"
     ]
    },
    {
     "name": "stdout",
     "output_type": "stream",
     "text": [
      "LW: Data doesn't exist for startDate = 1451624400, endDate = 1451970000\n"
     ]
    },
    {
     "name": "stderr",
     "output_type": "stream",
     "text": [
      " 49%|████▊     | 1345/2762 [10:57<08:47,  2.69it/s]"
     ]
    },
    {
     "name": "stdout",
     "output_type": "stream",
     "text": [
      "Got error from yahoo api for ticker LPI, Error: {'code': 'Not Found', 'description': 'No data found, symbol may be delisted'}\n",
      "- LPI: No timezone found, symbol may be delisted\n"
     ]
    },
    {
     "name": "stderr",
     "output_type": "stream",
     "text": [
      " 49%|████▉     | 1351/2762 [11:00<11:27,  2.05it/s]"
     ]
    },
    {
     "name": "stdout",
     "output_type": "stream",
     "text": [
      "Got error from yahoo api for ticker LEAF, Error: {'code': 'Not Found', 'description': 'No data found, symbol may be delisted'}\n",
      "- LEAF: No timezone found, symbol may be delisted\n"
     ]
    },
    {
     "name": "stderr",
     "output_type": "stream",
     "text": [
      " 49%|████▉     | 1354/2762 [11:02<10:31,  2.23it/s]"
     ]
    },
    {
     "name": "stdout",
     "output_type": "stream",
     "text": [
      "Got error from yahoo api for ticker LGC, Error: {'code': 'Not Found', 'description': 'No data found, symbol may be delisted'}\n",
      "- LGC: No timezone found, symbol may be delisted\n"
     ]
    },
    {
     "name": "stderr",
     "output_type": "stream",
     "text": [
      " 49%|████▉     | 1355/2762 [11:02<09:25,  2.49it/s]"
     ]
    },
    {
     "name": "stdout",
     "output_type": "stream",
     "text": [
      "LMHA: Data doesn't exist for startDate = 1451624400, endDate = 1451970000\n"
     ]
    },
    {
     "name": "stderr",
     "output_type": "stream",
     "text": [
      " 49%|████▉     | 1356/2762 [11:02<08:44,  2.68it/s]"
     ]
    },
    {
     "name": "stdout",
     "output_type": "stream",
     "text": [
      "LMHB: Data doesn't exist for startDate = 1451624400, endDate = 1451970000\n"
     ]
    },
    {
     "name": "stderr",
     "output_type": "stream",
     "text": [
      " 49%|████▉     | 1363/2762 [11:07<12:00,  1.94it/s]"
     ]
    },
    {
     "name": "stdout",
     "output_type": "stream",
     "text": [
      "LMND: Data doesn't exist for startDate = 1451624400, endDate = 1451970000\n"
     ]
    },
    {
     "name": "stderr",
     "output_type": "stream",
     "text": [
      " 49%|████▉     | 1367/2762 [11:09<12:47,  1.82it/s]"
     ]
    },
    {
     "name": "stdout",
     "output_type": "stream",
     "text": [
      "LEVI: Data doesn't exist for startDate = 1451624400, endDate = 1451970000\n"
     ]
    },
    {
     "name": "stderr",
     "output_type": "stream",
     "text": [
      " 50%|████▉     | 1370/2762 [11:11<10:49,  2.14it/s]"
     ]
    },
    {
     "name": "stdout",
     "output_type": "stream",
     "text": [
      "Got error from yahoo api for ticker DFNS, Error: {'code': 'Not Found', 'description': 'No data found, symbol may be delisted'}\n",
      "- DFNS: No timezone found, symbol may be delisted\n"
     ]
    },
    {
     "name": "stderr",
     "output_type": "stream",
     "text": [
      " 50%|████▉     | 1373/2762 [11:12<11:48,  1.96it/s]"
     ]
    },
    {
     "name": "stdout",
     "output_type": "stream",
     "text": [
      "LBRT: Data doesn't exist for startDate = 1451624400, endDate = 1451970000\n"
     ]
    },
    {
     "name": "stderr",
     "output_type": "stream",
     "text": [
      " 50%|████▉     | 1380/2762 [11:16<09:09,  2.51it/s]"
     ]
    },
    {
     "name": "stdout",
     "output_type": "stream",
     "text": [
      "Got error from yahoo api for ticker LN, Error: {'code': 'Not Found', 'description': 'No data found, symbol may be delisted'}\n",
      "- LN: No timezone found, symbol may be delisted\n",
      "Got error from yahoo api for ticker LINX, Error: {'code': 'Not Found', 'description': 'No data found, symbol may be delisted'}\n",
      "- LINX: No timezone found, symbol may be delisted\n"
     ]
    },
    {
     "name": "stderr",
     "output_type": "stream",
     "text": [
      " 50%|█████     | 1384/2762 [11:18<09:49,  2.34it/s]"
     ]
    },
    {
     "name": "stdout",
     "output_type": "stream",
     "text": [
      "Got error from yahoo api for ticker LOAK, Error: {'code': 'Not Found', 'description': 'No data found, symbol may be delisted'}\n",
      "- LOAK: No timezone found, symbol may be delisted\n"
     ]
    },
    {
     "name": "stderr",
     "output_type": "stream",
     "text": [
      " 50%|█████     | 1385/2762 [11:18<08:50,  2.60it/s]"
     ]
    },
    {
     "name": "stdout",
     "output_type": "stream",
     "text": [
      "LTHM: Data doesn't exist for startDate = 1451624400, endDate = 1451970000\n"
     ]
    },
    {
     "name": "stderr",
     "output_type": "stream",
     "text": [
      " 50%|█████     | 1392/2762 [11:22<09:36,  2.38it/s]"
     ]
    },
    {
     "name": "stdout",
     "output_type": "stream",
     "text": [
      "LOMA: Data doesn't exist for startDate = 1451624400, endDate = 1451970000\n",
      "Got error from yahoo api for ticker LGVW, Error: {'code': 'Not Found', 'description': 'No data found, symbol may be delisted'}\n",
      "- LGVW: No timezone found, symbol may be delisted\n"
     ]
    },
    {
     "name": "stderr",
     "output_type": "stream",
     "text": [
      " 51%|█████     | 1397/2762 [11:25<10:55,  2.08it/s]"
     ]
    },
    {
     "name": "stdout",
     "output_type": "stream",
     "text": [
      "Got error from yahoo api for ticker LUB, Error: {'code': 'Not Found', 'description': 'No data found, symbol may be delisted'}\n",
      "- LUB: No timezone found, symbol may be delisted\n"
     ]
    },
    {
     "name": "stderr",
     "output_type": "stream",
     "text": [
      " 51%|█████     | 1400/2762 [11:26<09:49,  2.31it/s]"
     ]
    },
    {
     "name": "stdout",
     "output_type": "stream",
     "text": [
      "Got error from yahoo api for ticker LDL, Error: {'code': 'Not Found', 'description': 'No data found, symbol may be delisted'}\n",
      "- LDL: No timezone found, symbol may be delisted\n"
     ]
    },
    {
     "name": "stderr",
     "output_type": "stream",
     "text": [
      " 51%|█████     | 1406/2762 [11:30<11:03,  2.04it/s]"
     ]
    },
    {
     "name": "stdout",
     "output_type": "stream",
     "text": [
      "Got error from yahoo api for ticker CLI, Error: {'code': 'Not Found', 'description': 'No data found, symbol may be delisted'}\n",
      "- CLI: No timezone found, symbol may be delisted\n"
     ]
    },
    {
     "name": "stderr",
     "output_type": "stream",
     "text": [
      " 51%|█████     | 1409/2762 [11:31<09:44,  2.32it/s]"
     ]
    },
    {
     "name": "stdout",
     "output_type": "stream",
     "text": [
      "Got error from yahoo api for ticker MIC, Error: {'code': 'Not Found', 'description': 'No data found, symbol may be delisted'}\n",
      "- MIC: No timezone found, symbol may be delisted\n"
     ]
    },
    {
     "name": "stderr",
     "output_type": "stream",
     "text": [
      " 51%|█████     | 1413/2762 [11:34<11:06,  2.03it/s]"
     ]
    },
    {
     "name": "stdout",
     "output_type": "stream",
     "text": [
      "MSGE: Data doesn't exist for startDate = 1451624400, endDate = 1451970000\n"
     ]
    },
    {
     "name": "stderr",
     "output_type": "stream",
     "text": [
      " 51%|█████▏    | 1418/2762 [11:37<12:43,  1.76it/s]"
     ]
    },
    {
     "name": "stdout",
     "output_type": "stream",
     "text": [
      "MGY: Data doesn't exist for startDate = 1451624400, endDate = 1451970000\n"
     ]
    },
    {
     "name": "stderr",
     "output_type": "stream",
     "text": [
      " 52%|█████▏    | 1423/2762 [11:40<11:26,  1.95it/s]"
     ]
    },
    {
     "name": "stdout",
     "output_type": "stream",
     "text": [
      "MNK: Data doesn't exist for startDate = 1451624400, endDate = 1451970000\n"
     ]
    },
    {
     "name": "stderr",
     "output_type": "stream",
     "text": [
      " 52%|█████▏    | 1426/2762 [11:41<10:05,  2.21it/s]"
     ]
    },
    {
     "name": "stdout",
     "output_type": "stream",
     "text": [
      "Got error from yahoo api for ticker MN, Error: {'code': 'Not Found', 'description': 'No data found, symbol may be delisted'}\n",
      "- MN: No timezone found, symbol may be delisted\n"
     ]
    },
    {
     "name": "stderr",
     "output_type": "stream",
     "text": [
      " 52%|█████▏    | 1450/2762 [11:56<11:22,  1.92it/s]"
     ]
    },
    {
     "name": "stdout",
     "output_type": "stream",
     "text": [
      "MEC: Data doesn't exist for startDate = 1451624400, endDate = 1451970000\n"
     ]
    },
    {
     "name": "stderr",
     "output_type": "stream",
     "text": [
      " 53%|█████▎    | 1458/2762 [12:01<08:39,  2.51it/s]"
     ]
    },
    {
     "name": "stdout",
     "output_type": "stream",
     "text": [
      "Got error from yahoo api for ticker MTL, Error: {'code': 'Not Found', 'description': 'No data found, symbol may be delisted'}\n",
      "- MTL: No timezone found, symbol may be delisted\n",
      "Got error from yahoo api for ticker MDLA, Error: {'code': 'Not Found', 'description': 'No data found, symbol may be delisted'}\n",
      "- MDLA: No timezone found, symbol may be delisted\n"
     ]
    },
    {
     "name": "stderr",
     "output_type": "stream",
     "text": [
      " 53%|█████▎    | 1462/2762 [12:03<08:14,  2.63it/s]"
     ]
    },
    {
     "name": "stdout",
     "output_type": "stream",
     "text": [
      "Got error from yahoo api for ticker MCC, Error: {'code': 'Not Found', 'description': 'No data found, symbol may be delisted'}\n",
      "- MCC: No timezone found, symbol may be delisted\n",
      "Got error from yahoo api for ticker MCV, Error: {'code': 'Not Found', 'description': 'No data found, symbol may be delisted'}\n",
      "- MCV: No timezone found, symbol may be delisted\n"
     ]
    },
    {
     "name": "stderr",
     "output_type": "stream",
     "text": [
      " 53%|█████▎    | 1464/2762 [12:04<08:34,  2.52it/s]"
     ]
    },
    {
     "name": "stdout",
     "output_type": "stream",
     "text": [
      "MDLQ: Data doesn't exist for startDate = 1451624400, endDate = 1451970000\n"
     ]
    },
    {
     "name": "stderr",
     "output_type": "stream",
     "text": [
      " 53%|█████▎    | 1466/2762 [12:04<06:44,  3.21it/s]"
     ]
    },
    {
     "name": "stdout",
     "output_type": "stream",
     "text": [
      "MDLX: Data doesn't exist for startDate = 1451624400, endDate = 1451970000\n",
      "Got error from yahoo api for ticker MDLY, Error: {'code': 'Not Found', 'description': 'No data found, symbol may be delisted'}\n",
      "- MDLY: No timezone found, symbol may be delisted\n"
     ]
    },
    {
     "name": "stderr",
     "output_type": "stream",
     "text": [
      " 53%|█████▎    | 1469/2762 [12:05<08:18,  2.59it/s]"
     ]
    },
    {
     "name": "stdout",
     "output_type": "stream",
     "text": [
      "Got error from yahoo api for ticker MFAC, Error: {'code': 'Not Found', 'description': 'No data found, symbol may be delisted'}\n",
      "- MFAC: No timezone found, symbol may be delisted\n"
     ]
    },
    {
     "name": "stderr",
     "output_type": "stream",
     "text": [
      " 53%|█████▎    | 1472/2762 [12:07<10:21,  2.08it/s]"
     ]
    },
    {
     "name": "stdout",
     "output_type": "stream",
     "text": [
      "MDP: No data found for this date range, symbol may be delisted\n"
     ]
    },
    {
     "name": "stderr",
     "output_type": "stream",
     "text": [
      " 53%|█████▎    | 1474/2762 [12:08<08:48,  2.44it/s]"
     ]
    },
    {
     "name": "stdout",
     "output_type": "stream",
     "text": [
      "Got error from yahoo api for ticker MTOR, Error: {'code': 'Not Found', 'description': 'No data found, symbol may be delisted'}\n",
      "- MTOR: No timezone found, symbol may be delisted\n"
     ]
    },
    {
     "name": "stderr",
     "output_type": "stream",
     "text": [
      " 54%|█████▎    | 1479/2762 [12:11<11:39,  1.83it/s]"
     ]
    },
    {
     "name": "stdout",
     "output_type": "stream",
     "text": [
      "MCB: Data doesn't exist for startDate = 1451624400, endDate = 1451970000\n"
     ]
    },
    {
     "name": "stderr",
     "output_type": "stream",
     "text": [
      " 54%|█████▎    | 1484/2762 [12:14<10:28,  2.03it/s]"
     ]
    },
    {
     "name": "stdout",
     "output_type": "stream",
     "text": [
      "Got error from yahoo api for ticker MFO, Error: {'code': 'Not Found', 'description': 'No data found, symbol may be delisted'}\n",
      "- MFO: No timezone found, symbol may be delisted\n"
     ]
    },
    {
     "name": "stderr",
     "output_type": "stream",
     "text": [
      " 54%|█████▍    | 1492/2762 [12:19<10:54,  1.94it/s]"
     ]
    },
    {
     "name": "stdout",
     "output_type": "stream",
     "text": [
      "Got error from yahoo api for ticker MGP, Error: {'code': 'Not Found', 'description': 'No data found, symbol may be delisted'}\n",
      "- MGP: No timezone found, symbol may be delisted\n"
     ]
    },
    {
     "name": "stderr",
     "output_type": "stream",
     "text": [
      " 54%|█████▍    | 1494/2762 [12:20<08:53,  2.37it/s]"
     ]
    },
    {
     "name": "stdout",
     "output_type": "stream",
     "text": [
      "Got error from yahoo api for ticker MFGP, Error: {'code': 'Not Found', 'description': 'No data found, symbol may be delisted'}\n",
      "- MFGP: No timezone found, symbol may be delisted\n"
     ]
    },
    {
     "name": "stderr",
     "output_type": "stream",
     "text": [
      " 54%|█████▍    | 1504/2762 [12:26<09:58,  2.10it/s]"
     ]
    },
    {
     "name": "stdout",
     "output_type": "stream",
     "text": [
      "Got error from yahoo api for ticker MBT, Error: {'code': 'Not Found', 'description': 'No data found, symbol may be delisted'}\n",
      "- MBT: No timezone found, symbol may be delisted\n"
     ]
    },
    {
     "name": "stderr",
     "output_type": "stream",
     "text": [
      " 55%|█████▍    | 1508/2762 [12:28<09:53,  2.11it/s]"
     ]
    },
    {
     "name": "stdout",
     "output_type": "stream",
     "text": [
      "MOGU: Data doesn't exist for startDate = 1451624400, endDate = 1451970000\n"
     ]
    },
    {
     "name": "stderr",
     "output_type": "stream",
     "text": [
      " 55%|█████▍    | 1513/2762 [12:30<07:10,  2.90it/s]"
     ]
    },
    {
     "name": "stdout",
     "output_type": "stream",
     "text": [
      "Got error from yahoo api for ticker MNR, Error: {'code': 'Not Found', 'description': 'No data found, symbol may be delisted'}\n",
      "- MNR: No timezone found, symbol may be delisted\n",
      "Got error from yahoo api for ticker MR, Error: {'code': 'Not Found', 'description': 'No data found, symbol may be delisted'}\n",
      "- MR: No timezone found, symbol may be delisted\n"
     ]
    },
    {
     "name": "stderr",
     "output_type": "stream",
     "text": [
      " 55%|█████▍    | 1514/2762 [12:30<06:47,  3.06it/s]"
     ]
    },
    {
     "name": "stdout",
     "output_type": "stream",
     "text": [
      "MEG: Data doesn't exist for startDate = 1451624400, endDate = 1451970000\n"
     ]
    },
    {
     "name": "stderr",
     "output_type": "stream",
     "text": [
      " 55%|█████▌    | 1529/2762 [12:40<10:09,  2.02it/s]"
     ]
    },
    {
     "name": "stdout",
     "output_type": "stream",
     "text": [
      "Got error from yahoo api for ticker MSGN, Error: {'code': 'Not Found', 'description': 'No data found, symbol may be delisted'}\n",
      "- MSGN: No timezone found, symbol may be delisted\n"
     ]
    },
    {
     "name": "stderr",
     "output_type": "stream",
     "text": [
      " 56%|█████▌    | 1533/2762 [12:42<10:00,  2.05it/s]"
     ]
    },
    {
     "name": "stdout",
     "output_type": "stream",
     "text": [
      "Got error from yahoo api for ticker MZA, Error: {'code': 'Not Found', 'description': 'No data found, symbol may be delisted'}\n",
      "- MZA: No timezone found, symbol may be delisted\n"
     ]
    },
    {
     "name": "stderr",
     "output_type": "stream",
     "text": [
      " 56%|█████▌    | 1537/2762 [12:44<09:20,  2.18it/s]"
     ]
    },
    {
     "name": "stdout",
     "output_type": "stream",
     "text": [
      "Got error from yahoo api for ticker MVC, Error: {'code': 'Not Found', 'description': 'No data found, symbol may be delisted'}\n",
      "- MVC: No timezone found, symbol may be delisted\n"
     ]
    },
    {
     "name": "stderr",
     "output_type": "stream",
     "text": [
      " 56%|█████▌    | 1538/2762 [12:44<08:20,  2.44it/s]"
     ]
    },
    {
     "name": "stdout",
     "output_type": "stream",
     "text": [
      "MVCD: Data doesn't exist for startDate = 1451624400, endDate = 1451970000\n"
     ]
    },
    {
     "name": "stderr",
     "output_type": "stream",
     "text": [
      " 56%|█████▌    | 1540/2762 [12:45<07:59,  2.55it/s]"
     ]
    },
    {
     "name": "stdout",
     "output_type": "stream",
     "text": [
      "Got error from yahoo api for ticker MYOV, Error: {'code': 'Not Found', 'description': 'No data found, symbol may be delisted'}\n",
      "- MYOV: No timezone found, symbol may be delisted\n"
     ]
    },
    {
     "name": "stderr",
     "output_type": "stream",
     "text": [
      " 56%|█████▌    | 1543/2762 [12:47<08:30,  2.39it/s]"
     ]
    },
    {
     "name": "stdout",
     "output_type": "stream",
     "text": [
      "Got error from yahoo api for ticker NTP, Error: {'code': 'Not Found', 'description': 'No data found, symbol may be delisted'}\n",
      "- NTP: No timezone found, symbol may be delisted\n"
     ]
    },
    {
     "name": "stderr",
     "output_type": "stream",
     "text": [
      " 56%|█████▌    | 1544/2762 [12:47<07:34,  2.68it/s]"
     ]
    },
    {
     "name": "stdout",
     "output_type": "stream",
     "text": [
      "NTEST: Period '1mo' is invalid, must be one of ['1d', '5d']\n"
     ]
    },
    {
     "name": "stderr",
     "output_type": "stream",
     "text": [
      " 56%|█████▌    | 1552/2762 [12:52<11:01,  1.83it/s]"
     ]
    },
    {
     "name": "stdout",
     "output_type": "stream",
     "text": [
      "NRUC: Data doesn't exist for startDate = 1451624400, endDate = 1451970000\n"
     ]
    },
    {
     "name": "stderr",
     "output_type": "stream",
     "text": [
      " 56%|█████▋    | 1555/2762 [12:54<10:29,  1.92it/s]"
     ]
    },
    {
     "name": "stdout",
     "output_type": "stream",
     "text": [
      "NTCO: Data doesn't exist for startDate = 1451624400, endDate = 1451970000\n"
     ]
    },
    {
     "name": "stderr",
     "output_type": "stream",
     "text": [
      " 57%|█████▋    | 1563/2762 [12:58<09:16,  2.16it/s]"
     ]
    },
    {
     "name": "stdout",
     "output_type": "stream",
     "text": [
      "Got error from yahoo api for ticker NNA, Error: {'code': 'Not Found', 'description': 'No data found, symbol may be delisted'}\n",
      "- NNA: No timezone found, symbol may be delisted\n"
     ]
    },
    {
     "name": "stderr",
     "output_type": "stream",
     "text": [
      " 57%|█████▋    | 1566/2762 [12:59<08:25,  2.36it/s]"
     ]
    },
    {
     "name": "stdout",
     "output_type": "stream",
     "text": [
      "Got error from yahoo api for ticker NAV, Error: {'code': 'Not Found', 'description': 'No data found, symbol may be delisted'}\n",
      "- NAV: No timezone found, symbol may be delisted\n"
     ]
    },
    {
     "name": "stderr",
     "output_type": "stream",
     "text": [
      " 57%|█████▋    | 1568/2762 [13:00<07:41,  2.59it/s]"
     ]
    },
    {
     "name": "stdout",
     "output_type": "stream",
     "text": [
      "Got error from yahoo api for ticker NP, Error: {'code': 'Not Found', 'description': 'No data found, symbol may be delisted'}\n",
      "- NP: No timezone found, symbol may be delisted\n"
     ]
    },
    {
     "name": "stderr",
     "output_type": "stream",
     "text": [
      " 57%|█████▋    | 1571/2762 [13:01<05:56,  3.35it/s]"
     ]
    },
    {
     "name": "stdout",
     "output_type": "stream",
     "text": [
      "Got error from yahoo api for ticker NPTN, Error: {'code': 'Not Found', 'description': 'No data found, symbol may be delisted'}\n",
      "- NPTN: No timezone found, symbol may be delisted\n",
      "Got error from yahoo api for ticker NSCO, Error: {'code': 'Not Found', 'description': 'No data found, symbol may be delisted'}\n",
      "- NSCO: No timezone found, symbol may be delisted\n"
     ]
    },
    {
     "name": "stderr",
     "output_type": "stream",
     "text": [
      " 57%|█████▋    | 1574/2762 [13:03<07:45,  2.55it/s]"
     ]
    },
    {
     "name": "stdout",
     "output_type": "stream",
     "text": [
      "Got error from yahoo api for ticker NFH, Error: {'code': 'Not Found', 'description': 'No data found, symbol may be delisted'}\n",
      "- NFH: No timezone found, symbol may be delisted\n"
     ]
    },
    {
     "name": "stderr",
     "output_type": "stream",
     "text": [
      " 57%|█████▋    | 1576/2762 [13:03<07:23,  2.67it/s]"
     ]
    },
    {
     "name": "stdout",
     "output_type": "stream",
     "text": [
      "Got error from yahoo api for ticker NWHM, Error: {'code': 'Not Found', 'description': 'No data found, symbol may be delisted'}\n",
      "- NWHM: No timezone found, symbol may be delisted\n"
     ]
    },
    {
     "name": "stderr",
     "output_type": "stream",
     "text": [
      " 57%|█████▋    | 1579/2762 [13:05<07:46,  2.54it/s]"
     ]
    },
    {
     "name": "stdout",
     "output_type": "stream",
     "text": [
      "Got error from yahoo api for ticker NMFX, Error: {'code': 'Not Found', 'description': 'No data found, symbol may be delisted'}\n",
      "- NMFX: No timezone found, symbol may be delisted\n"
     ]
    },
    {
     "name": "stderr",
     "output_type": "stream",
     "text": [
      " 57%|█████▋    | 1583/2762 [13:06<06:15,  3.14it/s]"
     ]
    },
    {
     "name": "stdout",
     "output_type": "stream",
     "text": [
      "Got error from yahoo api for ticker NRZ, Error: {'code': 'Not Found', 'description': 'No data found, symbol may be delisted'}\n",
      "- NRZ: No timezone found, symbol may be delisted\n",
      "Got error from yahoo api for ticker SNR, Error: {'code': 'Not Found', 'description': 'No data found, symbol may be delisted'}\n",
      "- SNR: No timezone found, symbol may be delisted\n"
     ]
    },
    {
     "name": "stderr",
     "output_type": "stream",
     "text": [
      " 58%|█████▊    | 1590/2762 [13:11<10:16,  1.90it/s]"
     ]
    },
    {
     "name": "stdout",
     "output_type": "stream",
     "text": [
      "NEXA: Data doesn't exist for startDate = 1451624400, endDate = 1451970000\n"
     ]
    },
    {
     "name": "stderr",
     "output_type": "stream",
     "text": [
      " 58%|█████▊    | 1591/2762 [13:11<08:52,  2.20it/s]"
     ]
    },
    {
     "name": "stdout",
     "output_type": "stream",
     "text": [
      "NREF: Data doesn't exist for startDate = 1451624400, endDate = 1451970000\n"
     ]
    },
    {
     "name": "stderr",
     "output_type": "stream",
     "text": [
      " 58%|█████▊    | 1593/2762 [13:12<07:27,  2.61it/s]"
     ]
    },
    {
     "name": "stdout",
     "output_type": "stream",
     "text": [
      "Got error from yahoo api for ticker NHF, Error: {'code': 'Not Found', 'description': 'No data found, symbol may be delisted'}\n",
      "- NHF: No timezone found, symbol may be delisted\n"
     ]
    },
    {
     "name": "stderr",
     "output_type": "stream",
     "text": [
      " 58%|█████▊    | 1596/2762 [13:13<08:50,  2.20it/s]"
     ]
    },
    {
     "name": "stdout",
     "output_type": "stream",
     "text": [
      "NEX: Data doesn't exist for startDate = 1451624400, endDate = 1451970000\n"
     ]
    },
    {
     "name": "stderr",
     "output_type": "stream",
     "text": [
      " 58%|█████▊    | 1598/2762 [13:14<07:56,  2.44it/s]"
     ]
    },
    {
     "name": "stdout",
     "output_type": "stream",
     "text": [
      "Got error from yahoo api for ticker NLSN, Error: {'code': 'Not Found', 'description': 'No data found, symbol may be delisted'}\n",
      "- NLSN: No timezone found, symbol may be delisted\n"
     ]
    },
    {
     "name": "stderr",
     "output_type": "stream",
     "text": [
      " 58%|█████▊    | 1600/2762 [13:15<08:13,  2.35it/s]"
     ]
    },
    {
     "name": "stdout",
     "output_type": "stream",
     "text": [
      "NINE: Data doesn't exist for startDate = 1451624400, endDate = 1451970000\n"
     ]
    },
    {
     "name": "stderr",
     "output_type": "stream",
     "text": [
      " 58%|█████▊    | 1601/2762 [13:15<07:25,  2.60it/s]"
     ]
    },
    {
     "name": "stdout",
     "output_type": "stream",
     "text": [
      "NIO: Data doesn't exist for startDate = 1451624400, endDate = 1451970000\n"
     ]
    },
    {
     "name": "stderr",
     "output_type": "stream",
     "text": [
      " 58%|█████▊    | 1608/2762 [13:20<09:43,  1.98it/s]"
     ]
    },
    {
     "name": "stdout",
     "output_type": "stream",
     "text": [
      "Got error from yahoo api for ticker OSB, Error: {'code': 'Not Found', 'description': 'No data found, symbol may be delisted'}\n",
      "- OSB: No timezone found, symbol may be delisted\n"
     ]
    },
    {
     "name": "stderr",
     "output_type": "stream",
     "text": [
      " 59%|█████▉    | 1626/2762 [13:31<10:29,  1.81it/s]"
     ]
    },
    {
     "name": "stdout",
     "output_type": "stream",
     "text": [
      "NTR: Data doesn't exist for startDate = 1451624400, endDate = 1451970000\n"
     ]
    },
    {
     "name": "stderr",
     "output_type": "stream",
     "text": [
      " 59%|█████▉    | 1633/2762 [13:35<09:34,  1.96it/s]"
     ]
    },
    {
     "name": "stdout",
     "output_type": "stream",
     "text": [
      "Got error from yahoo api for ticker NCB, Error: {'code': 'Not Found', 'description': 'No data found, symbol may be delisted'}\n",
      "- NCB: No timezone found, symbol may be delisted\n"
     ]
    },
    {
     "name": "stderr",
     "output_type": "stream",
     "text": [
      " 59%|█████▉    | 1637/2762 [13:38<09:42,  1.93it/s]"
     ]
    },
    {
     "name": "stdout",
     "output_type": "stream",
     "text": [
      "JCO: Data doesn't exist for startDate = 1451624400, endDate = 1451970000\n"
     ]
    },
    {
     "name": "stderr",
     "output_type": "stream",
     "text": [
      " 59%|█████▉    | 1639/2762 [13:39<08:04,  2.32it/s]"
     ]
    },
    {
     "name": "stdout",
     "output_type": "stream",
     "text": [
      "Got error from yahoo api for ticker JDD, Error: {'code': 'Not Found', 'description': 'No data found, symbol may be delisted'}\n",
      "- JDD: No timezone found, symbol may be delisted\n"
     ]
    },
    {
     "name": "stderr",
     "output_type": "stream",
     "text": [
      " 59%|█████▉    | 1641/2762 [13:39<07:49,  2.39it/s]"
     ]
    },
    {
     "name": "stdout",
     "output_type": "stream",
     "text": [
      "JEMD: Data doesn't exist for startDate = 1451624400, endDate = 1451970000\n"
     ]
    },
    {
     "name": "stderr",
     "output_type": "stream",
     "text": [
      " 60%|█████▉    | 1647/2762 [13:43<09:18,  2.00it/s]"
     ]
    },
    {
     "name": "stdout",
     "output_type": "stream",
     "text": [
      "Got error from yahoo api for ticker JHY, Error: {'code': 'Not Found', 'description': 'No data found, symbol may be delisted'}\n",
      "- JHY: No timezone found, symbol may be delisted\n"
     ]
    },
    {
     "name": "stderr",
     "output_type": "stream",
     "text": [
      " 60%|█████▉    | 1649/2762 [13:43<06:21,  2.92it/s]"
     ]
    },
    {
     "name": "stdout",
     "output_type": "stream",
     "text": [
      "JHAA: Data doesn't exist for startDate = 1451624400, endDate = 1451970000\n",
      "Got error from yahoo api for ticker JHB, Error: {'code': 'Not Found', 'description': 'No data found, symbol may be delisted'}\n",
      "- JHB: No timezone found, symbol may be delisted\n"
     ]
    },
    {
     "name": "stderr",
     "output_type": "stream",
     "text": [
      " 60%|█████▉    | 1653/2762 [13:45<07:53,  2.34it/s]"
     ]
    },
    {
     "name": "stdout",
     "output_type": "stream",
     "text": [
      "Got error from yahoo api for ticker NMY, Error: {'code': 'Not Found', 'description': 'No data found, symbol may be delisted'}\n",
      "- NMY: No timezone found, symbol may be delisted\n"
     ]
    },
    {
     "name": "stderr",
     "output_type": "stream",
     "text": [
      " 60%|█████▉    | 1655/2762 [13:46<07:31,  2.45it/s]"
     ]
    },
    {
     "name": "stdout",
     "output_type": "stream",
     "text": [
      "Got error from yahoo api for ticker NUM, Error: {'code': 'Not Found', 'description': 'No data found, symbol may be delisted'}\n",
      "- NUM: No timezone found, symbol may be delisted\n"
     ]
    },
    {
     "name": "stderr",
     "output_type": "stream",
     "text": [
      " 60%|██████    | 1660/2762 [13:49<08:24,  2.18it/s]"
     ]
    },
    {
     "name": "stdout",
     "output_type": "stream",
     "text": [
      "Got error from yahoo api for ticker NHA, Error: {'code': 'Not Found', 'description': 'No data found, symbol may be delisted'}\n",
      "- NHA: No timezone found, symbol may be delisted\n"
     ]
    },
    {
     "name": "stderr",
     "output_type": "stream",
     "text": [
      " 60%|██████    | 1662/2762 [13:50<08:16,  2.22it/s]"
     ]
    },
    {
     "name": "stdout",
     "output_type": "stream",
     "text": [
      "NMCO: Data doesn't exist for startDate = 1451624400, endDate = 1451970000\n"
     ]
    },
    {
     "name": "stderr",
     "output_type": "stream",
     "text": [
      " 60%|██████    | 1665/2762 [13:52<08:06,  2.26it/s]"
     ]
    },
    {
     "name": "stdout",
     "output_type": "stream",
     "text": [
      "Got error from yahoo api for ticker NJV, Error: {'code': 'Not Found', 'description': 'No data found, symbol may be delisted'}\n",
      "- NJV: No timezone found, symbol may be delisted\n"
     ]
    },
    {
     "name": "stderr",
     "output_type": "stream",
     "text": [
      " 60%|██████    | 1668/2762 [13:53<07:53,  2.31it/s]"
     ]
    },
    {
     "name": "stdout",
     "output_type": "stream",
     "text": [
      "Got error from yahoo api for ticker NYV, Error: {'code': 'Not Found', 'description': 'No data found, symbol may be delisted'}\n",
      "- NYV: No timezone found, symbol may be delisted\n"
     ]
    },
    {
     "name": "stderr",
     "output_type": "stream",
     "text": [
      " 61%|██████    | 1672/2762 [13:55<08:24,  2.16it/s]"
     ]
    },
    {
     "name": "stdout",
     "output_type": "stream",
     "text": [
      "Got error from yahoo api for ticker NPN, Error: {'code': 'Not Found', 'description': 'No data found, symbol may be delisted'}\n",
      "- NPN: No timezone found, symbol may be delisted\n"
     ]
    },
    {
     "name": "stderr",
     "output_type": "stream",
     "text": [
      " 61%|██████    | 1676/2762 [13:58<09:10,  1.97it/s]"
     ]
    },
    {
     "name": "stdout",
     "output_type": "stream",
     "text": [
      "JPT: Data doesn't exist for startDate = 1451624400, endDate = 1451970000\n"
     ]
    },
    {
     "name": "stderr",
     "output_type": "stream",
     "text": [
      " 61%|██████    | 1686/2762 [14:03<06:48,  2.63it/s]"
     ]
    },
    {
     "name": "stdout",
     "output_type": "stream",
     "text": [
      "Got error from yahoo api for ticker NXQ, Error: {'code': 'Not Found', 'description': 'No data found, symbol may be delisted'}\n",
      "- NXQ: No timezone found, symbol may be delisted\n",
      "Got error from yahoo api for ticker NXR, Error: {'code': 'Not Found', 'description': 'No data found, symbol may be delisted'}\n",
      "- NXR: No timezone found, symbol may be delisted\n"
     ]
    },
    {
     "name": "stderr",
     "output_type": "stream",
     "text": [
      " 61%|██████    | 1691/2762 [14:05<06:05,  2.93it/s]"
     ]
    },
    {
     "name": "stdout",
     "output_type": "stream",
     "text": [
      "Got error from yahoo api for ticker JTD, Error: {'code': 'Not Found', 'description': 'No data found, symbol may be delisted'}\n",
      "- JTD: No timezone found, symbol may be delisted\n",
      "Got error from yahoo api for ticker JTA, Error: {'code': 'Not Found', 'description': 'No data found, symbol may be delisted'}\n",
      "- JTA: No timezone found, symbol may be delisted\n"
     ]
    },
    {
     "name": "stderr",
     "output_type": "stream",
     "text": [
      " 61%|██████▏   | 1694/2762 [14:07<07:37,  2.33it/s]"
     ]
    },
    {
     "name": "stdout",
     "output_type": "stream",
     "text": [
      "NVT: Data doesn't exist for startDate = 1451624400, endDate = 1451970000\n"
     ]
    },
    {
     "name": "stderr",
     "output_type": "stream",
     "text": [
      " 61%|██████▏   | 1697/2762 [14:08<06:05,  2.91it/s]"
     ]
    },
    {
     "name": "stdout",
     "output_type": "stream",
     "text": [
      "CTEST: Period '1mo' is invalid, must be one of ['1d', '5d']\n",
      "Got error from yahoo api for ticker OAC, Error: {'code': 'Not Found', 'description': 'No data found, symbol may be delisted'}\n",
      "- OAC: No timezone found, symbol may be delisted\n"
     ]
    },
    {
     "name": "stderr",
     "output_type": "stream",
     "text": [
      " 62%|██████▏   | 1710/2762 [14:16<09:53,  1.77it/s]"
     ]
    },
    {
     "name": "stdout",
     "output_type": "stream",
     "text": [
      "Got error from yahoo api for ticker ONDK, Error: {'code': 'Not Found', 'description': 'No data found, symbol may be delisted'}\n",
      "- ONDK: No timezone found, symbol may be delisted\n"
     ]
    },
    {
     "name": "stderr",
     "output_type": "stream",
     "text": [
      " 62%|██████▏   | 1713/2762 [14:18<09:16,  1.88it/s]"
     ]
    },
    {
     "name": "stdout",
     "output_type": "stream",
     "text": [
      "OCFT: Data doesn't exist for startDate = 1451624400, endDate = 1451970000\n"
     ]
    },
    {
     "name": "stderr",
     "output_type": "stream",
     "text": [
      " 62%|██████▏   | 1716/2762 [14:19<08:24,  2.07it/s]"
     ]
    },
    {
     "name": "stdout",
     "output_type": "stream",
     "text": [
      "Got error from yahoo api for ticker ONE, Error: {'code': 'Not Found', 'description': 'No data found, symbol may be delisted'}\n",
      "- ONE: No timezone found, symbol may be delisted\n"
     ]
    },
    {
     "name": "stderr",
     "output_type": "stream",
     "text": [
      " 62%|██████▏   | 1717/2762 [14:20<07:29,  2.33it/s]"
     ]
    },
    {
     "name": "stdout",
     "output_type": "stream",
     "text": [
      "ONTO: Data doesn't exist for startDate = 1451624400, endDate = 1451970000\n"
     ]
    },
    {
     "name": "stderr",
     "output_type": "stream",
     "text": [
      " 63%|██████▎   | 1729/2762 [14:27<07:42,  2.23it/s]"
     ]
    },
    {
     "name": "stdout",
     "output_type": "stream",
     "text": [
      "OR: Data doesn't exist for startDate = 1451624400, endDate = 1451970000\n",
      "Got error from yahoo api for ticker SFTW, Error: {'code': 'Not Found', 'description': 'No data found, symbol may be delisted'}\n",
      "- SFTW: No timezone found, symbol may be delisted\n"
     ]
    },
    {
     "name": "stderr",
     "output_type": "stream",
     "text": [
      " 63%|██████▎   | 1730/2762 [14:27<07:00,  2.45it/s]"
     ]
    },
    {
     "name": "stdout",
     "output_type": "stream",
     "text": [
      "OTIS: Data doesn't exist for startDate = 1451624400, endDate = 1451970000\n"
     ]
    },
    {
     "name": "stderr",
     "output_type": "stream",
     "text": [
      " 63%|██████▎   | 1732/2762 [14:28<07:12,  2.38it/s]"
     ]
    },
    {
     "name": "stdout",
     "output_type": "stream",
     "text": [
      "OSG: Data doesn't exist for startDate = 1451624400, endDate = 1451970000\n"
     ]
    },
    {
     "name": "stderr",
     "output_type": "stream",
     "text": [
      " 63%|██████▎   | 1736/2762 [14:30<08:25,  2.03it/s]"
     ]
    },
    {
     "name": "stdout",
     "output_type": "stream",
     "text": [
      "ORCC: Data doesn't exist for startDate = 1451624400, endDate = 1451970000\n"
     ]
    },
    {
     "name": "stderr",
     "output_type": "stream",
     "text": [
      " 63%|██████▎   | 1739/2762 [14:31<06:01,  2.83it/s]"
     ]
    },
    {
     "name": "stdout",
     "output_type": "stream",
     "text": [
      "Got error from yahoo api for ticker ROYT, Error: {'code': 'Not Found', 'description': 'No data found, symbol may be delisted'}\n",
      "- ROYT: No timezone found, symbol may be delisted\n",
      "Got error from yahoo api for ticker PACD, Error: {'code': 'Not Found', 'description': 'No data found, symbol may be delisted'}\n",
      "- PACD: No timezone found, symbol may be delisted\n"
     ]
    },
    {
     "name": "stderr",
     "output_type": "stream",
     "text": [
      " 63%|██████▎   | 1741/2762 [14:32<06:57,  2.44it/s]"
     ]
    },
    {
     "name": "stdout",
     "output_type": "stream",
     "text": [
      "PCGU: Data doesn't exist for startDate = 1451624400, endDate = 1451970000\n"
     ]
    },
    {
     "name": "stderr",
     "output_type": "stream",
     "text": [
      " 63%|██████▎   | 1743/2762 [14:33<07:11,  2.36it/s]"
     ]
    },
    {
     "name": "stdout",
     "output_type": "stream",
     "text": [
      "PD: Data doesn't exist for startDate = 1451624400, endDate = 1451970000\n"
     ]
    },
    {
     "name": "stderr",
     "output_type": "stream",
     "text": [
      " 63%|██████▎   | 1744/2762 [14:34<06:31,  2.60it/s]"
     ]
    },
    {
     "name": "stdout",
     "output_type": "stream",
     "text": [
      "PAGS: Data doesn't exist for startDate = 1451624400, endDate = 1451970000\n"
     ]
    },
    {
     "name": "stderr",
     "output_type": "stream",
     "text": [
      " 63%|██████▎   | 1752/2762 [14:39<09:13,  1.83it/s]"
     ]
    },
    {
     "name": "stdout",
     "output_type": "stream",
     "text": [
      "PK: Data doesn't exist for startDate = 1451624400, endDate = 1451970000\n"
     ]
    },
    {
     "name": "stderr",
     "output_type": "stream",
     "text": [
      " 64%|██████▎   | 1754/2762 [14:39<07:47,  2.16it/s]"
     ]
    },
    {
     "name": "stdout",
     "output_type": "stream",
     "text": [
      "Got error from yahoo api for ticker PE, Error: {'code': 'Not Found', 'description': 'No data found, symbol may be delisted'}\n",
      "- PE: No timezone found, symbol may be delisted\n"
     ]
    },
    {
     "name": "stderr",
     "output_type": "stream",
     "text": [
      " 64%|██████▎   | 1756/2762 [14:40<05:38,  2.97it/s]"
     ]
    },
    {
     "name": "stdout",
     "output_type": "stream",
     "text": [
      "PSN: Data doesn't exist for startDate = 1451624400, endDate = 1451970000\n",
      "Got error from yahoo api for ticker PRTY, Error: {'code': 'Not Found', 'description': 'No data found, symbol may be delisted'}\n",
      "- PRTY: No timezone found, symbol may be delisted\n"
     ]
    },
    {
     "name": "stderr",
     "output_type": "stream",
     "text": [
      " 64%|██████▎   | 1759/2762 [14:41<06:31,  2.56it/s]"
     ]
    },
    {
     "name": "stdout",
     "output_type": "stream",
     "text": [
      "Got error from yahoo api for ticker PBFX, Error: {'code': 'Not Found', 'description': 'No data found, symbol may be delisted'}\n",
      "- PBFX: No timezone found, symbol may be delisted\n"
     ]
    },
    {
     "name": "stderr",
     "output_type": "stream",
     "text": [
      " 64%|██████▎   | 1760/2762 [14:42<06:09,  2.71it/s]"
     ]
    },
    {
     "name": "stdout",
     "output_type": "stream",
     "text": [
      "BTU: Data doesn't exist for startDate = 1451624400, endDate = 1451970000\n"
     ]
    },
    {
     "name": "stderr",
     "output_type": "stream",
     "text": [
      " 64%|██████▍   | 1764/2762 [14:44<07:22,  2.25it/s]"
     ]
    },
    {
     "name": "stdout",
     "output_type": "stream",
     "text": [
      "Got error from yahoo api for ticker PEI, Error: {'code': 'Not Found', 'description': 'No data found, symbol may be delisted'}\n",
      "- PEI: No timezone found, symbol may be delisted\n"
     ]
    },
    {
     "name": "stderr",
     "output_type": "stream",
     "text": [
      " 64%|██████▍   | 1774/2762 [14:50<09:03,  1.82it/s]"
     ]
    },
    {
     "name": "stdout",
     "output_type": "stream",
     "text": [
      "PRT: Data doesn't exist for startDate = 1451624400, endDate = 1451970000\n"
     ]
    },
    {
     "name": "stderr",
     "output_type": "stream",
     "text": [
      " 64%|██████▍   | 1777/2762 [14:51<05:50,  2.81it/s]"
     ]
    },
    {
     "name": "stdout",
     "output_type": "stream",
     "text": [
      "Got error from yahoo api for ticker PRSP, Error: {'code': 'Not Found', 'description': 'No data found, symbol may be delisted'}\n",
      "- PRSP: No timezone found, symbol may be delisted\n",
      "Got error from yahoo api for ticker PTR, Error: {'code': 'Not Found', 'description': 'No data found, symbol may be delisted'}\n",
      "- PTR: No timezone found, symbol may be delisted\n"
     ]
    },
    {
     "name": "stderr",
     "output_type": "stream",
     "text": [
      " 65%|██████▍   | 1785/2762 [14:56<08:00,  2.03it/s]"
     ]
    },
    {
     "name": "stdout",
     "output_type": "stream",
     "text": [
      "Got error from yahoo api for ticker PSXP, Error: {'code': 'Not Found', 'description': 'No data found, symbol may be delisted'}\n",
      "- PSXP: No timezone found, symbol may be delisted\n"
     ]
    },
    {
     "name": "stderr",
     "output_type": "stream",
     "text": [
      " 65%|██████▍   | 1787/2762 [14:57<06:57,  2.34it/s]"
     ]
    },
    {
     "name": "stdout",
     "output_type": "stream",
     "text": [
      "Got error from yahoo api for ticker DNK, Error: {'code': 'Not Found', 'description': 'No data found, symbol may be delisted'}\n",
      "- DNK: No timezone found, symbol may be delisted\n"
     ]
    },
    {
     "name": "stderr",
     "output_type": "stream",
     "text": [
      " 65%|██████▍   | 1788/2762 [14:57<06:18,  2.58it/s]"
     ]
    },
    {
     "name": "stdout",
     "output_type": "stream",
     "text": [
      "PHR: Data doesn't exist for startDate = 1451624400, endDate = 1451970000\n"
     ]
    },
    {
     "name": "stderr",
     "output_type": "stream",
     "text": [
      " 65%|██████▌   | 1797/2762 [15:03<08:56,  1.80it/s]"
     ]
    },
    {
     "name": "stdout",
     "output_type": "stream",
     "text": [
      "Got error from yahoo api for ticker PCI, Error: {'code': 'Not Found', 'description': 'No data found, symbol may be delisted'}\n",
      "- PCI: No timezone found, symbol may be delisted\n"
     ]
    },
    {
     "name": "stderr",
     "output_type": "stream",
     "text": [
      " 65%|██████▌   | 1799/2762 [15:04<07:54,  2.03it/s]"
     ]
    },
    {
     "name": "stdout",
     "output_type": "stream",
     "text": [
      "NRGX: Data doesn't exist for startDate = 1451624400, endDate = 1451970000\n"
     ]
    },
    {
     "name": "stderr",
     "output_type": "stream",
     "text": [
      " 65%|██████▌   | 1802/2762 [15:05<07:25,  2.15it/s]"
     ]
    },
    {
     "name": "stdout",
     "output_type": "stream",
     "text": [
      "Got error from yahoo api for ticker PKO, Error: {'code': 'Not Found', 'description': 'No data found, symbol may be delisted'}\n",
      "- PKO: No timezone found, symbol may be delisted\n"
     ]
    },
    {
     "name": "stderr",
     "output_type": "stream",
     "text": [
      " 66%|██████▌   | 1812/2762 [15:12<08:42,  1.82it/s]"
     ]
    },
    {
     "name": "stdout",
     "output_type": "stream",
     "text": [
      "Got error from yahoo api for ticker PING, Error: {'code': 'Not Found', 'description': 'No data found, symbol may be delisted'}\n",
      "- PING: No timezone found, symbol may be delisted\n"
     ]
    },
    {
     "name": "stderr",
     "output_type": "stream",
     "text": [
      " 66%|██████▌   | 1814/2762 [15:13<08:23,  1.88it/s]"
     ]
    },
    {
     "name": "stdout",
     "output_type": "stream",
     "text": [
      "PINS: Data doesn't exist for startDate = 1451624400, endDate = 1451970000\n"
     ]
    },
    {
     "name": "stderr",
     "output_type": "stream",
     "text": [
      " 66%|██████▌   | 1822/2762 [15:18<08:27,  1.85it/s]"
     ]
    },
    {
     "name": "stdout",
     "output_type": "stream",
     "text": [
      "Got error from yahoo api for ticker PIC, Error: {'code': 'Not Found', 'description': 'No data found, symbol may be delisted'}\n",
      "- PIC: No timezone found, symbol may be delisted\n"
     ]
    },
    {
     "name": "stderr",
     "output_type": "stream",
     "text": [
      " 66%|██████▌   | 1827/2762 [15:21<07:23,  2.11it/s]"
     ]
    },
    {
     "name": "stdout",
     "output_type": "stream",
     "text": [
      "Got error from yahoo api for ticker PLT, Error: {'code': 'Not Found', 'description': 'No data found, symbol may be delisted'}\n",
      "- PLT: No timezone found, symbol may be delisted\n"
     ]
    },
    {
     "name": "stderr",
     "output_type": "stream",
     "text": [
      " 66%|██████▌   | 1828/2762 [15:21<06:32,  2.38it/s]"
     ]
    },
    {
     "name": "stdout",
     "output_type": "stream",
     "text": [
      "AGS: Data doesn't exist for startDate = 1451624400, endDate = 1451970000\n"
     ]
    },
    {
     "name": "stderr",
     "output_type": "stream",
     "text": [
      " 66%|██████▋   | 1830/2762 [15:22<06:54,  2.25it/s]"
     ]
    },
    {
     "name": "stdout",
     "output_type": "stream",
     "text": [
      "PLYM: Data doesn't exist for startDate = 1451624400, endDate = 1451970000\n"
     ]
    },
    {
     "name": "stderr",
     "output_type": "stream",
     "text": [
      " 67%|██████▋   | 1837/2762 [15:27<08:45,  1.76it/s]"
     ]
    },
    {
     "name": "stdout",
     "output_type": "stream",
     "text": [
      "PSTL: Data doesn't exist for startDate = 1451624400, endDate = 1451970000\n"
     ]
    },
    {
     "name": "stderr",
     "output_type": "stream",
     "text": [
      " 67%|██████▋   | 1839/2762 [15:28<07:20,  2.10it/s]"
     ]
    },
    {
     "name": "stdout",
     "output_type": "stream",
     "text": [
      "Got error from yahoo api for ticker PPX, Error: {'code': 'Not Found', 'description': 'No data found, symbol may be delisted'}\n",
      "- PPX: No timezone found, symbol may be delisted\n"
     ]
    },
    {
     "name": "stderr",
     "output_type": "stream",
     "text": [
      " 67%|██████▋   | 1843/2762 [15:30<07:11,  2.13it/s]"
     ]
    },
    {
     "name": "stdout",
     "output_type": "stream",
     "text": [
      "Got error from yahoo api for ticker PQG, Error: {'code': 'Not Found', 'description': 'No data found, symbol may be delisted'}\n",
      "- PQG: No timezone found, symbol may be delisted\n"
     ]
    },
    {
     "name": "stderr",
     "output_type": "stream",
     "text": [
      " 67%|██████▋   | 1845/2762 [15:31<06:19,  2.42it/s]"
     ]
    },
    {
     "name": "stdout",
     "output_type": "stream",
     "text": [
      "Got error from yahoo api for ticker APTS, Error: {'code': 'Not Found', 'description': 'No data found, symbol may be delisted'}\n",
      "- APTS: No timezone found, symbol may be delisted\n"
     ]
    },
    {
     "name": "stderr",
     "output_type": "stream",
     "text": [
      " 67%|██████▋   | 1847/2762 [15:31<05:45,  2.65it/s]"
     ]
    },
    {
     "name": "stdout",
     "output_type": "stream",
     "text": [
      "Got error from yahoo api for ticker PVG, Error: {'code': 'Not Found', 'description': 'No data found, symbol may be delisted'}\n",
      "- PVG: No timezone found, symbol may be delisted\n"
     ]
    },
    {
     "name": "stderr",
     "output_type": "stream",
     "text": [
      " 67%|██████▋   | 1855/2762 [15:37<08:44,  1.73it/s]"
     ]
    },
    {
     "name": "stdout",
     "output_type": "stream",
     "text": [
      "PUMP: Data doesn't exist for startDate = 1451624400, endDate = 1451970000\n"
     ]
    },
    {
     "name": "stderr",
     "output_type": "stream",
     "text": [
      " 67%|██████▋   | 1857/2762 [15:37<06:52,  2.20it/s]"
     ]
    },
    {
     "name": "stdout",
     "output_type": "stream",
     "text": [
      "Got error from yahoo api for ticker PROS, Error: {'code': 'Not Found', 'description': 'No data found, symbol may be delisted'}\n",
      "- PROS: No timezone found, symbol may be delisted\n"
     ]
    },
    {
     "name": "stderr",
     "output_type": "stream",
     "text": [
      " 67%|██████▋   | 1859/2762 [15:38<05:59,  2.52it/s]"
     ]
    },
    {
     "name": "stdout",
     "output_type": "stream",
     "text": [
      "Got error from yahoo api for ticker PBC, Error: {'code': 'Not Found', 'description': 'No data found, symbol may be delisted'}\n",
      "- PBC: No timezone found, symbol may be delisted\n"
     ]
    },
    {
     "name": "stderr",
     "output_type": "stream",
     "text": [
      " 67%|██████▋   | 1860/2762 [15:38<05:33,  2.71it/s]"
     ]
    },
    {
     "name": "stdout",
     "output_type": "stream",
     "text": [
      "PBY: Data doesn't exist for startDate = 1451624400, endDate = 1451970000\n"
     ]
    },
    {
     "name": "stderr",
     "output_type": "stream",
     "text": [
      " 67%|██████▋   | 1864/2762 [15:41<06:50,  2.19it/s]"
     ]
    },
    {
     "name": "stdout",
     "output_type": "stream",
     "text": [
      "Got error from yahoo api for ticker PJH, Error: {'code': 'Not Found', 'description': 'No data found, symbol may be delisted'}\n",
      "- PJH: No timezone found, symbol may be delisted\n"
     ]
    },
    {
     "name": "stderr",
     "output_type": "stream",
     "text": [
      " 68%|██████▊   | 1865/2762 [15:41<06:06,  2.45it/s]"
     ]
    },
    {
     "name": "stdout",
     "output_type": "stream",
     "text": [
      "PRH: Data doesn't exist for startDate = 1451624400, endDate = 1451970000\n"
     ]
    },
    {
     "name": "stderr",
     "output_type": "stream",
     "text": [
      " 68%|██████▊   | 1866/2762 [15:41<05:33,  2.69it/s]"
     ]
    },
    {
     "name": "stdout",
     "output_type": "stream",
     "text": [
      "PRS: Data doesn't exist for startDate = 1451624400, endDate = 1451970000\n"
     ]
    },
    {
     "name": "stderr",
     "output_type": "stream",
     "text": [
      " 68%|██████▊   | 1869/2762 [15:43<06:14,  2.38it/s]"
     ]
    },
    {
     "name": "stdout",
     "output_type": "stream",
     "text": [
      "Got error from yahoo api for ticker PSB, Error: {'code': 'Not Found', 'description': 'No data found, symbol may be delisted'}\n",
      "- PSB: No timezone found, symbol may be delisted\n"
     ]
    },
    {
     "name": "stderr",
     "output_type": "stream",
     "text": [
      " 68%|██████▊   | 1879/2762 [15:49<07:50,  1.88it/s]"
     ]
    },
    {
     "name": "stdout",
     "output_type": "stream",
     "text": [
      "Got error from yahoo api for ticker NEW, Error: {'code': 'Not Found', 'description': 'No data found, symbol may be delisted'}\n",
      "- NEW: No timezone found, symbol may be delisted\n"
     ]
    },
    {
     "name": "stderr",
     "output_type": "stream",
     "text": [
      " 68%|██████▊   | 1881/2762 [15:50<06:39,  2.21it/s]"
     ]
    },
    {
     "name": "stdout",
     "output_type": "stream",
     "text": [
      "Got error from yahoo api for ticker PZN, Error: {'code': 'Not Found', 'description': 'No data found, symbol may be delisted'}\n",
      "- PZN: No timezone found, symbol may be delisted\n"
     ]
    },
    {
     "name": "stderr",
     "output_type": "stream",
     "text": [
      " 68%|██████▊   | 1883/2762 [15:51<05:38,  2.60it/s]"
     ]
    },
    {
     "name": "stdout",
     "output_type": "stream",
     "text": [
      "Got error from yahoo api for ticker QEP, Error: {'code': 'Not Found', 'description': 'No data found, symbol may be delisted'}\n",
      "- QEP: No timezone found, symbol may be delisted\n"
     ]
    },
    {
     "name": "stderr",
     "output_type": "stream",
     "text": [
      " 68%|██████▊   | 1885/2762 [15:52<05:21,  2.73it/s]"
     ]
    },
    {
     "name": "stdout",
     "output_type": "stream",
     "text": [
      "Got error from yahoo api for ticker QTS, Error: {'code': 'Not Found', 'description': 'No data found, symbol may be delisted'}\n",
      "- QTS: No timezone found, symbol may be delisted\n"
     ]
    },
    {
     "name": "stderr",
     "output_type": "stream",
     "text": [
      " 68%|██████▊   | 1890/2762 [15:55<07:18,  1.99it/s]"
     ]
    },
    {
     "name": "stdout",
     "output_type": "stream",
     "text": [
      "QD: Data doesn't exist for startDate = 1451624400, endDate = 1451970000\n"
     ]
    },
    {
     "name": "stderr",
     "output_type": "stream",
     "text": [
      " 69%|██████▊   | 1893/2762 [15:56<06:59,  2.07it/s]"
     ]
    },
    {
     "name": "stdout",
     "output_type": "stream",
     "text": [
      "QVCC: Data doesn't exist for startDate = 1451624400, endDate = 1451970000\n"
     ]
    },
    {
     "name": "stderr",
     "output_type": "stream",
     "text": [
      " 69%|██████▊   | 1895/2762 [15:57<04:54,  2.94it/s]"
     ]
    },
    {
     "name": "stdout",
     "output_type": "stream",
     "text": [
      "QVCD: Data doesn't exist for startDate = 1451624400, endDate = 1451970000\n",
      "Got error from yahoo api for ticker CTAA, Error: {'code': 'Not Found', 'description': 'No data found, symbol may be delisted'}\n",
      "- CTAA: No timezone found, symbol may be delisted\n"
     ]
    },
    {
     "name": "stderr",
     "output_type": "stream",
     "text": [
      " 69%|██████▊   | 1896/2762 [15:57<04:41,  3.08it/s]"
     ]
    },
    {
     "name": "stdout",
     "output_type": "stream",
     "text": [
      "CTBB: Data doesn't exist for startDate = 1451624400, endDate = 1451970000\n"
     ]
    },
    {
     "name": "stderr",
     "output_type": "stream",
     "text": [
      " 69%|██████▊   | 1897/2762 [15:57<04:31,  3.19it/s]"
     ]
    },
    {
     "name": "stdout",
     "output_type": "stream",
     "text": [
      "CTDD: Data doesn't exist for startDate = 1451624400, endDate = 1451970000\n"
     ]
    },
    {
     "name": "stderr",
     "output_type": "stream",
     "text": [
      " 69%|██████▉   | 1899/2762 [15:58<03:40,  3.92it/s]"
     ]
    },
    {
     "name": "stdout",
     "output_type": "stream",
     "text": [
      "CTV: Data doesn't exist for startDate = 1451624400, endDate = 1451970000\n",
      "Got error from yahoo api for ticker CTY, Error: {'code': 'Not Found', 'description': 'No data found, symbol may be delisted'}\n",
      "- CTY: No timezone found, symbol may be delisted\n"
     ]
    },
    {
     "name": "stderr",
     "output_type": "stream",
     "text": [
      " 69%|██████▉   | 1901/2762 [15:58<04:07,  3.48it/s]"
     ]
    },
    {
     "name": "stdout",
     "output_type": "stream",
     "text": [
      "Got error from yahoo api for ticker RRD, Error: {'code': 'Not Found', 'description': 'No data found, symbol may be delisted'}\n",
      "- RRD: No timezone found, symbol may be delisted\n"
     ]
    },
    {
     "name": "stderr",
     "output_type": "stream",
     "text": [
      " 69%|██████▉   | 1902/2762 [15:59<04:07,  3.47it/s]"
     ]
    },
    {
     "name": "stdout",
     "output_type": "stream",
     "text": [
      "RMED: Data doesn't exist for startDate = 1451624400, endDate = 1451970000\n"
     ]
    },
    {
     "name": "stderr",
     "output_type": "stream",
     "text": [
      " 69%|██████▉   | 1904/2762 [16:00<05:25,  2.64it/s]"
     ]
    },
    {
     "name": "stdout",
     "output_type": "stream",
     "text": [
      "RFL: Data doesn't exist for startDate = 1451624400, endDate = 1451970000\n"
     ]
    },
    {
     "name": "stderr",
     "output_type": "stream",
     "text": [
      " 69%|██████▉   | 1907/2762 [16:01<06:23,  2.23it/s]"
     ]
    },
    {
     "name": "stdout",
     "output_type": "stream",
     "text": [
      "RNGR: Data doesn't exist for startDate = 1451624400, endDate = 1451970000\n"
     ]
    },
    {
     "name": "stderr",
     "output_type": "stream",
     "text": [
      " 69%|██████▉   | 1908/2762 [16:01<05:38,  2.52it/s]"
     ]
    },
    {
     "name": "stdout",
     "output_type": "stream",
     "text": [
      "PACK: Data doesn't exist for startDate = 1451624400, endDate = 1451970000\n"
     ]
    },
    {
     "name": "stderr",
     "output_type": "stream",
     "text": [
      " 69%|██████▉   | 1915/2762 [16:06<07:33,  1.87it/s]"
     ]
    },
    {
     "name": "stdout",
     "output_type": "stream",
     "text": [
      "RCA: No data found for this date range, symbol may be delisted\n"
     ]
    },
    {
     "name": "stderr",
     "output_type": "stream",
     "text": [
      " 69%|██████▉   | 1916/2762 [16:06<06:28,  2.18it/s]"
     ]
    },
    {
     "name": "stdout",
     "output_type": "stream",
     "text": [
      "RCB: Data doesn't exist for startDate = 1451624400, endDate = 1451970000\n"
     ]
    },
    {
     "name": "stderr",
     "output_type": "stream",
     "text": [
      " 69%|██████▉   | 1918/2762 [16:07<05:24,  2.60it/s]"
     ]
    },
    {
     "name": "stdout",
     "output_type": "stream",
     "text": [
      "Got error from yahoo api for ticker RLGY, Error: {'code': 'Not Found', 'description': 'No data found, symbol may be delisted'}\n",
      "- RLGY: No timezone found, symbol may be delisted\n"
     ]
    },
    {
     "name": "stderr",
     "output_type": "stream",
     "text": [
      " 70%|██████▉   | 1920/2762 [16:08<05:14,  2.68it/s]"
     ]
    },
    {
     "name": "stdout",
     "output_type": "stream",
     "text": [
      "Got error from yahoo api for ticker RLH, Error: {'code': 'Not Found', 'description': 'No data found, symbol may be delisted'}\n",
      "- RLH: No timezone found, symbol may be delisted\n"
     ]
    },
    {
     "name": "stderr",
     "output_type": "stream",
     "text": [
      " 70%|██████▉   | 1927/2762 [16:12<06:43,  2.07it/s]"
     ]
    },
    {
     "name": "stdout",
     "output_type": "stream",
     "text": [
      "Got error from yahoo api for ticker RZA, Error: {'code': 'Not Found', 'description': 'No data found, symbol may be delisted'}\n",
      "- RZA: No timezone found, symbol may be delisted\n"
     ]
    },
    {
     "name": "stderr",
     "output_type": "stream",
     "text": [
      " 70%|██████▉   | 1928/2762 [16:12<06:06,  2.28it/s]"
     ]
    },
    {
     "name": "stdout",
     "output_type": "stream",
     "text": [
      "RZB: Data doesn't exist for startDate = 1451624400, endDate = 1451970000\n"
     ]
    },
    {
     "name": "stderr",
     "output_type": "stream",
     "text": [
      " 70%|███████   | 1934/2762 [16:15<06:13,  2.22it/s]"
     ]
    },
    {
     "name": "stdout",
     "output_type": "stream",
     "text": [
      "Got error from yahoo api for ticker RPLA, Error: {'code': 'Not Found', 'description': 'No data found, symbol may be delisted'}\n",
      "- RPLA: No timezone found, symbol may be delisted\n"
     ]
    },
    {
     "name": "stderr",
     "output_type": "stream",
     "text": [
      " 70%|███████   | 1936/2762 [16:16<06:15,  2.20it/s]"
     ]
    },
    {
     "name": "stdout",
     "output_type": "stream",
     "text": [
      "REZI: Data doesn't exist for startDate = 1451624400, endDate = 1451970000\n"
     ]
    },
    {
     "name": "stderr",
     "output_type": "stream",
     "text": [
      " 70%|███████   | 1938/2762 [16:17<05:20,  2.57it/s]"
     ]
    },
    {
     "name": "stdout",
     "output_type": "stream",
     "text": [
      "Got error from yahoo api for ticker RFP, Error: {'code': 'Not Found', 'description': 'No data found, symbol may be delisted'}\n",
      "- RFP: No timezone found, symbol may be delisted\n"
     ]
    },
    {
     "name": "stderr",
     "output_type": "stream",
     "text": [
      " 70%|███████   | 1941/2762 [16:18<04:01,  3.41it/s]"
     ]
    },
    {
     "name": "stdout",
     "output_type": "stream",
     "text": [
      "Got error from yahoo api for ticker RPAI, Error: {'code': 'Not Found', 'description': 'No data found, symbol may be delisted'}\n",
      "- RPAI: No timezone found, symbol may be delisted\n",
      "Got error from yahoo api for ticker RVI, Error: {'code': 'Not Found', 'description': 'No data found, symbol may be delisted'}\n",
      "- RVI: No timezone found, symbol may be delisted\n"
     ]
    },
    {
     "name": "stderr",
     "output_type": "stream",
     "text": [
      " 70%|███████   | 1943/2762 [16:18<03:24,  4.01it/s]"
     ]
    },
    {
     "name": "stdout",
     "output_type": "stream",
     "text": [
      "REVG: Data doesn't exist for startDate = 1451624400, endDate = 1451970000\n",
      "Got error from yahoo api for ticker REV, Error: {'code': 'Not Found', 'description': 'No data found, symbol may be delisted'}\n",
      "- REV: No timezone found, symbol may be delisted\n"
     ]
    },
    {
     "name": "stderr",
     "output_type": "stream",
     "text": [
      " 70%|███████   | 1944/2762 [16:19<03:32,  3.86it/s]"
     ]
    },
    {
     "name": "stdout",
     "output_type": "stream",
     "text": [
      "RVLV: Data doesn't exist for startDate = 1451624400, endDate = 1451970000\n"
     ]
    },
    {
     "name": "stderr",
     "output_type": "stream",
     "text": [
      " 70%|███████   | 1947/2762 [16:20<04:38,  2.93it/s]"
     ]
    },
    {
     "name": "stdout",
     "output_type": "stream",
     "text": [
      "Got error from yahoo api for ticker RXN, Error: {'code': 'Not Found', 'description': 'No data found, symbol may be delisted'}\n",
      "- RXN: No timezone found, symbol may be delisted\n"
     ]
    },
    {
     "name": "stderr",
     "output_type": "stream",
     "text": [
      " 71%|███████   | 1953/2762 [16:36<24:40,  1.83s/it]"
     ]
    },
    {
     "name": "stdout",
     "output_type": "stream",
     "text": [
      "RFM: Data doesn't exist for startDate = 1451624400, endDate = 1451970000\n"
     ]
    },
    {
     "name": "stderr",
     "output_type": "stream",
     "text": [
      " 71%|███████   | 1954/2762 [16:37<18:24,  1.37s/it]"
     ]
    },
    {
     "name": "stdout",
     "output_type": "stream",
     "text": [
      "RMM: Data doesn't exist for startDate = 1451624400, endDate = 1451970000\n"
     ]
    },
    {
     "name": "stderr",
     "output_type": "stream",
     "text": [
      " 71%|███████   | 1955/2762 [16:37<14:04,  1.05s/it]"
     ]
    },
    {
     "name": "stdout",
     "output_type": "stream",
     "text": [
      "RMI: Data doesn't exist for startDate = 1451624400, endDate = 1451970000\n"
     ]
    },
    {
     "name": "stderr",
     "output_type": "stream",
     "text": [
      " 71%|███████   | 1956/2762 [16:37<11:03,  1.21it/s]"
     ]
    },
    {
     "name": "stdout",
     "output_type": "stream",
     "text": [
      "RIV: Data doesn't exist for startDate = 1451624400, endDate = 1451970000\n"
     ]
    },
    {
     "name": "stderr",
     "output_type": "stream",
     "text": [
      " 71%|███████   | 1957/2762 [16:37<08:55,  1.50it/s]"
     ]
    },
    {
     "name": "stdout",
     "output_type": "stream",
     "text": [
      "RSF: Data doesn't exist for startDate = 1451624400, endDate = 1451970000\n"
     ]
    },
    {
     "name": "stderr",
     "output_type": "stream",
     "text": [
      " 71%|███████   | 1958/2762 [16:38<07:25,  1.80it/s]"
     ]
    },
    {
     "name": "stdout",
     "output_type": "stream",
     "text": [
      "OPP: Data doesn't exist for startDate = 1451624400, endDate = 1451970000\n"
     ]
    },
    {
     "name": "stderr",
     "output_type": "stream",
     "text": [
      " 71%|███████   | 1961/2762 [16:39<06:23,  2.09it/s]"
     ]
    },
    {
     "name": "stdout",
     "output_type": "stream",
     "text": [
      "Got error from yahoo api for ticker RMG, Error: {'code': 'Not Found', 'description': 'No data found, symbol may be delisted'}\n",
      "- RMG: No timezone found, symbol may be delisted\n"
     ]
    },
    {
     "name": "stderr",
     "output_type": "stream",
     "text": [
      " 71%|███████▏  | 1968/2762 [16:44<06:42,  1.97it/s]"
     ]
    },
    {
     "name": "stdout",
     "output_type": "stream",
     "text": [
      "Got error from yahoo api for ticker RST, Error: {'code': 'Not Found', 'description': 'No data found, symbol may be delisted'}\n",
      "- RST: No timezone found, symbol may be delisted\n"
     ]
    },
    {
     "name": "stderr",
     "output_type": "stream",
     "text": [
      " 72%|███████▏  | 1977/2762 [16:49<06:50,  1.91it/s]"
     ]
    },
    {
     "name": "stdout",
     "output_type": "stream",
     "text": [
      "Got error from yahoo api for ticker RYB, Error: {'code': 'Not Found', 'description': 'No data found, symbol may be delisted'}\n",
      "- RYB: No timezone found, symbol may be delisted\n"
     ]
    },
    {
     "name": "stderr",
     "output_type": "stream",
     "text": [
      " 72%|███████▏  | 1986/2762 [16:55<06:29,  1.99it/s]"
     ]
    },
    {
     "name": "stdout",
     "output_type": "stream",
     "text": [
      "Got error from yahoo api for ticker SAIL, Error: {'code': 'Not Found', 'description': 'No data found, symbol may be delisted'}\n",
      "- SAIL: No timezone found, symbol may be delisted\n"
     ]
    },
    {
     "name": "stderr",
     "output_type": "stream",
     "text": [
      " 72%|███████▏  | 1992/2762 [16:58<05:08,  2.49it/s]"
     ]
    },
    {
     "name": "stdout",
     "output_type": "stream",
     "text": [
      "SD: Data doesn't exist for startDate = 1451624400, endDate = 1451970000\n",
      "Got error from yahoo api for ticker PER, Error: {'code': 'Not Found', 'description': 'No data found, symbol may be delisted'}\n",
      "- PER: No timezone found, symbol may be delisted\n"
     ]
    },
    {
     "name": "stderr",
     "output_type": "stream",
     "text": [
      " 72%|███████▏  | 1994/2762 [16:58<03:26,  3.73it/s]"
     ]
    },
    {
     "name": "stdout",
     "output_type": "stream",
     "text": [
      "Got error from yahoo api for ticker SAND          , Error: {'code': 'Not Found', 'description': 'No data found, symbol may be delisted'}\n",
      "- SAND          : No timezone found, symbol may be delisted\n",
      "Got error from yahoo api for ticker SC, Error: {'code': 'Not Found', 'description': 'No data found, symbol may be delisted'}\n",
      "- SC: No timezone found, symbol may be delisted\n"
     ]
    },
    {
     "name": "stderr",
     "output_type": "stream",
     "text": [
      " 72%|███████▏  | 1997/2762 [16:59<03:42,  3.44it/s]"
     ]
    },
    {
     "name": "stdout",
     "output_type": "stream",
     "text": [
      "SAF: Data doesn't exist for startDate = 1451624400, endDate = 1451970000\n",
      "Got error from yahoo api for ticker SAK, Error: {'code': 'Not Found', 'description': 'No data found, symbol may be delisted'}\n",
      "- SAK: No timezone found, symbol may be delisted\n"
     ]
    },
    {
     "name": "stderr",
     "output_type": "stream",
     "text": [
      " 72%|███████▏  | 2001/2762 [17:01<05:31,  2.30it/s]"
     ]
    },
    {
     "name": "stdout",
     "output_type": "stream",
     "text": [
      "Got error from yahoo api for ticker SCPE, Error: {'code': 'Not Found', 'description': 'No data found, symbol may be delisted'}\n",
      "- SCPE: No timezone found, symbol may be delisted\n"
     ]
    },
    {
     "name": "stderr",
     "output_type": "stream",
     "text": [
      " 73%|███████▎  | 2004/2762 [17:02<04:32,  2.78it/s]"
     ]
    },
    {
     "name": "stdout",
     "output_type": "stream",
     "text": [
      "SNDR: Data doesn't exist for startDate = 1451624400, endDate = 1451970000\n",
      "Got error from yahoo api for ticker SWM, Error: {'code': 'Not Found', 'description': 'No data found, symbol may be delisted'}\n",
      "- SWM: No timezone found, symbol may be delisted\n"
     ]
    },
    {
     "name": "stderr",
     "output_type": "stream",
     "text": [
      " 73%|███████▎  | 2006/2762 [17:03<04:25,  2.85it/s]"
     ]
    },
    {
     "name": "stdout",
     "output_type": "stream",
     "text": [
      "Got error from yahoo api for ticker SALT, Error: {'code': 'Not Found', 'description': 'No data found, symbol may be delisted'}\n",
      "- SALT: No timezone found, symbol may be delisted\n"
     ]
    },
    {
     "name": "stderr",
     "output_type": "stream",
     "text": [
      " 73%|███████▎  | 2007/2762 [17:03<04:08,  3.04it/s]"
     ]
    },
    {
     "name": "stdout",
     "output_type": "stream",
     "text": [
      "SBBA: Data doesn't exist for startDate = 1451624400, endDate = 1451970000\n"
     ]
    },
    {
     "name": "stderr",
     "output_type": "stream",
     "text": [
      " 73%|███████▎  | 2014/2762 [17:08<06:00,  2.08it/s]"
     ]
    },
    {
     "name": "stdout",
     "output_type": "stream",
     "text": [
      "Got error from yahoo api for ticker SCVX, Error: {'code': 'Not Found', 'description': 'No data found, symbol may be delisted'}\n",
      "- SCVX: No timezone found, symbol may be delisted\n"
     ]
    },
    {
     "name": "stderr",
     "output_type": "stream",
     "text": [
      " 73%|███████▎  | 2015/2762 [17:08<05:15,  2.37it/s]"
     ]
    },
    {
     "name": "stdout",
     "output_type": "stream",
     "text": [
      "SE: Data doesn't exist for startDate = 1451624400, endDate = 1451970000\n"
     ]
    },
    {
     "name": "stderr",
     "output_type": "stream",
     "text": [
      " 73%|███████▎  | 2017/2762 [17:09<04:40,  2.66it/s]"
     ]
    },
    {
     "name": "stdout",
     "output_type": "stream",
     "text": [
      "Got error from yahoo api for ticker CKH, Error: {'code': 'Not Found', 'description': 'No data found, symbol may be delisted'}\n",
      "- CKH: No timezone found, symbol may be delisted\n"
     ]
    },
    {
     "name": "stderr",
     "output_type": "stream",
     "text": [
      " 73%|███████▎  | 2018/2762 [17:09<04:21,  2.84it/s]"
     ]
    },
    {
     "name": "stdout",
     "output_type": "stream",
     "text": [
      "SMHI: Data doesn't exist for startDate = 1451624400, endDate = 1451970000\n"
     ]
    },
    {
     "name": "stderr",
     "output_type": "stream",
     "text": [
      " 73%|███████▎  | 2021/2762 [17:10<05:28,  2.26it/s]"
     ]
    },
    {
     "name": "stdout",
     "output_type": "stream",
     "text": [
      "WTTR: Data doesn't exist for startDate = 1451624400, endDate = 1451970000\n"
     ]
    },
    {
     "name": "stderr",
     "output_type": "stream",
     "text": [
      " 73%|███████▎  | 2023/2762 [17:11<05:21,  2.30it/s]"
     ]
    },
    {
     "name": "stdout",
     "output_type": "stream",
     "text": [
      "SLQT: Data doesn't exist for startDate = 1451624400, endDate = 1451970000\n"
     ]
    },
    {
     "name": "stderr",
     "output_type": "stream",
     "text": [
      " 73%|███████▎  | 2025/2762 [17:12<05:23,  2.28it/s]"
     ]
    },
    {
     "name": "stdout",
     "output_type": "stream",
     "text": [
      "SREA: Data doesn't exist for startDate = 1451624400, endDate = 1451970000\n"
     ]
    },
    {
     "name": "stderr",
     "output_type": "stream",
     "text": [
      " 74%|███████▎  | 2031/2762 [17:16<05:43,  2.13it/s]"
     ]
    },
    {
     "name": "stdout",
     "output_type": "stream",
     "text": [
      "Got error from yahoo api for ticker SERV, Error: {'code': 'Not Found', 'description': 'No data found, symbol may be delisted'}\n",
      "- SERV: No timezone found, symbol may be delisted\n"
     ]
    },
    {
     "name": "stderr",
     "output_type": "stream",
     "text": [
      " 74%|███████▎  | 2036/2762 [17:18<04:06,  2.94it/s]"
     ]
    },
    {
     "name": "stdout",
     "output_type": "stream",
     "text": [
      "Got error from yahoo api for ticker SJR, Error: {'code': 'Not Found', 'description': 'No data found, symbol may be delisted'}\n",
      "- SJR: No timezone found, symbol may be delisted\n",
      "Got error from yahoo api for ticker SHLX, Error: {'code': 'Not Found', 'description': 'No data found, symbol may be delisted'}\n",
      "- SHLX: No timezone found, symbol may be delisted\n"
     ]
    },
    {
     "name": "stderr",
     "output_type": "stream",
     "text": [
      " 74%|███████▍  | 2038/2762 [17:19<04:58,  2.43it/s]"
     ]
    },
    {
     "name": "stdout",
     "output_type": "stream",
     "text": [
      "FOUR: Data doesn't exist for startDate = 1451624400, endDate = 1451970000\n"
     ]
    },
    {
     "name": "stderr",
     "output_type": "stream",
     "text": [
      " 74%|███████▍  | 2044/2762 [17:22<06:10,  1.94it/s]"
     ]
    },
    {
     "name": "stdout",
     "output_type": "stream",
     "text": [
      "SBOW: Data doesn't exist for startDate = 1451624400, endDate = 1451970000\n"
     ]
    },
    {
     "name": "stderr",
     "output_type": "stream",
     "text": [
      " 74%|███████▍  | 2045/2762 [17:22<05:19,  2.24it/s]"
     ]
    },
    {
     "name": "stdout",
     "output_type": "stream",
     "text": [
      "SI: Data doesn't exist for startDate = 1451624400, endDate = 1451970000\n"
     ]
    },
    {
     "name": "stderr",
     "output_type": "stream",
     "text": [
      " 74%|███████▍  | 2048/2762 [17:24<05:01,  2.37it/s]"
     ]
    },
    {
     "name": "stdout",
     "output_type": "stream",
     "text": [
      "Got error from yahoo api for ticker SHI, Error: {'code': 'Not Found', 'description': 'No data found, symbol may be delisted'}\n",
      "- SHI: No timezone found, symbol may be delisted\n"
     ]
    },
    {
     "name": "stderr",
     "output_type": "stream",
     "text": [
      " 74%|███████▍  | 2050/2762 [17:25<04:57,  2.39it/s]"
     ]
    },
    {
     "name": "stdout",
     "output_type": "stream",
     "text": [
      "SITE: Data doesn't exist for startDate = 1451624400, endDate = 1451970000\n"
     ]
    },
    {
     "name": "stderr",
     "output_type": "stream",
     "text": [
      " 75%|███████▍  | 2058/2762 [17:29<05:46,  2.03it/s]"
     ]
    },
    {
     "name": "stdout",
     "output_type": "stream",
     "text": [
      "Got error from yahoo api for ticker WORK, Error: {'code': 'Not Found', 'description': 'No data found, symbol may be delisted'}\n",
      "- WORK: No timezone found, symbol may be delisted\n"
     ]
    },
    {
     "name": "stderr",
     "output_type": "stream",
     "text": [
      " 75%|███████▍  | 2060/2762 [17:30<05:30,  2.13it/s]"
     ]
    },
    {
     "name": "stdout",
     "output_type": "stream",
     "text": [
      "SMAR: Data doesn't exist for startDate = 1451624400, endDate = 1451970000\n"
     ]
    },
    {
     "name": "stderr",
     "output_type": "stream",
     "text": [
      " 75%|███████▍  | 2062/2762 [17:31<05:18,  2.20it/s]"
     ]
    },
    {
     "name": "stdout",
     "output_type": "stream",
     "text": [
      "SNAP: Data doesn't exist for startDate = 1451624400, endDate = 1451970000\n"
     ]
    },
    {
     "name": "stderr",
     "output_type": "stream",
     "text": [
      " 75%|███████▍  | 2065/2762 [17:32<03:50,  3.03it/s]"
     ]
    },
    {
     "name": "stdout",
     "output_type": "stream",
     "text": [
      "Got error from yahoo api for ticker IPOB, Error: {'code': 'Not Found', 'description': 'No data found, symbol may be delisted'}\n",
      "- IPOB: No timezone found, symbol may be delisted\n",
      "Got error from yahoo api for ticker IPOC, Error: {'code': 'Not Found', 'description': 'No data found, symbol may be delisted'}\n",
      "- IPOC: No timezone found, symbol may be delisted\n"
     ]
    },
    {
     "name": "stderr",
     "output_type": "stream",
     "text": [
      " 75%|███████▍  | 2067/2762 [17:33<04:00,  2.89it/s]"
     ]
    },
    {
     "name": "stdout",
     "output_type": "stream",
     "text": [
      "Got error from yahoo api for ticker SOGO, Error: {'code': 'Not Found', 'description': 'No data found, symbol may be delisted'}\n",
      "- SOGO: No timezone found, symbol may be delisted\n"
     ]
    },
    {
     "name": "stderr",
     "output_type": "stream",
     "text": [
      " 75%|███████▍  | 2068/2762 [17:34<03:48,  3.03it/s]"
     ]
    },
    {
     "name": "stdout",
     "output_type": "stream",
     "text": [
      "SOI: Data doesn't exist for startDate = 1451624400, endDate = 1451970000\n"
     ]
    },
    {
     "name": "stderr",
     "output_type": "stream",
     "text": [
      " 75%|███████▍  | 2069/2762 [17:34<03:41,  3.13it/s]"
     ]
    },
    {
     "name": "stdout",
     "output_type": "stream",
     "text": [
      "SWI: Data doesn't exist for startDate = 1451624400, endDate = 1451970000\n"
     ]
    },
    {
     "name": "stderr",
     "output_type": "stream",
     "text": [
      " 75%|███████▌  | 2072/2762 [17:35<04:29,  2.56it/s]"
     ]
    },
    {
     "name": "stdout",
     "output_type": "stream",
     "text": [
      "Got error from yahoo api for ticker SNE, Error: {'code': 'Not Found', 'description': 'No data found, symbol may be delisted'}\n",
      "- SNE: No timezone found, symbol may be delisted\n"
     ]
    },
    {
     "name": "stderr",
     "output_type": "stream",
     "text": [
      " 75%|███████▌  | 2073/2762 [17:36<04:07,  2.78it/s]"
     ]
    },
    {
     "name": "stdout",
     "output_type": "stream",
     "text": [
      "SOS: Data doesn't exist for startDate = 1451624400, endDate = 1451970000\n"
     ]
    },
    {
     "name": "stderr",
     "output_type": "stream",
     "text": [
      " 75%|███████▌  | 2076/2762 [17:37<03:35,  3.18it/s]"
     ]
    },
    {
     "name": "stdout",
     "output_type": "stream",
     "text": [
      "Got error from yahoo api for ticker SJI, Error: {'code': 'Not Found', 'description': 'No data found, symbol may be delisted'}\n",
      "- SJI: No timezone found, symbol may be delisted\n",
      "Got error from yahoo api for ticker SJIJ, Error: {'code': 'Not Found', 'description': 'No data found, symbol may be delisted'}\n",
      "- SJIJ: No timezone found, symbol may be delisted\n"
     ]
    },
    {
     "name": "stderr",
     "output_type": "stream",
     "text": [
      " 75%|███████▌  | 2077/2762 [17:37<03:02,  3.76it/s]"
     ]
    },
    {
     "name": "stdout",
     "output_type": "stream",
     "text": [
      "Got error from yahoo api for ticker SJIU, Error: {'code': 'Not Found', 'description': 'No data found, symbol may be delisted'}\n",
      "- SJIU: No timezone found, symbol may be delisted\n"
     ]
    },
    {
     "name": "stderr",
     "output_type": "stream",
     "text": [
      " 75%|███████▌  | 2080/2762 [17:38<04:43,  2.41it/s]"
     ]
    },
    {
     "name": "stdout",
     "output_type": "stream",
     "text": [
      "SOJB: Data doesn't exist for startDate = 1451624400, endDate = 1451970000\n"
     ]
    },
    {
     "name": "stderr",
     "output_type": "stream",
     "text": [
      " 75%|███████▌  | 2081/2762 [17:39<04:21,  2.60it/s]"
     ]
    },
    {
     "name": "stdout",
     "output_type": "stream",
     "text": [
      "SOJC: Data doesn't exist for startDate = 1451624400, endDate = 1451970000\n"
     ]
    },
    {
     "name": "stderr",
     "output_type": "stream",
     "text": [
      " 75%|███████▌  | 2083/2762 [17:39<03:18,  3.41it/s]"
     ]
    },
    {
     "name": "stdout",
     "output_type": "stream",
     "text": [
      "SOJD: Data doesn't exist for startDate = 1451624400, endDate = 1451970000\n",
      "Got error from yahoo api for ticker SOLN, Error: {'code': 'Not Found', 'description': 'No data found, symbol may be delisted'}\n",
      "- SOLN: No timezone found, symbol may be delisted\n"
     ]
    },
    {
     "name": "stderr",
     "output_type": "stream",
     "text": [
      " 76%|███████▌  | 2088/2762 [17:42<05:37,  2.00it/s]"
     ]
    },
    {
     "name": "stdout",
     "output_type": "stream",
     "text": [
      "SPAQ: Data doesn't exist for startDate = 1451624400, endDate = 1451970000\n"
     ]
    },
    {
     "name": "stderr",
     "output_type": "stream",
     "text": [
      " 76%|███████▌  | 2090/2762 [17:43<04:49,  2.32it/s]"
     ]
    },
    {
     "name": "stdout",
     "output_type": "stream",
     "text": [
      "Got error from yahoo api for ticker SPB           , Error: {'code': 'Not Found', 'description': 'No data found, symbol may be delisted'}\n",
      "- SPB           : No timezone found, symbol may be delisted\n"
     ]
    },
    {
     "name": "stderr",
     "output_type": "stream",
     "text": [
      " 76%|███████▌  | 2096/2762 [17:46<04:20,  2.55it/s]"
     ]
    },
    {
     "name": "stdout",
     "output_type": "stream",
     "text": [
      "SPOT: Data doesn't exist for startDate = 1451624400, endDate = 1451970000\n",
      "Got error from yahoo api for ticker SRLP, Error: {'code': 'Not Found', 'description': 'No data found, symbol may be delisted'}\n",
      "- SRLP: No timezone found, symbol may be delisted\n"
     ]
    },
    {
     "name": "stderr",
     "output_type": "stream",
     "text": [
      " 76%|███████▌  | 2099/2762 [17:48<04:31,  2.44it/s]"
     ]
    },
    {
     "name": "stdout",
     "output_type": "stream",
     "text": [
      "Got error from yahoo api for ticker FLOW, Error: {'code': 'Not Found', 'description': 'No data found, symbol may be delisted'}\n",
      "- FLOW: No timezone found, symbol may be delisted\n"
     ]
    },
    {
     "name": "stderr",
     "output_type": "stream",
     "text": [
      " 76%|███████▌  | 2106/2762 [17:52<05:46,  1.90it/s]"
     ]
    },
    {
     "name": "stdout",
     "output_type": "stream",
     "text": [
      "Got error from yahoo api for ticker SWT, Error: {'code': 'Not Found', 'description': 'No data found, symbol may be delisted'}\n",
      "- SWT: No timezone found, symbol may be delisted\n"
     ]
    },
    {
     "name": "stderr",
     "output_type": "stream",
     "text": [
      " 77%|███████▋  | 2114/2762 [17:57<05:50,  1.85it/s]"
     ]
    },
    {
     "name": "stdout",
     "output_type": "stream",
     "text": [
      "SCA: Data doesn't exist for startDate = 1451624400, endDate = 1451970000\n"
     ]
    },
    {
     "name": "stderr",
     "output_type": "stream",
     "text": [
      " 77%|███████▋  | 2118/2762 [17:59<05:10,  2.08it/s]"
     ]
    },
    {
     "name": "stdout",
     "output_type": "stream",
     "text": [
      "Got error from yahoo api for ticker STL, Error: {'code': 'Not Found', 'description': 'No data found, symbol may be delisted'}\n",
      "- STL: No timezone found, symbol may be delisted\n"
     ]
    },
    {
     "name": "stderr",
     "output_type": "stream",
     "text": [
      " 77%|███████▋  | 2121/2762 [18:01<05:18,  2.01it/s]"
     ]
    },
    {
     "name": "stdout",
     "output_type": "stream",
     "text": [
      "SFB: Period '1mo' is invalid, must be one of ['1d', '5d']\n"
     ]
    },
    {
     "name": "stderr",
     "output_type": "stream",
     "text": [
      " 77%|███████▋  | 2125/2762 [18:03<04:45,  2.23it/s]"
     ]
    },
    {
     "name": "stdout",
     "output_type": "stream",
     "text": [
      "Got error from yahoo api for ticker STON, Error: {'code': 'Not Found', 'description': 'No data found, symbol may be delisted'}\n",
      "- STON: No timezone found, symbol may be delisted\n"
     ]
    },
    {
     "name": "stderr",
     "output_type": "stream",
     "text": [
      " 77%|███████▋  | 2127/2762 [18:03<04:02,  2.61it/s]"
     ]
    },
    {
     "name": "stdout",
     "output_type": "stream",
     "text": [
      "Got error from yahoo api for ticker STOR, Error: {'code': 'Not Found', 'description': 'No data found, symbol may be delisted'}\n",
      "- STOR: No timezone found, symbol may be delisted\n"
     ]
    },
    {
     "name": "stderr",
     "output_type": "stream",
     "text": [
      " 77%|███████▋  | 2132/2762 [18:06<05:31,  1.90it/s]"
     ]
    },
    {
     "name": "stdout",
     "output_type": "stream",
     "text": [
      "MSC: Data doesn't exist for startDate = 1451624400, endDate = 1451970000\n"
     ]
    },
    {
     "name": "stderr",
     "output_type": "stream",
     "text": [
      " 78%|███████▊  | 2143/2762 [18:13<05:38,  1.83it/s]"
     ]
    },
    {
     "name": "stdout",
     "output_type": "stream",
     "text": [
      "STG: Data doesn't exist for startDate = 1451624400, endDate = 1451970000\n"
     ]
    },
    {
     "name": "stderr",
     "output_type": "stream",
     "text": [
      " 78%|███████▊  | 2144/2762 [18:14<04:48,  2.14it/s]"
     ]
    },
    {
     "name": "stdout",
     "output_type": "stream",
     "text": [
      "NOVA: Data doesn't exist for startDate = 1451624400, endDate = 1451970000\n"
     ]
    },
    {
     "name": "stderr",
     "output_type": "stream",
     "text": [
      " 78%|███████▊  | 2147/2762 [18:15<04:20,  2.36it/s]"
     ]
    },
    {
     "name": "stdout",
     "output_type": "stream",
     "text": [
      "Got error from yahoo api for ticker SPN, Error: {'code': 'Not Found', 'description': 'No data found, symbol may be delisted'}\n",
      "- SPN: No timezone found, symbol may be delisted\n"
     ]
    },
    {
     "name": "stderr",
     "output_type": "stream",
     "text": [
      " 78%|███████▊  | 2149/2762 [18:16<04:06,  2.49it/s]"
     ]
    },
    {
     "name": "stdout",
     "output_type": "stream",
     "text": [
      "Got error from yahoo api for ticker SOAC, Error: {'code': 'Not Found', 'description': 'No data found, symbol may be delisted'}\n",
      "- SOAC: No timezone found, symbol may be delisted\n"
     ]
    },
    {
     "name": "stderr",
     "output_type": "stream",
     "text": [
      " 78%|███████▊  | 2153/2762 [18:18<03:22,  3.01it/s]"
     ]
    },
    {
     "name": "stdout",
     "output_type": "stream",
     "text": [
      "Got error from yahoo api for ticker SWCH, Error: {'code': 'Not Found', 'description': 'No data found, symbol may be delisted'}\n",
      "- SWCH: No timezone found, symbol may be delisted\n",
      "Got error from yahoo api for ticker SBE, Error: {'code': 'Not Found', 'description': 'No data found, symbol may be delisted'}\n",
      "- SBE: No timezone found, symbol may be delisted\n"
     ]
    },
    {
     "name": "stderr",
     "output_type": "stream",
     "text": [
      " 78%|███████▊  | 2162/2762 [18:22<03:43,  2.69it/s]"
     ]
    },
    {
     "name": "stdout",
     "output_type": "stream",
     "text": [
      "Got error from yahoo api for ticker SYX, Error: {'code': 'Not Found', 'description': 'No data found, symbol may be delisted'}\n",
      "- SYX: No timezone found, symbol may be delisted\n",
      "Got error from yahoo api for ticker TLRD, Error: {'code': 'Not Found', 'description': 'No data found, symbol may be delisted'}\n",
      "- TLRD: No timezone found, symbol may be delisted\n"
     ]
    },
    {
     "name": "stderr",
     "output_type": "stream",
     "text": [
      " 78%|███████▊  | 2167/2762 [18:25<04:36,  2.15it/s]"
     ]
    },
    {
     "name": "stdout",
     "output_type": "stream",
     "text": [
      "TALO: Data doesn't exist for startDate = 1451624400, endDate = 1451970000\n"
     ]
    },
    {
     "name": "stderr",
     "output_type": "stream",
     "text": [
      " 79%|███████▊  | 2174/2762 [18:28<03:33,  2.75it/s]"
     ]
    },
    {
     "name": "stdout",
     "output_type": "stream",
     "text": [
      "Got error from yahoo api for ticker TTM, Error: {'code': 'Not Found', 'description': 'No data found, symbol may be delisted'}\n",
      "- TTM: No timezone found, symbol may be delisted\n",
      "Got error from yahoo api for ticker TCO, Error: {'code': 'Not Found', 'description': 'No data found, symbol may be delisted'}\n",
      "- TCO: No timezone found, symbol may be delisted\n"
     ]
    },
    {
     "name": "stderr",
     "output_type": "stream",
     "text": [
      " 79%|███████▉  | 2177/2762 [18:30<03:50,  2.53it/s]"
     ]
    },
    {
     "name": "stdout",
     "output_type": "stream",
     "text": [
      "Got error from yahoo api for ticker TCP, Error: {'code': 'Not Found', 'description': 'No data found, symbol may be delisted'}\n",
      "- TCP: No timezone found, symbol may be delisted\n"
     ]
    },
    {
     "name": "stderr",
     "output_type": "stream",
     "text": [
      " 79%|███████▉  | 2184/2762 [18:34<04:30,  2.14it/s]"
     ]
    },
    {
     "name": "stdout",
     "output_type": "stream",
     "text": [
      "Got error from yahoo api for ticker TGP, Error: {'code': 'Not Found', 'description': 'No data found, symbol may be delisted'}\n",
      "- TGP: No timezone found, symbol may be delisted\n"
     ]
    },
    {
     "name": "stderr",
     "output_type": "stream",
     "text": [
      " 80%|███████▉  | 2199/2762 [18:42<03:42,  2.53it/s]"
     ]
    },
    {
     "name": "stdout",
     "output_type": "stream",
     "text": [
      "Got error from yahoo api for ticker TDA, Error: {'code': 'Not Found', 'description': 'No data found, symbol may be delisted'}\n",
      "- TDA: No timezone found, symbol may be delisted\n",
      "Got error from yahoo api for ticker TDE, Error: {'code': 'Not Found', 'description': 'No data found, symbol may be delisted'}\n",
      "- TDE: No timezone found, symbol may be delisted\n"
     ]
    },
    {
     "name": "stderr",
     "output_type": "stream",
     "text": [
      " 80%|███████▉  | 2201/2762 [18:42<02:29,  3.76it/s]"
     ]
    },
    {
     "name": "stdout",
     "output_type": "stream",
     "text": [
      "Got error from yahoo api for ticker TDI, Error: {'code': 'Not Found', 'description': 'No data found, symbol may be delisted'}\n",
      "- TDI: No timezone found, symbol may be delisted\n",
      "Got error from yahoo api for ticker TDJ, Error: {'code': 'Not Found', 'description': 'No data found, symbol may be delisted'}\n",
      "- TDJ: No timezone found, symbol may be delisted\n"
     ]
    },
    {
     "name": "stderr",
     "output_type": "stream",
     "text": [
      " 80%|████████  | 2210/2762 [18:48<04:45,  1.93it/s]"
     ]
    },
    {
     "name": "stdout",
     "output_type": "stream",
     "text": [
      "TME: Data doesn't exist for startDate = 1451624400, endDate = 1451970000\n"
     ]
    },
    {
     "name": "stderr",
     "output_type": "stream",
     "text": [
      " 80%|████████  | 2213/2762 [18:49<04:15,  2.15it/s]"
     ]
    },
    {
     "name": "stdout",
     "output_type": "stream",
     "text": [
      "Got error from yahoo api for ticker TEN, Error: {'code': 'Not Found', 'description': 'No data found, symbol may be delisted'}\n",
      "- TEN: No timezone found, symbol may be delisted\n"
     ]
    },
    {
     "name": "stderr",
     "output_type": "stream",
     "text": [
      " 81%|████████  | 2227/2762 [18:58<04:46,  1.87it/s]"
     ]
    },
    {
     "name": "stdout",
     "output_type": "stream",
     "text": [
      "AZEK: Data doesn't exist for startDate = 1451624400, endDate = 1451970000\n"
     ]
    },
    {
     "name": "stderr",
     "output_type": "stream",
     "text": [
      " 81%|████████  | 2237/2762 [19:04<04:28,  1.95it/s]"
     ]
    },
    {
     "name": "stdout",
     "output_type": "stream",
     "text": [
      "Got error from yahoo api for ticker THGA, Error: {'code': 'Not Found', 'description': 'No data found, symbol may be delisted'}\n",
      "- THGA: No timezone found, symbol may be delisted\n"
     ]
    },
    {
     "name": "stderr",
     "output_type": "stream",
     "text": [
      " 81%|████████  | 2241/2762 [19:06<03:58,  2.18it/s]"
     ]
    },
    {
     "name": "stdout",
     "output_type": "stream",
     "text": [
      "Got error from yahoo api for ticker TPRE, Error: {'code': 'Not Found', 'description': 'No data found, symbol may be delisted'}\n",
      "- TPRE: No timezone found, symbol may be delisted\n"
     ]
    },
    {
     "name": "stderr",
     "output_type": "stream",
     "text": [
      " 81%|████████▏ | 2245/2762 [19:09<04:09,  2.08it/s]"
     ]
    },
    {
     "name": "stdout",
     "output_type": "stream",
     "text": [
      "Got error from yahoo api for ticker TIF, Error: {'code': 'Not Found', 'description': 'No data found, symbol may be delisted'}\n",
      "- TIF: No timezone found, symbol may be delisted\n"
     ]
    },
    {
     "name": "stderr",
     "output_type": "stream",
     "text": [
      " 81%|████████▏ | 2247/2762 [19:09<03:30,  2.45it/s]"
     ]
    },
    {
     "name": "stdout",
     "output_type": "stream",
     "text": [
      "Got error from yahoo api for ticker TSU, Error: {'code': 'Not Found', 'description': 'No data found, symbol may be delisted'}\n",
      "- TSU: No timezone found, symbol may be delisted\n"
     ]
    },
    {
     "name": "stderr",
     "output_type": "stream",
     "text": [
      " 82%|████████▏ | 2257/2762 [19:16<04:21,  1.93it/s]"
     ]
    },
    {
     "name": "stdout",
     "output_type": "stream",
     "text": [
      "Got error from yahoo api for ticker SHLL, Error: {'code': 'Not Found', 'description': 'No data found, symbol may be delisted'}\n",
      "- SHLL: No timezone found, symbol may be delisted\n"
     ]
    },
    {
     "name": "stderr",
     "output_type": "stream",
     "text": [
      " 82%|████████▏ | 2260/2762 [19:17<04:09,  2.01it/s]"
     ]
    },
    {
     "name": "stdout",
     "output_type": "stream",
     "text": [
      "TEAF: Data doesn't exist for startDate = 1451624400, endDate = 1451970000\n"
     ]
    },
    {
     "name": "stderr",
     "output_type": "stream",
     "text": [
      " 82%|████████▏ | 2264/2762 [19:19<03:42,  2.24it/s]"
     ]
    },
    {
     "name": "stdout",
     "output_type": "stream",
     "text": [
      "Got error from yahoo api for ticker TOT, Error: {'code': 'Not Found', 'description': 'No data found, symbol may be delisted'}\n",
      "- TOT: No timezone found, symbol may be delisted\n"
     ]
    },
    {
     "name": "stderr",
     "output_type": "stream",
     "text": [
      " 82%|████████▏ | 2267/2762 [19:21<03:56,  2.10it/s]"
     ]
    },
    {
     "name": "stdout",
     "output_type": "stream",
     "text": [
      "TRTX: Data doesn't exist for startDate = 1451624400, endDate = 1451970000\n"
     ]
    },
    {
     "name": "stderr",
     "output_type": "stream",
     "text": [
      " 82%|████████▏ | 2275/2762 [19:25<03:53,  2.09it/s]"
     ]
    },
    {
     "name": "stdout",
     "output_type": "stream",
     "text": [
      "Got error from yahoo api for ticker TREC, Error: {'code': 'Not Found', 'description': 'No data found, symbol may be delisted'}\n",
      "- TREC: No timezone found, symbol may be delisted\n"
     ]
    },
    {
     "name": "stderr",
     "output_type": "stream",
     "text": [
      " 83%|████████▎ | 2281/2762 [19:29<03:47,  2.12it/s]"
     ]
    },
    {
     "name": "stdout",
     "output_type": "stream",
     "text": [
      "Got error from yahoo api for ticker TRNE, Error: {'code': 'Not Found', 'description': 'No data found, symbol may be delisted'}\n",
      "- TRNE: No timezone found, symbol may be delisted\n"
     ]
    },
    {
     "name": "stderr",
     "output_type": "stream",
     "text": [
      " 83%|████████▎ | 2287/2762 [19:32<03:08,  2.52it/s]"
     ]
    },
    {
     "name": "stdout",
     "output_type": "stream",
     "text": [
      "TPVY: Data doesn't exist for startDate = 1451624400, endDate = 1451970000\n",
      "Got error from yahoo api for ticker GTS, Error: {'code': 'Not Found', 'description': 'No data found, symbol may be delisted'}\n",
      "- GTS: No timezone found, symbol may be delisted\n"
     ]
    },
    {
     "name": "stderr",
     "output_type": "stream",
     "text": [
      " 83%|████████▎ | 2294/2762 [19:36<03:48,  2.05it/s]"
     ]
    },
    {
     "name": "stdout",
     "output_type": "stream",
     "text": [
      "Got error from yahoo api for ticker TUFN, Error: {'code': 'Not Found', 'description': 'No data found, symbol may be delisted'}\n",
      "- TUFN: No timezone found, symbol may be delisted\n"
     ]
    },
    {
     "name": "stderr",
     "output_type": "stream",
     "text": [
      " 83%|████████▎ | 2298/2762 [19:38<02:59,  2.59it/s]"
     ]
    },
    {
     "name": "stdout",
     "output_type": "stream",
     "text": [
      "TPB: Data doesn't exist for startDate = 1451624400, endDate = 1451970000\n",
      "Got error from yahoo api for ticker TRQ, Error: {'code': 'Not Found', 'description': 'No data found, symbol may be delisted'}\n",
      "- TRQ: No timezone found, symbol may be delisted\n"
     ]
    },
    {
     "name": "stderr",
     "output_type": "stream",
     "text": [
      " 83%|████████▎ | 2301/2762 [19:39<02:35,  2.97it/s]"
     ]
    },
    {
     "name": "stdout",
     "output_type": "stream",
     "text": [
      "TWLO: Data doesn't exist for startDate = 1451624400, endDate = 1451970000\n",
      "Got error from yahoo api for ticker TRWH, Error: {'code': 'Not Found', 'description': 'No data found, symbol may be delisted'}\n",
      "- TRWH: No timezone found, symbol may be delisted\n"
     ]
    },
    {
     "name": "stderr",
     "output_type": "stream",
     "text": [
      " 83%|████████▎ | 2302/2762 [19:39<02:07,  3.61it/s]"
     ]
    },
    {
     "name": "stdout",
     "output_type": "stream",
     "text": [
      "Got error from yahoo api for ticker TWTR, Error: {'code': 'Not Found', 'description': 'No data found, symbol may be delisted'}\n",
      "- TWTR: No timezone found, symbol may be delisted\n"
     ]
    },
    {
     "name": "stderr",
     "output_type": "stream",
     "text": [
      " 84%|████████▎ | 2309/2762 [19:43<03:50,  1.97it/s]"
     ]
    },
    {
     "name": "stdout",
     "output_type": "stream",
     "text": [
      "USX: Data doesn't exist for startDate = 1451624400, endDate = 1451970000\n"
     ]
    },
    {
     "name": "stderr",
     "output_type": "stream",
     "text": [
      " 84%|████████▎ | 2310/2762 [19:43<03:20,  2.26it/s]"
     ]
    },
    {
     "name": "stdout",
     "output_type": "stream",
     "text": [
      "UBER: Data doesn't exist for startDate = 1451624400, endDate = 1451970000\n"
     ]
    },
    {
     "name": "stderr",
     "output_type": "stream",
     "text": [
      " 84%|████████▍ | 2317/2762 [19:48<04:03,  1.83it/s]"
     ]
    },
    {
     "name": "stdout",
     "output_type": "stream",
     "text": [
      "UA: Data doesn't exist for startDate = 1451624400, endDate = 1451970000\n"
     ]
    },
    {
     "name": "stderr",
     "output_type": "stream",
     "text": [
      " 84%|████████▍ | 2321/2762 [19:50<03:30,  2.10it/s]"
     ]
    },
    {
     "name": "stdout",
     "output_type": "stream",
     "text": [
      "Got error from yahoo api for ticker UN, Error: {'code': 'Not Found', 'description': 'No data found, symbol may be delisted'}\n",
      "- UN: No timezone found, symbol may be delisted\n"
     ]
    },
    {
     "name": "stderr",
     "output_type": "stream",
     "text": [
      " 84%|████████▍ | 2330/2762 [19:55<03:21,  2.14it/s]"
     ]
    },
    {
     "name": "stdout",
     "output_type": "stream",
     "text": [
      "Got error from yahoo api for ticker UZA, Error: {'code': 'Not Found', 'description': 'No data found, symbol may be delisted'}\n",
      "- UZA: No timezone found, symbol may be delisted\n"
     ]
    },
    {
     "name": "stderr",
     "output_type": "stream",
     "text": [
      " 84%|████████▍ | 2332/2762 [19:56<02:52,  2.49it/s]"
     ]
    },
    {
     "name": "stdout",
     "output_type": "stream",
     "text": [
      "Got error from yahoo api for ticker UZC, Error: {'code': 'Not Found', 'description': 'No data found, symbol may be delisted'}\n",
      "- UZC: No timezone found, symbol may be delisted\n"
     ]
    },
    {
     "name": "stderr",
     "output_type": "stream",
     "text": [
      " 85%|████████▍ | 2343/2762 [20:03<03:56,  1.77it/s]"
     ]
    },
    {
     "name": "stdout",
     "output_type": "stream",
     "text": [
      "UNMA: Data doesn't exist for startDate = 1451624400, endDate = 1451970000\n"
     ]
    },
    {
     "name": "stderr",
     "output_type": "stream",
     "text": [
      " 85%|████████▍ | 2347/2762 [20:05<03:44,  1.85it/s]"
     ]
    },
    {
     "name": "stdout",
     "output_type": "stream",
     "text": [
      "USFD: Data doesn't exist for startDate = 1451624400, endDate = 1451970000\n"
     ]
    },
    {
     "name": "stderr",
     "output_type": "stream",
     "text": [
      " 85%|████████▌ | 2351/2762 [20:07<03:07,  2.19it/s]"
     ]
    },
    {
     "name": "stdout",
     "output_type": "stream",
     "text": [
      "Got error from yahoo api for ticker BIF, Error: {'code': 'Not Found', 'description': 'No data found, symbol may be delisted'}\n",
      "- BIF: No timezone found, symbol may be delisted\n"
     ]
    },
    {
     "name": "stderr",
     "output_type": "stream",
     "text": [
      " 85%|████████▌ | 2355/2762 [20:10<03:21,  2.02it/s]"
     ]
    },
    {
     "name": "stdout",
     "output_type": "stream",
     "text": [
      "VAL: Data doesn't exist for startDate = 1451624400, endDate = 1451970000\n"
     ]
    },
    {
     "name": "stderr",
     "output_type": "stream",
     "text": [
      " 85%|████████▌ | 2360/2762 [20:13<03:48,  1.76it/s]"
     ]
    },
    {
     "name": "stdout",
     "output_type": "stream",
     "text": [
      "VVV: Data doesn't exist for startDate = 1451624400, endDate = 1451970000\n"
     ]
    },
    {
     "name": "stderr",
     "output_type": "stream",
     "text": [
      " 86%|████████▌ | 2362/2762 [20:13<02:31,  2.63it/s]"
     ]
    },
    {
     "name": "stdout",
     "output_type": "stream",
     "text": [
      "VAPO: Data doesn't exist for startDate = 1451624400, endDate = 1451970000\n",
      "Got error from yahoo api for ticker VAR, Error: {'code': 'Not Found', 'description': 'No data found, symbol may be delisted'}\n",
      "- VAR: No timezone found, symbol may be delisted\n"
     ]
    },
    {
     "name": "stderr",
     "output_type": "stream",
     "text": [
      " 86%|████████▌ | 2365/2762 [20:14<02:02,  3.23it/s]"
     ]
    },
    {
     "name": "stdout",
     "output_type": "stream",
     "text": [
      "Got error from yahoo api for ticker VEC, Error: {'code': 'Not Found', 'description': 'No data found, symbol may be delisted'}\n",
      "- VEC: No timezone found, symbol may be delisted\n",
      "Got error from yahoo api for ticker VEDL, Error: {'code': 'Not Found', 'description': 'No data found, symbol may be delisted'}\n",
      "- VEDL: No timezone found, symbol may be delisted\n"
     ]
    },
    {
     "name": "stderr",
     "output_type": "stream",
     "text": [
      " 86%|████████▌ | 2367/2762 [20:15<02:23,  2.76it/s]"
     ]
    },
    {
     "name": "stdout",
     "output_type": "stream",
     "text": [
      "VEL: Data doesn't exist for startDate = 1451624400, endDate = 1451970000\n"
     ]
    },
    {
     "name": "stderr",
     "output_type": "stream",
     "text": [
      " 86%|████████▌ | 2368/2762 [20:15<02:14,  2.94it/s]"
     ]
    },
    {
     "name": "stdout",
     "output_type": "stream",
     "text": [
      "VNTR: Data doesn't exist for startDate = 1451624400, endDate = 1451970000\n"
     ]
    },
    {
     "name": "stderr",
     "output_type": "stream",
     "text": [
      " 86%|████████▌ | 2371/2762 [20:17<02:11,  2.96it/s]"
     ]
    },
    {
     "name": "stdout",
     "output_type": "stream",
     "text": [
      "Got error from yahoo api for ticker VNE, Error: {'code': 'Not Found', 'description': 'No data found, symbol may be delisted'}\n",
      "- VNE: No timezone found, symbol may be delisted\n",
      "Got error from yahoo api for ticker VER, Error: {'code': 'Not Found', 'description': 'No data found, symbol may be delisted'}\n",
      "- VER: No timezone found, symbol may be delisted\n"
     ]
    },
    {
     "name": "stderr",
     "output_type": "stream",
     "text": [
      " 86%|████████▌ | 2375/2762 [20:19<02:48,  2.29it/s]"
     ]
    },
    {
     "name": "stdout",
     "output_type": "stream",
     "text": [
      "Got error from yahoo api for ticker VRS, Error: {'code': 'Not Found', 'description': 'No data found, symbol may be delisted'}\n",
      "- VRS: No timezone found, symbol may be delisted\n"
     ]
    },
    {
     "name": "stderr",
     "output_type": "stream",
     "text": [
      " 86%|████████▌ | 2376/2762 [20:19<02:30,  2.57it/s]"
     ]
    },
    {
     "name": "stdout",
     "output_type": "stream",
     "text": [
      "VCIF: Data doesn't exist for startDate = 1451624400, endDate = 1451970000\n"
     ]
    },
    {
     "name": "stderr",
     "output_type": "stream",
     "text": [
      " 86%|████████▌ | 2377/2762 [20:19<02:16,  2.82it/s]"
     ]
    },
    {
     "name": "stdout",
     "output_type": "stream",
     "text": [
      "VRT: Data doesn't exist for startDate = 1451624400, endDate = 1451970000\n"
     ]
    },
    {
     "name": "stderr",
     "output_type": "stream",
     "text": [
      " 86%|████████▌ | 2379/2762 [20:20<02:39,  2.41it/s]"
     ]
    },
    {
     "name": "stdout",
     "output_type": "stream",
     "text": [
      "VICI: Data doesn't exist for startDate = 1451624400, endDate = 1451970000\n"
     ]
    },
    {
     "name": "stderr",
     "output_type": "stream",
     "text": [
      " 86%|████████▌ | 2382/2762 [20:22<02:47,  2.26it/s]"
     ]
    },
    {
     "name": "stdout",
     "output_type": "stream",
     "text": [
      "SPCE: Data doesn't exist for startDate = 1451624400, endDate = 1451970000\n"
     ]
    },
    {
     "name": "stderr",
     "output_type": "stream",
     "text": [
      " 86%|████████▋ | 2389/2762 [20:26<03:23,  1.83it/s]"
     ]
    },
    {
     "name": "stdout",
     "output_type": "stream",
     "text": [
      "VIST: Data doesn't exist for startDate = 1451624400, endDate = 1451970000\n"
     ]
    },
    {
     "name": "stderr",
     "output_type": "stream",
     "text": [
      " 87%|████████▋ | 2392/2762 [20:27<02:23,  2.59it/s]"
     ]
    },
    {
     "name": "stdout",
     "output_type": "stream",
     "text": [
      "VST: Data doesn't exist for startDate = 1451624400, endDate = 1451970000\n",
      "Got error from yahoo api for ticker VVNT, Error: {'code': 'Not Found', 'description': 'No data found, symbol may be delisted'}\n",
      "- VVNT: No timezone found, symbol may be delisted\n"
     ]
    },
    {
     "name": "stderr",
     "output_type": "stream",
     "text": [
      " 87%|████████▋ | 2393/2762 [20:28<01:56,  3.18it/s]"
     ]
    },
    {
     "name": "stdout",
     "output_type": "stream",
     "text": [
      "Got error from yahoo api for ticker VSLR, Error: {'code': 'Not Found', 'description': 'No data found, symbol may be delisted'}\n",
      "- VSLR: No timezone found, symbol may be delisted\n"
     ]
    },
    {
     "name": "stderr",
     "output_type": "stream",
     "text": [
      " 87%|████████▋ | 2396/2762 [20:29<02:14,  2.73it/s]"
     ]
    },
    {
     "name": "stdout",
     "output_type": "stream",
     "text": [
      "Got error from yahoo api for ticker VCRA, Error: {'code': 'Not Found', 'description': 'No data found, symbol may be delisted'}\n",
      "- VCRA: No timezone found, symbol may be delisted\n"
     ]
    },
    {
     "name": "stderr",
     "output_type": "stream",
     "text": [
      " 87%|████████▋ | 2406/2762 [20:34<02:15,  2.62it/s]"
     ]
    },
    {
     "name": "stdout",
     "output_type": "stream",
     "text": [
      "Got error from yahoo api for ticker IID, Error: {'code': 'Not Found', 'description': 'No data found, symbol may be delisted'}\n",
      "- IID: No timezone found, symbol may be delisted\n",
      "Got error from yahoo api for ticker IRR, Error: {'code': 'Not Found', 'description': 'No data found, symbol may be delisted'}\n",
      "- IRR: No timezone found, symbol may be delisted\n"
     ]
    },
    {
     "name": "stderr",
     "output_type": "stream",
     "text": [
      " 87%|████████▋ | 2407/2762 [20:34<01:50,  3.22it/s]"
     ]
    },
    {
     "name": "stdout",
     "output_type": "stream",
     "text": [
      "Got error from yahoo api for ticker PPR, Error: {'code': 'Not Found', 'description': 'No data found, symbol may be delisted'}\n",
      "- PPR: No timezone found, symbol may be delisted\n"
     ]
    },
    {
     "name": "stderr",
     "output_type": "stream",
     "text": [
      " 87%|████████▋ | 2412/2762 [20:38<03:00,  1.94it/s]"
     ]
    },
    {
     "name": "stdout",
     "output_type": "stream",
     "text": [
      "Got error from yahoo api for ticker GRA, Error: {'code': 'Not Found', 'description': 'No data found, symbol may be delisted'}\n",
      "- GRA: No timezone found, symbol may be delisted\n"
     ]
    },
    {
     "name": "stderr",
     "output_type": "stream",
     "text": [
      " 87%|████████▋ | 2415/2762 [20:39<02:46,  2.09it/s]"
     ]
    },
    {
     "name": "stdout",
     "output_type": "stream",
     "text": [
      "Got error from yahoo api for ticker WDR, Error: {'code': 'Not Found', 'description': 'No data found, symbol may be delisted'}\n",
      "- WDR: No timezone found, symbol may be delisted\n"
     ]
    },
    {
     "name": "stderr",
     "output_type": "stream",
     "text": [
      " 88%|████████▊ | 2420/2762 [20:42<02:26,  2.33it/s]"
     ]
    },
    {
     "name": "stdout",
     "output_type": "stream",
     "text": [
      "HCC: Data doesn't exist for startDate = 1451624400, endDate = 1451970000\n",
      "Got error from yahoo api for ticker WPG, Error: {'code': 'Not Found', 'description': 'No data found, symbol may be delisted'}\n",
      "- WPG: No timezone found, symbol may be delisted\n"
     ]
    },
    {
     "name": "stderr",
     "output_type": "stream",
     "text": [
      " 88%|████████▊ | 2421/2762 [20:42<01:57,  2.91it/s]"
     ]
    },
    {
     "name": "stdout",
     "output_type": "stream",
     "text": [
      "Got error from yahoo api for ticker WRE, Error: {'code': 'Not Found', 'description': 'No data found, symbol may be delisted'}\n",
      "- WRE: No timezone found, symbol may be delisted\n"
     ]
    },
    {
     "name": "stderr",
     "output_type": "stream",
     "text": [
      " 88%|████████▊ | 2431/2762 [20:48<02:13,  2.48it/s]"
     ]
    },
    {
     "name": "stdout",
     "output_type": "stream",
     "text": [
      "Got error from yahoo api for ticker WEI, Error: {'code': 'Not Found', 'description': 'No data found, symbol may be delisted'}\n",
      "- WEI: No timezone found, symbol may be delisted\n",
      "Got error from yahoo api for ticker WRI, Error: {'code': 'Not Found', 'description': 'No data found, symbol may be delisted'}\n",
      "- WRI: No timezone found, symbol may be delisted\n"
     ]
    },
    {
     "name": "stderr",
     "output_type": "stream",
     "text": [
      " 88%|████████▊ | 2433/2762 [20:49<02:12,  2.49it/s]"
     ]
    },
    {
     "name": "stdout",
     "output_type": "stream",
     "text": [
      "Got error from yahoo api for ticker WBT, Error: {'code': 'Not Found', 'description': 'No data found, symbol may be delisted'}\n",
      "- WBT: No timezone found, symbol may be delisted\n"
     ]
    },
    {
     "name": "stderr",
     "output_type": "stream",
     "text": [
      " 88%|████████▊ | 2440/2762 [20:53<02:52,  1.87it/s]"
     ]
    },
    {
     "name": "stdout",
     "output_type": "stream",
     "text": [
      "WALA: Data doesn't exist for startDate = 1451624400, endDate = 1451970000\n"
     ]
    },
    {
     "name": "stderr",
     "output_type": "stream",
     "text": [
      " 88%|████████▊ | 2442/2762 [20:54<02:22,  2.25it/s]"
     ]
    },
    {
     "name": "stdout",
     "output_type": "stream",
     "text": [
      "Got error from yahoo api for ticker TLI, Error: {'code': 'Not Found', 'description': 'No data found, symbol may be delisted'}\n",
      "- TLI: No timezone found, symbol may be delisted\n"
     ]
    },
    {
     "name": "stderr",
     "output_type": "stream",
     "text": [
      " 89%|████████▉ | 2455/2762 [21:02<02:35,  1.98it/s]"
     ]
    },
    {
     "name": "stdout",
     "output_type": "stream",
     "text": [
      "Got error from yahoo api for ticker MTT, Error: {'code': 'Not Found', 'description': 'No data found, symbol may be delisted'}\n",
      "- MTT: No timezone found, symbol may be delisted\n"
     ]
    },
    {
     "name": "stderr",
     "output_type": "stream",
     "text": [
      " 89%|████████▉ | 2458/2762 [21:04<02:24,  2.10it/s]"
     ]
    },
    {
     "name": "stdout",
     "output_type": "stream",
     "text": [
      "Got error from yahoo api for ticker GFY, Error: {'code': 'Not Found', 'description': 'No data found, symbol may be delisted'}\n",
      "- GFY: No timezone found, symbol may be delisted\n"
     ]
    },
    {
     "name": "stderr",
     "output_type": "stream",
     "text": [
      " 89%|████████▉ | 2466/2762 [21:08<02:22,  2.07it/s]"
     ]
    },
    {
     "name": "stdout",
     "output_type": "stream",
     "text": [
      "Got error from yahoo api for ticker WBK, Error: {'code': 'Not Found', 'description': 'No data found, symbol may be delisted'}\n",
      "- WBK: No timezone found, symbol may be delisted\n"
     ]
    },
    {
     "name": "stderr",
     "output_type": "stream",
     "text": [
      " 90%|████████▉ | 2475/2762 [21:14<02:24,  1.99it/s]"
     ]
    },
    {
     "name": "stdout",
     "output_type": "stream",
     "text": [
      "Got error from yahoo api for ticker WLL, Error: {'code': 'Not Found', 'description': 'No data found, symbol may be delisted'}\n",
      "- WLL: No timezone found, symbol may be delisted\n"
     ]
    },
    {
     "name": "stderr",
     "output_type": "stream",
     "text": [
      " 90%|████████▉ | 2476/2762 [21:14<02:05,  2.27it/s]"
     ]
    },
    {
     "name": "stdout",
     "output_type": "stream",
     "text": [
      "WOW: Data doesn't exist for startDate = 1451624400, endDate = 1451970000\n"
     ]
    },
    {
     "name": "stderr",
     "output_type": "stream",
     "text": [
      " 90%|█████████ | 2490/2762 [21:22<01:51,  2.43it/s]"
     ]
    },
    {
     "name": "stdout",
     "output_type": "stream",
     "text": [
      "Got error from yahoo api for ticker WPX, Error: {'code': 'Not Found', 'description': 'No data found, symbol may be delisted'}\n",
      "- WPX: No timezone found, symbol may be delisted\n",
      "Got error from yahoo api for ticker WYND, Error: {'code': 'Not Found', 'description': 'No data found, symbol may be delisted'}\n",
      "- WYND: No timezone found, symbol may be delisted\n"
     ]
    },
    {
     "name": "stderr",
     "output_type": "stream",
     "text": [
      " 90%|█████████ | 2491/2762 [21:23<01:41,  2.66it/s]"
     ]
    },
    {
     "name": "stdout",
     "output_type": "stream",
     "text": [
      "WH: Data doesn't exist for startDate = 1451624400, endDate = 1451970000\n"
     ]
    },
    {
     "name": "stderr",
     "output_type": "stream",
     "text": [
      " 90%|█████████ | 2492/2762 [21:23<01:34,  2.85it/s]"
     ]
    },
    {
     "name": "stdout",
     "output_type": "stream",
     "text": [
      "XYF: Data doesn't exist for startDate = 1451624400, endDate = 1451970000\n"
     ]
    },
    {
     "name": "stderr",
     "output_type": "stream",
     "text": [
      " 90%|█████████ | 2493/2762 [21:23<01:28,  3.03it/s]"
     ]
    },
    {
     "name": "stdout",
     "output_type": "stream",
     "text": [
      "XFLT: Data doesn't exist for startDate = 1451624400, endDate = 1451970000\n"
     ]
    },
    {
     "name": "stderr",
     "output_type": "stream",
     "text": [
      " 91%|█████████ | 2501/2762 [21:28<02:10,  1.99it/s]"
     ]
    },
    {
     "name": "stdout",
     "output_type": "stream",
     "text": [
      "YETI: Data doesn't exist for startDate = 1451624400, endDate = 1451970000\n"
     ]
    },
    {
     "name": "stderr",
     "output_type": "stream",
     "text": [
      " 91%|█████████ | 2502/2762 [21:28<01:53,  2.28it/s]"
     ]
    },
    {
     "name": "stdout",
     "output_type": "stream",
     "text": [
      "YEXT: Data doesn't exist for startDate = 1451624400, endDate = 1451970000\n"
     ]
    },
    {
     "name": "stderr",
     "output_type": "stream",
     "text": [
      " 91%|█████████ | 2504/2762 [21:29<01:52,  2.30it/s]"
     ]
    },
    {
     "name": "stdout",
     "output_type": "stream",
     "text": [
      "DAO: Data doesn't exist for startDate = 1451624400, endDate = 1451970000\n"
     ]
    },
    {
     "name": "stderr",
     "output_type": "stream",
     "text": [
      " 91%|█████████ | 2506/2762 [21:30<01:52,  2.28it/s]"
     ]
    },
    {
     "name": "stdout",
     "output_type": "stream",
     "text": [
      "YUMC: Data doesn't exist for startDate = 1451624400, endDate = 1451970000\n"
     ]
    },
    {
     "name": "stderr",
     "output_type": "stream",
     "text": [
      " 91%|█████████ | 2508/2762 [21:31<01:41,  2.51it/s]"
     ]
    },
    {
     "name": "stdout",
     "output_type": "stream",
     "text": [
      "Got error from yahoo api for ticker ZEN, Error: {'code': 'Not Found', 'description': 'No data found, symbol may be delisted'}\n",
      "- ZEN: No timezone found, symbol may be delisted\n"
     ]
    },
    {
     "name": "stderr",
     "output_type": "stream",
     "text": [
      " 91%|█████████ | 2511/2762 [21:32<01:55,  2.18it/s]"
     ]
    },
    {
     "name": "stdout",
     "output_type": "stream",
     "text": [
      "ZTO: Data doesn't exist for startDate = 1451624400, endDate = 1451970000\n"
     ]
    },
    {
     "name": "stderr",
     "output_type": "stream",
     "text": [
      " 91%|█████████ | 2512/2762 [21:33<01:42,  2.44it/s]"
     ]
    },
    {
     "name": "stdout",
     "output_type": "stream",
     "text": [
      "ZUO: Data doesn't exist for startDate = 1451624400, endDate = 1451970000\n"
     ]
    },
    {
     "name": "stderr",
     "output_type": "stream",
     "text": [
      " 91%|█████████ | 2514/2762 [21:33<01:15,  3.30it/s]"
     ]
    },
    {
     "name": "stdout",
     "output_type": "stream",
     "text": [
      "ZYME: Data doesn't exist for startDate = 1451624400, endDate = 1451970000\n",
      "Got error from yahoo api for ticker GOED, Error: {'code': 'Not Found', 'description': 'No data found, symbol may be delisted'}\n",
      "- GOED: No timezone found, symbol may be delisted\n"
     ]
    },
    {
     "name": "stderr",
     "output_type": "stream",
     "text": [
      " 91%|█████████▏| 2523/2762 [21:39<01:59,  2.01it/s]"
     ]
    },
    {
     "name": "stdout",
     "output_type": "stream",
     "text": [
      "Got error from yahoo api for ticker ACY, Error: {'code': 'Not Found', 'description': 'No data found, symbol may be delisted'}\n",
      "- ACY: No timezone found, symbol may be delisted\n"
     ]
    },
    {
     "name": "stderr",
     "output_type": "stream",
     "text": [
      " 91%|█████████▏| 2525/2762 [21:40<01:46,  2.23it/s]"
     ]
    },
    {
     "name": "stdout",
     "output_type": "stream",
     "text": [
      "AGE: Data doesn't exist for startDate = 1451624400, endDate = 1451970000\n"
     ]
    },
    {
     "name": "stderr",
     "output_type": "stream",
     "text": [
      " 91%|█████████▏| 2527/2762 [21:40<01:31,  2.57it/s]"
     ]
    },
    {
     "name": "stdout",
     "output_type": "stream",
     "text": [
      "Got error from yahoo api for ticker AXU, Error: {'code': 'Not Found', 'description': 'No data found, symbol may be delisted'}\n",
      "- AXU: No timezone found, symbol may be delisted\n"
     ]
    },
    {
     "name": "stderr",
     "output_type": "stream",
     "text": [
      " 92%|█████████▏| 2530/2762 [21:42<01:40,  2.30it/s]"
     ]
    },
    {
     "name": "stdout",
     "output_type": "stream",
     "text": [
      "AAMC: Data doesn't exist for startDate = 1451624400, endDate = 1451970000\n"
     ]
    },
    {
     "name": "stderr",
     "output_type": "stream",
     "text": [
      " 92%|█████████▏| 2531/2762 [21:42<01:30,  2.55it/s]"
     ]
    },
    {
     "name": "stdout",
     "output_type": "stream",
     "text": [
      "AMBO: Data doesn't exist for startDate = 1451624400, endDate = 1451970000\n"
     ]
    },
    {
     "name": "stderr",
     "output_type": "stream",
     "text": [
      " 92%|█████████▏| 2536/2762 [21:45<01:49,  2.07it/s]"
     ]
    },
    {
     "name": "stdout",
     "output_type": "stream",
     "text": [
      "ANVS: Data doesn't exist for startDate = 1451624400, endDate = 1451970000\n"
     ]
    },
    {
     "name": "stderr",
     "output_type": "stream",
     "text": [
      " 92%|█████████▏| 2539/2762 [21:46<01:34,  2.36it/s]"
     ]
    },
    {
     "name": "stdout",
     "output_type": "stream",
     "text": [
      "Got error from yahoo api for ticker AUG, Error: {'code': 'Not Found', 'description': 'No data found, symbol may be delisted'}\n",
      "- AUG: No timezone found, symbol may be delisted\n"
     ]
    },
    {
     "name": "stderr",
     "output_type": "stream",
     "text": [
      " 92%|█████████▏| 2543/2762 [21:48<01:31,  2.41it/s]"
     ]
    },
    {
     "name": "stdout",
     "output_type": "stream",
     "text": [
      "Got error from yahoo api for ticker BTN, Error: {'code': 'Not Found', 'description': 'No data found, symbol may be delisted'}\n",
      "- BTN: No timezone found, symbol may be delisted\n"
     ]
    },
    {
     "name": "stderr",
     "output_type": "stream",
     "text": [
      " 92%|█████████▏| 2547/2762 [21:50<01:45,  2.03it/s]"
     ]
    },
    {
     "name": "stdout",
     "output_type": "stream",
     "text": [
      "BATL: Data doesn't exist for startDate = 1451624400, endDate = 1451970000\n"
     ]
    },
    {
     "name": "stderr",
     "output_type": "stream",
     "text": [
      " 92%|█████████▏| 2548/2762 [21:51<01:32,  2.31it/s]"
     ]
    },
    {
     "name": "stdout",
     "output_type": "stream",
     "text": [
      "BIOX: Data doesn't exist for startDate = 1451624400, endDate = 1451970000\n"
     ]
    },
    {
     "name": "stderr",
     "output_type": "stream",
     "text": [
      " 92%|█████████▏| 2549/2762 [21:51<01:22,  2.60it/s]"
     ]
    },
    {
     "name": "stdout",
     "output_type": "stream",
     "text": [
      "PHGE: Data doesn't exist for startDate = 1451624400, endDate = 1451970000\n"
     ]
    },
    {
     "name": "stderr",
     "output_type": "stream",
     "text": [
      " 92%|█████████▏| 2552/2762 [21:52<01:23,  2.51it/s]"
     ]
    },
    {
     "name": "stdout",
     "output_type": "stream",
     "text": [
      "Got error from yahoo api for ticker BDR, Error: {'code': 'Not Found', 'description': 'No data found, symbol may be delisted'}\n",
      "- BDR: No timezone found, symbol may be delisted\n"
     ]
    },
    {
     "name": "stderr",
     "output_type": "stream",
     "text": [
      " 92%|█████████▏| 2554/2762 [21:53<01:18,  2.65it/s]"
     ]
    },
    {
     "name": "stdout",
     "output_type": "stream",
     "text": [
      "Got error from yahoo api for ticker BRG, Error: {'code': 'Not Found', 'description': 'No data found, symbol may be delisted'}\n",
      "- BRG: No timezone found, symbol may be delisted\n"
     ]
    },
    {
     "name": "stderr",
     "output_type": "stream",
     "text": [
      " 93%|█████████▎| 2559/2762 [21:56<01:41,  1.99it/s]"
     ]
    },
    {
     "name": "stdout",
     "output_type": "stream",
     "text": [
      "YCBD: Data doesn't exist for startDate = 1451624400, endDate = 1451970000\n"
     ]
    },
    {
     "name": "stderr",
     "output_type": "stream",
     "text": [
      " 93%|█████████▎| 2563/2762 [21:58<01:37,  2.05it/s]"
     ]
    },
    {
     "name": "stdout",
     "output_type": "stream",
     "text": [
      "Got error from yahoo api for ticker CHAQ, Error: {'code': 'Not Found', 'description': 'No data found, symbol may be delisted'}\n",
      "- CHAQ: No timezone found, symbol may be delisted\n"
     ]
    },
    {
     "name": "stderr",
     "output_type": "stream",
     "text": [
      " 93%|█████████▎| 2577/2762 [22:06<01:11,  2.60it/s]"
     ]
    },
    {
     "name": "stdout",
     "output_type": "stream",
     "text": [
      "Got error from yahoo api for ticker CDOR, Error: {'code': 'Not Found', 'description': 'No data found, symbol may be delisted'}\n",
      "- CDOR: No timezone found, symbol may be delisted\n",
      "Got error from yahoo api for ticker MCF, Error: {'code': 'Not Found', 'description': 'No data found, symbol may be delisted'}\n",
      "- MCF: No timezone found, symbol may be delisted\n"
     ]
    },
    {
     "name": "stderr",
     "output_type": "stream",
     "text": [
      " 94%|█████████▎| 2585/2762 [22:11<01:28,  1.99it/s]"
     ]
    },
    {
     "name": "stdout",
     "output_type": "stream",
     "text": [
      "Got error from yahoo api for ticker CRHM, Error: {'code': 'Not Found', 'description': 'No data found, symbol may be delisted'}\n",
      "- CRHM: No timezone found, symbol may be delisted\n"
     ]
    },
    {
     "name": "stderr",
     "output_type": "stream",
     "text": [
      " 94%|█████████▎| 2587/2762 [22:12<01:16,  2.28it/s]"
     ]
    },
    {
     "name": "stdout",
     "output_type": "stream",
     "text": [
      "Got error from yahoo api for ticker CTEK, Error: {'code': 'Not Found', 'description': 'No data found, symbol may be delisted'}\n",
      "- CTEK: No timezone found, symbol may be delisted\n"
     ]
    },
    {
     "name": "stderr",
     "output_type": "stream",
     "text": [
      " 94%|█████████▎| 2589/2762 [22:13<01:07,  2.55it/s]"
     ]
    },
    {
     "name": "stdout",
     "output_type": "stream",
     "text": [
      "Got error from yahoo api for ticker VCF, Error: {'code': 'Not Found', 'description': 'No data found, symbol may be delisted'}\n",
      "- VCF: No timezone found, symbol may be delisted\n"
     ]
    },
    {
     "name": "stderr",
     "output_type": "stream",
     "text": [
      " 94%|█████████▍| 2591/2762 [22:14<01:06,  2.57it/s]"
     ]
    },
    {
     "name": "stdout",
     "output_type": "stream",
     "text": [
      "Got error from yahoo api for ticker VMM, Error: {'code': 'Not Found', 'description': 'No data found, symbol may be delisted'}\n",
      "- VMM: No timezone found, symbol may be delisted\n"
     ]
    },
    {
     "name": "stderr",
     "output_type": "stream",
     "text": [
      " 94%|█████████▍| 2595/2762 [22:16<01:07,  2.46it/s]"
     ]
    },
    {
     "name": "stdout",
     "output_type": "stream",
     "text": [
      "Got error from yahoo api for ticker DPW, Error: {'code': 'Not Found', 'description': 'No data found, symbol may be delisted'}\n",
      "- DPW: No timezone found, symbol may be delisted\n"
     ]
    },
    {
     "name": "stderr",
     "output_type": "stream",
     "text": [
      " 95%|█████████▍| 2613/2762 [22:27<01:16,  1.94it/s]"
     ]
    },
    {
     "name": "stdout",
     "output_type": "stream",
     "text": [
      "EQX: Data doesn't exist for startDate = 1451624400, endDate = 1451970000\n"
     ]
    },
    {
     "name": "stderr",
     "output_type": "stream",
     "text": [
      " 95%|█████████▌| 2624/2762 [22:34<01:10,  1.97it/s]"
     ]
    },
    {
     "name": "stdout",
     "output_type": "stream",
     "text": [
      "Got error from yahoo api for ticker FTSI, Error: {'code': 'Not Found', 'description': 'No data found, symbol may be delisted'}\n",
      "- FTSI: No timezone found, symbol may be delisted\n"
     ]
    },
    {
     "name": "stderr",
     "output_type": "stream",
     "text": [
      " 95%|█████████▌| 2629/2762 [22:36<00:48,  2.74it/s]"
     ]
    },
    {
     "name": "stdout",
     "output_type": "stream",
     "text": [
      "Got error from yahoo api for ticker GMO, Error: {'code': 'Not Found', 'description': 'No data found, symbol may be delisted'}\n",
      "- GMO: No timezone found, symbol may be delisted\n",
      "Got error from yahoo api for ticker GSB, Error: {'code': 'Not Found', 'description': 'No data found, symbol may be delisted'}\n",
      "- GSB: No timezone found, symbol may be delisted\n"
     ]
    },
    {
     "name": "stderr",
     "output_type": "stream",
     "text": [
      " 95%|█████████▌| 2636/2762 [22:39<00:44,  2.84it/s]"
     ]
    },
    {
     "name": "stdout",
     "output_type": "stream",
     "text": [
      "Got error from yahoo api for ticker GV, Error: {'code': 'Not Found', 'description': 'No data found, symbol may be delisted'}\n",
      "- GV: No timezone found, symbol may be delisted\n",
      "Got error from yahoo api for ticker GDP, Error: {'code': 'Not Found', 'description': 'No data found, symbol may be delisted'}\n",
      "- GDP: No timezone found, symbol may be delisted\n"
     ]
    },
    {
     "name": "stderr",
     "output_type": "stream",
     "text": [
      " 96%|█████████▌| 2638/2762 [22:40<00:42,  2.91it/s]"
     ]
    },
    {
     "name": "stdout",
     "output_type": "stream",
     "text": [
      "Got error from yahoo api for ticker GPL, Error: {'code': 'Not Found', 'description': 'No data found, symbol may be delisted'}\n",
      "- GPL: No timezone found, symbol may be delisted\n"
     ]
    },
    {
     "name": "stderr",
     "output_type": "stream",
     "text": [
      " 96%|█████████▌| 2641/2762 [23:11<13:13,  6.56s/it]"
     ]
    },
    {
     "name": "stdout",
     "output_type": "stream",
     "text": [
      "Got error from yahoo api for ticker HMG, Error: {'code': 'Not Found', 'description': 'No data found, symbol may be delisted'}\n",
      "- HMG: No timezone found, symbol may be delisted\n"
     ]
    },
    {
     "name": "stderr",
     "output_type": "stream",
     "text": [
      " 96%|█████████▌| 2644/2762 [23:12<05:02,  2.57s/it]"
     ]
    },
    {
     "name": "stdout",
     "output_type": "stream",
     "text": [
      "IBO: Period '1mo' is invalid, must be one of ['1d', '5d']\n"
     ]
    },
    {
     "name": "stderr",
     "output_type": "stream",
     "text": [
      " 96%|█████████▌| 2649/2762 [23:15<01:38,  1.15it/s]"
     ]
    },
    {
     "name": "stdout",
     "output_type": "stream",
     "text": [
      "INDO: Data doesn't exist for startDate = 1451624400, endDate = 1451970000\n"
     ]
    },
    {
     "name": "stderr",
     "output_type": "stream",
     "text": [
      " 96%|█████████▌| 2654/2762 [23:17<00:48,  2.23it/s]"
     ]
    },
    {
     "name": "stdout",
     "output_type": "stream",
     "text": [
      "ITRG: Data doesn't exist for startDate = 1451624400, endDate = 1451970000\n",
      "Got error from yahoo api for ticker INS, Error: {'code': 'Not Found', 'description': 'No data found, symbol may be delisted'}\n",
      "- INS: No timezone found, symbol may be delisted\n"
     ]
    },
    {
     "name": "stderr",
     "output_type": "stream",
     "text": [
      " 96%|█████████▋| 2659/2762 [23:20<00:47,  2.15it/s]"
     ]
    },
    {
     "name": "stdout",
     "output_type": "stream",
     "text": [
      "Got error from yahoo api for ticker ISR, Error: {'code': 'Not Found', 'description': 'No data found, symbol may be delisted'}\n",
      "- ISR: No timezone found, symbol may be delisted\n"
     ]
    },
    {
     "name": "stderr",
     "output_type": "stream",
     "text": [
      " 96%|█████████▋| 2662/2762 [23:22<00:46,  2.15it/s]"
     ]
    },
    {
     "name": "stdout",
     "output_type": "stream",
     "text": [
      "KLR: Data doesn't exist for startDate = 1451624400, endDate = 1451970000\n"
     ]
    },
    {
     "name": "stderr",
     "output_type": "stream",
     "text": [
      " 97%|█████████▋| 2669/2762 [23:25<00:42,  2.18it/s]"
     ]
    },
    {
     "name": "stdout",
     "output_type": "stream",
     "text": [
      "Got error from yahoo api for ticker MMX, Error: {'code': 'Not Found', 'description': 'No data found, symbol may be delisted'}\n",
      "- MMX: No timezone found, symbol may be delisted\n"
     ]
    },
    {
     "name": "stderr",
     "output_type": "stream",
     "text": [
      " 97%|█████████▋| 2674/2762 [23:28<00:43,  2.03it/s]"
     ]
    },
    {
     "name": "stdout",
     "output_type": "stream",
     "text": [
      "MYO: Data doesn't exist for startDate = 1451624400, endDate = 1451970000\n"
     ]
    },
    {
     "name": "stderr",
     "output_type": "stream",
     "text": [
      " 97%|█████████▋| 2676/2762 [23:29<00:38,  2.25it/s]"
     ]
    },
    {
     "name": "stdout",
     "output_type": "stream",
     "text": [
      "ATEST: Period '1mo' is invalid, must be one of ['1d', '5d']\n"
     ]
    },
    {
     "name": "stderr",
     "output_type": "stream",
     "text": [
      " 98%|█████████▊| 2695/2762 [23:40<00:25,  2.61it/s]"
     ]
    },
    {
     "name": "stdout",
     "output_type": "stream",
     "text": [
      "Got error from yahoo api for ticker NTN, Error: {'code': 'Not Found', 'description': 'No data found, symbol may be delisted'}\n",
      "- NTN: No timezone found, symbol may be delisted\n",
      "Got error from yahoo api for ticker NES, Error: {'code': 'Not Found', 'description': 'No data found, symbol may be delisted'}\n",
      "- NES: No timezone found, symbol may be delisted\n"
     ]
    },
    {
     "name": "stderr",
     "output_type": "stream",
     "text": [
      " 98%|█████████▊| 2703/2762 [23:45<00:27,  2.18it/s]"
     ]
    },
    {
     "name": "stdout",
     "output_type": "stream",
     "text": [
      "Got error from yahoo api for ticker PFNX, Error: {'code': 'Not Found', 'description': 'No data found, symbol may be delisted'}\n",
      "- PFNX: No timezone found, symbol may be delisted\n"
     ]
    },
    {
     "name": "stderr",
     "output_type": "stream",
     "text": [
      " 98%|█████████▊| 2712/2762 [23:50<00:25,  1.97it/s]"
     ]
    },
    {
     "name": "stdout",
     "output_type": "stream",
     "text": [
      "RHE: Data doesn't exist for startDate = 1451624400, endDate = 1451970000\n"
     ]
    },
    {
     "name": "stderr",
     "output_type": "stream",
     "text": [
      " 98%|█████████▊| 2716/2762 [23:52<00:23,  1.96it/s]"
     ]
    },
    {
     "name": "stdout",
     "output_type": "stream",
     "text": [
      "SACC: Data doesn't exist for startDate = 1451624400, endDate = 1451970000\n"
     ]
    },
    {
     "name": "stderr",
     "output_type": "stream",
     "text": [
      " 98%|█████████▊| 2717/2762 [23:52<00:20,  2.21it/s]"
     ]
    },
    {
     "name": "stdout",
     "output_type": "stream",
     "text": [
      "SACH: Data doesn't exist for startDate = 1451624400, endDate = 1451970000\n"
     ]
    },
    {
     "name": "stderr",
     "output_type": "stream",
     "text": [
      " 98%|█████████▊| 2718/2762 [23:53<00:17,  2.47it/s]"
     ]
    },
    {
     "name": "stdout",
     "output_type": "stream",
     "text": [
      "SCCB: Data doesn't exist for startDate = 1451624400, endDate = 1451970000\n"
     ]
    },
    {
     "name": "stderr",
     "output_type": "stream",
     "text": [
      " 99%|█████████▊| 2723/2762 [23:56<00:18,  2.10it/s]"
     ]
    },
    {
     "name": "stdout",
     "output_type": "stream",
     "text": [
      "Got error from yahoo api for ticker SMTS, Error: {'code': 'Not Found', 'description': 'No data found, symbol may be delisted'}\n",
      "- SMTS: No timezone found, symbol may be delisted\n"
     ]
    },
    {
     "name": "stderr",
     "output_type": "stream",
     "text": [
      " 99%|█████████▊| 2725/2762 [23:57<00:17,  2.14it/s]"
     ]
    },
    {
     "name": "stdout",
     "output_type": "stream",
     "text": [
      "SVM: Data doesn't exist for startDate = 1451624400, endDate = 1451970000\n"
     ]
    },
    {
     "name": "stderr",
     "output_type": "stream",
     "text": [
      " 99%|█████████▊| 2726/2762 [23:57<00:14,  2.43it/s]"
     ]
    },
    {
     "name": "stdout",
     "output_type": "stream",
     "text": [
      "SILV: Data doesn't exist for startDate = 1451624400, endDate = 1451970000\n"
     ]
    },
    {
     "name": "stderr",
     "output_type": "stream",
     "text": [
      " 99%|█████████▉| 2732/2762 [24:00<00:13,  2.24it/s]"
     ]
    },
    {
     "name": "stdout",
     "output_type": "stream",
     "text": [
      "Got error from yahoo api for ticker SYN, Error: {'code': 'Not Found', 'description': 'No data found, symbol may be delisted'}\n",
      "- SYN: No timezone found, symbol may be delisted\n"
     ]
    },
    {
     "name": "stderr",
     "output_type": "stream",
     "text": [
      " 99%|█████████▉| 2736/2762 [24:02<00:11,  2.29it/s]"
     ]
    },
    {
     "name": "stdout",
     "output_type": "stream",
     "text": [
      "Got error from yahoo api for ticker TGC, Error: {'code': 'Not Found', 'description': 'No data found, symbol may be delisted'}\n",
      "- TGC: No timezone found, symbol may be delisted\n"
     ]
    },
    {
     "name": "stderr",
     "output_type": "stream",
     "text": [
      " 99%|█████████▉| 2738/2762 [24:03<00:09,  2.51it/s]"
     ]
    },
    {
     "name": "stdout",
     "output_type": "stream",
     "text": [
      "Got error from yahoo api for ticker GGO, Error: {'code': 'Not Found', 'description': 'No data found, symbol may be delisted'}\n",
      "- GGO: No timezone found, symbol may be delisted\n"
     ]
    },
    {
     "name": "stderr",
     "output_type": "stream",
     "text": [
      " 99%|█████████▉| 2742/2762 [24:04<00:06,  2.87it/s]"
     ]
    },
    {
     "name": "stdout",
     "output_type": "stream",
     "text": [
      "Got error from yahoo api for ticker TAT, Error: {'code': 'Not Found', 'description': 'No data found, symbol may be delisted'}\n",
      "- TAT: No timezone found, symbol may be delisted\n",
      "Got error from yahoo api for ticker TRXC, Error: {'code': 'Not Found', 'description': 'No data found, symbol may be delisted'}\n",
      "- TRXC: No timezone found, symbol may be delisted\n"
     ]
    },
    {
     "name": "stderr",
     "output_type": "stream",
     "text": [
      "100%|█████████▉| 2753/2762 [24:11<00:04,  2.13it/s]"
     ]
    },
    {
     "name": "stdout",
     "output_type": "stream",
     "text": [
      "Got error from yahoo api for ticker VOLT, Error: {'code': 'Not Found', 'description': 'No data found, symbol may be delisted'}\n",
      "- VOLT: No timezone found, symbol may be delisted\n"
     ]
    },
    {
     "name": "stderr",
     "output_type": "stream",
     "text": [
      "100%|█████████▉| 2761/2762 [24:16<00:00,  1.91it/s]"
     ]
    },
    {
     "name": "stdout",
     "output_type": "stream",
     "text": [
      "ZDGE: Data doesn't exist for startDate = 1451624400, endDate = 1451970000\n"
     ]
    },
    {
     "name": "stderr",
     "output_type": "stream",
     "text": [
      "100%|██████████| 2762/2762 [24:16<00:00,  1.90it/s]"
     ]
    },
    {
     "name": "stdout",
     "output_type": "stream",
     "text": [
      "ZOM: Data doesn't exist for startDate = 1451624400, endDate = 1451970000\n"
     ]
    },
    {
     "name": "stderr",
     "output_type": "stream",
     "text": [
      "\n"
     ]
    }
   ],
   "source": [
    "#for each symbol in bats_symbols,\n",
    "#Get market cap from Yahoo Finance in 2016\n",
    "import tqdm \n",
    "import yfinance as yf\n",
    "\n",
    "symbol_list = bats_symbols[0].tolist()\n",
    "market_cap_list = []\n",
    "\n",
    "date = \"2016-01-01\"\n",
    "for symbol in tqdm.tqdm(symbol_list):\n",
    "    try:\n",
    "        ticker = yf.Ticker(symbol)\n",
    "        market_cap = get_market_cap(symbol, 2016)\n",
    "        market_cap_list.append(market_cap)\n",
    "    except:\n",
    "        market_cap_list.append(0)"
   ]
  },
  {
   "cell_type": "code",
   "execution_count": 8,
   "metadata": {},
   "outputs": [],
   "source": [
    "#replace None with 0 in market_cap_list\n",
    "market_cap_list = [0 if x is None else x for x in market_cap_list]"
   ]
  },
  {
   "cell_type": "code",
   "execution_count": 9,
   "metadata": {},
   "outputs": [
    {
     "data": {
      "text/plain": [
       "array(['AIV', 'CIO', 'ZOM', ..., 'XOM', 'NSPR', 'CEI'], dtype='<U14')"
      ]
     },
     "execution_count": 9,
     "metadata": {},
     "output_type": "execute_result"
    }
   ],
   "source": [
    "#sort by market cap\n",
    "sorted_symbols = np.array(symbol_list)[np.argsort(market_cap_list)]\n",
    "sorted_symbols"
   ]
  },
  {
   "cell_type": "code",
   "execution_count": null,
   "metadata": {},
   "outputs": [],
   "source": [
    "top500 = sorted_symbols[-500:]\n",
    "\n",
    "#check that all of the symbols still exist\n"
   ]
  },
  {
   "cell_type": "code",
   "execution_count": 31,
   "metadata": {},
   "outputs": [
    {
     "name": "stdout",
     "output_type": "stream",
     "text": [
      "[*********************100%***********************]  1 of 1 completed\n"
     ]
    }
   ],
   "source": [
    "import yfinance as yf\n",
    "\n",
    "# Download historical data for S&P 500 index for the year 2015\n",
    "data = yf.download('^GSPC', start='2015-01-01', end='2015-12-31')\n",
    "\n",
    "# Get the list of tickers of the companies in the S&P 500 index for 2015\n",
    "company_tickers = data"
   ]
  },
  {
   "cell_type": "code",
   "execution_count": 33,
   "metadata": {},
   "outputs": [
    {
     "ename": "AttributeError",
     "evalue": "module 'yfinance' has no attribute 'tickers_sp500'",
     "output_type": "error",
     "traceback": [
      "\u001b[0;31m---------------------------------------------------------------------------\u001b[0m",
      "\u001b[0;31mAttributeError\u001b[0m                            Traceback (most recent call last)",
      "Cell \u001b[0;32mIn[33], line 1\u001b[0m\n\u001b[0;32m----> 1\u001b[0m yf\u001b[39m.\u001b[39;49mtickers_sp500()\n",
      "\u001b[0;31mAttributeError\u001b[0m: module 'yfinance' has no attribute 'tickers_sp500'"
     ]
    }
   ],
   "source": [
    "yf.tickers_sp500()"
   ]
  },
  {
   "cell_type": "code",
   "execution_count": 13,
   "metadata": {},
   "outputs": [
    {
     "name": "stdout",
     "output_type": "stream",
     "text": [
      "^GSPC\n"
     ]
    }
   ],
   "source": [
    "import yfinance as yf\n",
    "\n",
    "# Get a list of all tickers from Yahoo Finance\n",
    "all_tickers = yf.Tickers('^GSPC')  # Choose any valid ticker symbol\n",
    "\n",
    "# Filter tickers based on your requirements\n",
    "filtered_tickers = [ticker for ticker in all_tickers.tickers if True]\n",
    "\n",
    "# Print the filtered tickers\n",
    "for ticker in filtered_tickers:\n",
    "    print(ticker)"
   ]
  },
  {
   "cell_type": "code",
   "execution_count": 1,
   "metadata": {},
   "outputs": [
    {
     "ename": "AttributeError",
     "evalue": "'Ticker' object has no attribute 'components'",
     "output_type": "error",
     "traceback": [
      "\u001b[0;31m---------------------------------------------------------------------------\u001b[0m",
      "\u001b[0;31mAttributeError\u001b[0m                            Traceback (most recent call last)",
      "Cell \u001b[0;32mIn[1], line 31\u001b[0m\n\u001b[1;32m     27\u001b[0m     top_500_stocks \u001b[39m=\u001b[39m sorted_stocks[:\u001b[39m500\u001b[39m]\n\u001b[1;32m     29\u001b[0m     \u001b[39mreturn\u001b[39;00m top_500_stocks\n\u001b[0;32m---> 31\u001b[0m get_500_largest_stocks(\u001b[39m2016\u001b[39;49m)\n",
      "Cell \u001b[0;32mIn[1], line 8\u001b[0m, in \u001b[0;36mget_500_largest_stocks\u001b[0;34m(year)\u001b[0m\n\u001b[1;32m      5\u001b[0m sp500_ticker \u001b[39m=\u001b[39m yf\u001b[39m.\u001b[39mTicker(\u001b[39m'\u001b[39m\u001b[39m^GSPC\u001b[39m\u001b[39m'\u001b[39m)\n\u001b[1;32m      7\u001b[0m \u001b[39m# Get the S&P 500 index components for the specified year\u001b[39;00m\n\u001b[0;32m----> 8\u001b[0m sp500_components \u001b[39m=\u001b[39m sp500_ticker\u001b[39m.\u001b[39;49mcomponents\n\u001b[1;32m     10\u001b[0m \u001b[39m# Filter components based on market cap in the specified year\u001b[39;00m\n\u001b[1;32m     11\u001b[0m filtered_stocks \u001b[39m=\u001b[39m []\n",
      "\u001b[0;31mAttributeError\u001b[0m: 'Ticker' object has no attribute 'components'"
     ]
    }
   ],
   "source": [
    "import yfinance as yf\n",
    "\n",
    "def get_500_largest_stocks(year):\n",
    "    # Get S&P 500 index ticker symbol\n",
    "    sp500_ticker = yf.Ticker('^GSPC')\n",
    "\n",
    "    # Get the S&P 500 index components for the specified year\n",
    "    sp500_components = sp500_ticker.components\n",
    "\n",
    "    # Filter components based on market cap in the specified year\n",
    "    filtered_stocks = []\n",
    "    for symbol in sp500_components.index:\n",
    "        stock = yf.Ticker(symbol)\n",
    "        historical_data = stock.history(start=str(year), end=str(year+1), interval='1d')\n",
    "        if len(historical_data) > 0:\n",
    "            # Calculate market cap as the product of the last close price and outstanding shares\n",
    "            last_close_price = historical_data['Close'][-1]\n",
    "            outstanding_shares = stock.info['sharesOutstanding']\n",
    "            market_cap = last_close_price * outstanding_shares\n",
    "\n",
    "            filtered_stocks.append((symbol, market_cap))\n",
    "\n",
    "    # Sort the stocks based on market cap in descending order\n",
    "    sorted_stocks = sorted(filtered_stocks, key=lambda x: x[1], reverse=True)\n",
    "\n",
    "    # Get the top 500 stocks\n",
    "    top_500_stocks = sorted_stocks[:500]\n",
    "\n",
    "    return top_500_stocks\n",
    "\n",
    "get_500_largest_stocks(2016)\n"
   ]
  },
  {
   "cell_type": "code",
   "execution_count": 3,
   "metadata": {},
   "outputs": [
    {
     "ename": "KeyError",
     "evalue": "'Symbol'",
     "output_type": "error",
     "traceback": [
      "\u001b[0;31m---------------------------------------------------------------------------\u001b[0m",
      "\u001b[0;31mKeyError\u001b[0m                                  Traceback (most recent call last)",
      "File \u001b[0;32m~/opt/anaconda3/envs/trading_modeling/lib/python3.11/site-packages/pandas/core/indexes/base.py:3652\u001b[0m, in \u001b[0;36mIndex.get_loc\u001b[0;34m(self, key)\u001b[0m\n\u001b[1;32m   3651\u001b[0m \u001b[39mtry\u001b[39;00m:\n\u001b[0;32m-> 3652\u001b[0m     \u001b[39mreturn\u001b[39;00m \u001b[39mself\u001b[39;49m\u001b[39m.\u001b[39;49m_engine\u001b[39m.\u001b[39;49mget_loc(casted_key)\n\u001b[1;32m   3653\u001b[0m \u001b[39mexcept\u001b[39;00m \u001b[39mKeyError\u001b[39;00m \u001b[39mas\u001b[39;00m err:\n",
      "File \u001b[0;32m~/opt/anaconda3/envs/trading_modeling/lib/python3.11/site-packages/pandas/_libs/index.pyx:147\u001b[0m, in \u001b[0;36mpandas._libs.index.IndexEngine.get_loc\u001b[0;34m()\u001b[0m\n",
      "File \u001b[0;32m~/opt/anaconda3/envs/trading_modeling/lib/python3.11/site-packages/pandas/_libs/index.pyx:176\u001b[0m, in \u001b[0;36mpandas._libs.index.IndexEngine.get_loc\u001b[0;34m()\u001b[0m\n",
      "File \u001b[0;32mpandas/_libs/hashtable_class_helper.pxi:7080\u001b[0m, in \u001b[0;36mpandas._libs.hashtable.PyObjectHashTable.get_item\u001b[0;34m()\u001b[0m\n",
      "File \u001b[0;32mpandas/_libs/hashtable_class_helper.pxi:7088\u001b[0m, in \u001b[0;36mpandas._libs.hashtable.PyObjectHashTable.get_item\u001b[0;34m()\u001b[0m\n",
      "\u001b[0;31mKeyError\u001b[0m: 'Symbol'",
      "\nThe above exception was the direct cause of the following exception:\n",
      "\u001b[0;31mKeyError\u001b[0m                                  Traceback (most recent call last)",
      "Cell \u001b[0;32mIn[3], line 1\u001b[0m\n\u001b[0;32m----> 1\u001b[0m sp500_components \u001b[39m=\u001b[39m yf\u001b[39m.\u001b[39;49mdownload(\u001b[39m'\u001b[39;49m\u001b[39m^GSPC\u001b[39;49m\u001b[39m'\u001b[39;49m, start\u001b[39m=\u001b[39;49m\u001b[39mstr\u001b[39;49m(\u001b[39m\"\u001b[39;49m\u001b[39m2016-1-1\u001b[39;49m\u001b[39m\"\u001b[39;49m), end\u001b[39m=\u001b[39;49m\u001b[39mstr\u001b[39;49m(\u001b[39m\"\u001b[39;49m\u001b[39m2017-1-1\u001b[39;49m\u001b[39m\"\u001b[39;49m), progress\u001b[39m=\u001b[39;49m\u001b[39mFalse\u001b[39;49;00m)[\u001b[39m'\u001b[39;49m\u001b[39mSymbol\u001b[39;49m\u001b[39m'\u001b[39;49m]\u001b[39m.\u001b[39mtolist()\n",
      "File \u001b[0;32m~/opt/anaconda3/envs/trading_modeling/lib/python3.11/site-packages/pandas/core/frame.py:3761\u001b[0m, in \u001b[0;36mDataFrame.__getitem__\u001b[0;34m(self, key)\u001b[0m\n\u001b[1;32m   3759\u001b[0m \u001b[39mif\u001b[39;00m \u001b[39mself\u001b[39m\u001b[39m.\u001b[39mcolumns\u001b[39m.\u001b[39mnlevels \u001b[39m>\u001b[39m \u001b[39m1\u001b[39m:\n\u001b[1;32m   3760\u001b[0m     \u001b[39mreturn\u001b[39;00m \u001b[39mself\u001b[39m\u001b[39m.\u001b[39m_getitem_multilevel(key)\n\u001b[0;32m-> 3761\u001b[0m indexer \u001b[39m=\u001b[39m \u001b[39mself\u001b[39;49m\u001b[39m.\u001b[39;49mcolumns\u001b[39m.\u001b[39;49mget_loc(key)\n\u001b[1;32m   3762\u001b[0m \u001b[39mif\u001b[39;00m is_integer(indexer):\n\u001b[1;32m   3763\u001b[0m     indexer \u001b[39m=\u001b[39m [indexer]\n",
      "File \u001b[0;32m~/opt/anaconda3/envs/trading_modeling/lib/python3.11/site-packages/pandas/core/indexes/base.py:3654\u001b[0m, in \u001b[0;36mIndex.get_loc\u001b[0;34m(self, key)\u001b[0m\n\u001b[1;32m   3652\u001b[0m     \u001b[39mreturn\u001b[39;00m \u001b[39mself\u001b[39m\u001b[39m.\u001b[39m_engine\u001b[39m.\u001b[39mget_loc(casted_key)\n\u001b[1;32m   3653\u001b[0m \u001b[39mexcept\u001b[39;00m \u001b[39mKeyError\u001b[39;00m \u001b[39mas\u001b[39;00m err:\n\u001b[0;32m-> 3654\u001b[0m     \u001b[39mraise\u001b[39;00m \u001b[39mKeyError\u001b[39;00m(key) \u001b[39mfrom\u001b[39;00m \u001b[39merr\u001b[39;00m\n\u001b[1;32m   3655\u001b[0m \u001b[39mexcept\u001b[39;00m \u001b[39mTypeError\u001b[39;00m:\n\u001b[1;32m   3656\u001b[0m     \u001b[39m# If we have a listlike key, _check_indexing_error will raise\u001b[39;00m\n\u001b[1;32m   3657\u001b[0m     \u001b[39m#  InvalidIndexError. Otherwise we fall through and re-raise\u001b[39;00m\n\u001b[1;32m   3658\u001b[0m     \u001b[39m#  the TypeError.\u001b[39;00m\n\u001b[1;32m   3659\u001b[0m     \u001b[39mself\u001b[39m\u001b[39m.\u001b[39m_check_indexing_error(key)\n",
      "\u001b[0;31mKeyError\u001b[0m: 'Symbol'"
     ]
    }
   ],
   "source": [
    "sp500_components = yf.download('^GSPC', start=str(\"2016-1-1\"), end=str(\"2017-1-1\"), progress=False)['Symbol'].tolist()\n"
   ]
  },
  {
   "cell_type": "code",
   "execution_count": null,
   "metadata": {},
   "outputs": [],
   "source": []
  }
 ],
 "metadata": {
  "kernelspec": {
   "display_name": "trading_modeling",
   "language": "python",
   "name": "python3"
  },
  "language_info": {
   "codemirror_mode": {
    "name": "ipython",
    "version": 3
   },
   "file_extension": ".py",
   "mimetype": "text/x-python",
   "name": "python",
   "nbconvert_exporter": "python",
   "pygments_lexer": "ipython3",
   "version": "3.11.3"
  },
  "orig_nbformat": 4
 },
 "nbformat": 4,
 "nbformat_minor": 2
}
